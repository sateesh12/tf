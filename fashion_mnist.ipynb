{
  "cells": [
    {
      "cell_type": "markdown",
      "metadata": {
        "id": "view-in-github",
        "colab_type": "text"
      },
      "source": [
        "<a href=\"https://colab.research.google.com/github/sateesh12/tf/blob/main/fashion_mnist.ipynb\" target=\"_parent\"><img src=\"https://colab.research.google.com/assets/colab-badge.svg\" alt=\"Open In Colab\"/></a>"
      ]
    },
    {
      "cell_type": "code",
      "execution_count": null,
      "id": "a0791e7d",
      "metadata": {
        "id": "a0791e7d",
        "outputId": "da0ea17e-dc47-4a30-a683-ed3775f8d231",
        "colab": {
          "base_uri": "https://localhost:8080/"
        }
      },
      "outputs": [
        {
          "output_type": "stream",
          "name": "stdout",
          "text": [
            "2.12.0\n",
            "2.12.0\n",
            "[name: \"/device:CPU:0\"\n",
            "device_type: \"CPU\"\n",
            "memory_limit: 268435456\n",
            "locality {\n",
            "}\n",
            "incarnation: 10213095986035480693\n",
            "xla_global_id: -1\n",
            "]\n"
          ]
        }
      ],
      "source": [
        "import tensorflow as tf\n",
        "from tensorflow.keras.datasets import fashion_mnist\n",
        "import numpy as np\n",
        "import os\n",
        "import matplotlib.pyplot as plt\n",
        "import keras\n",
        "print(tf.__version__)\n",
        "from keras.layers import Activation, Dense\n",
        "print(keras.__version__)\n",
        "from tensorflow.python.client import device_lib\n",
        "print(device_lib.list_local_devices())"
      ]
    },
    {
      "cell_type": "code",
      "execution_count": null,
      "id": "8c4e1b9a",
      "metadata": {
        "id": "8c4e1b9a",
        "outputId": "2f0e08bd-6902-4ec1-a8bd-55481270aa20",
        "colab": {
          "base_uri": "https://localhost:8080/",
          "height": 1000
        }
      },
      "outputs": [
        {
          "output_type": "stream",
          "name": "stdout",
          "text": [
            "stats about training data\n",
            "(60000, 28, 28)\n",
            "(60000,)\n",
            "stats about test data\n",
            "(10000, 28, 28)\n",
            "(10000,)\n",
            "A single training data and its label\n",
            "Output Label 9\n",
            "Raw input\n",
            " [[  0   0   0   0   0   0   0   0   0   0   0   0   0   0   0   0   0   0\n",
            "    0   0   0   0   0   0   0   0   0   0]\n",
            " [  0   0   0   0   0   0   0   0   0   0   0   0   0   0   0   0   0   0\n",
            "    0   0   0   0   0   0   0   0   0   0]\n",
            " [  0   0   0   0   0   0   0   0   0   0   0   0   0   0   0   0   0   0\n",
            "    0   0   0   0   0   0   0   0   0   0]\n",
            " [  0   0   0   0   0   0   0   0   0   0   0   0   1   0   0  13  73   0\n",
            "    0   1   4   0   0   0   0   1   1   0]\n",
            " [  0   0   0   0   0   0   0   0   0   0   0   0   3   0  36 136 127  62\n",
            "   54   0   0   0   1   3   4   0   0   3]\n",
            " [  0   0   0   0   0   0   0   0   0   0   0   0   6   0 102 204 176 134\n",
            "  144 123  23   0   0   0   0  12  10   0]\n",
            " [  0   0   0   0   0   0   0   0   0   0   0   0   0   0 155 236 207 178\n",
            "  107 156 161 109  64  23  77 130  72  15]\n",
            " [  0   0   0   0   0   0   0   0   0   0   0   1   0  69 207 223 218 216\n",
            "  216 163 127 121 122 146 141  88 172  66]\n",
            " [  0   0   0   0   0   0   0   0   0   1   1   1   0 200 232 232 233 229\n",
            "  223 223 215 213 164 127 123 196 229   0]\n",
            " [  0   0   0   0   0   0   0   0   0   0   0   0   0 183 225 216 223 228\n",
            "  235 227 224 222 224 221 223 245 173   0]\n",
            " [  0   0   0   0   0   0   0   0   0   0   0   0   0 193 228 218 213 198\n",
            "  180 212 210 211 213 223 220 243 202   0]\n",
            " [  0   0   0   0   0   0   0   0   0   1   3   0  12 219 220 212 218 192\n",
            "  169 227 208 218 224 212 226 197 209  52]\n",
            " [  0   0   0   0   0   0   0   0   0   0   6   0  99 244 222 220 218 203\n",
            "  198 221 215 213 222 220 245 119 167  56]\n",
            " [  0   0   0   0   0   0   0   0   0   4   0   0  55 236 228 230 228 240\n",
            "  232 213 218 223 234 217 217 209  92   0]\n",
            " [  0   0   1   4   6   7   2   0   0   0   0   0 237 226 217 223 222 219\n",
            "  222 221 216 223 229 215 218 255  77   0]\n",
            " [  0   3   0   0   0   0   0   0   0  62 145 204 228 207 213 221 218 208\n",
            "  211 218 224 223 219 215 224 244 159   0]\n",
            " [  0   0   0   0  18  44  82 107 189 228 220 222 217 226 200 205 211 230\n",
            "  224 234 176 188 250 248 233 238 215   0]\n",
            " [  0  57 187 208 224 221 224 208 204 214 208 209 200 159 245 193 206 223\n",
            "  255 255 221 234 221 211 220 232 246   0]\n",
            " [  3 202 228 224 221 211 211 214 205 205 205 220 240  80 150 255 229 221\n",
            "  188 154 191 210 204 209 222 228 225   0]\n",
            " [ 98 233 198 210 222 229 229 234 249 220 194 215 217 241  65  73 106 117\n",
            "  168 219 221 215 217 223 223 224 229  29]\n",
            " [ 75 204 212 204 193 205 211 225 216 185 197 206 198 213 240 195 227 245\n",
            "  239 223 218 212 209 222 220 221 230  67]\n",
            " [ 48 203 183 194 213 197 185 190 194 192 202 214 219 221 220 236 225 216\n",
            "  199 206 186 181 177 172 181 205 206 115]\n",
            " [  0 122 219 193 179 171 183 196 204 210 213 207 211 210 200 196 194 191\n",
            "  195 191 198 192 176 156 167 177 210  92]\n",
            " [  0   0  74 189 212 191 175 172 175 181 185 188 189 188 193 198 204 209\n",
            "  210 210 211 188 188 194 192 216 170   0]\n",
            " [  2   0   0   0  66 200 222 237 239 242 246 243 244 221 220 193 191 179\n",
            "  182 182 181 176 166 168  99  58   0   0]\n",
            " [  0   0   0   0   0   0   0  40  61  44  72  41  35   0   0   0   0   0\n",
            "    0   0   0   0   0   0   0   0   0   0]\n",
            " [  0   0   0   0   0   0   0   0   0   0   0   0   0   0   0   0   0   0\n",
            "    0   0   0   0   0   0   0   0   0   0]\n",
            " [  0   0   0   0   0   0   0   0   0   0   0   0   0   0   0   0   0   0\n",
            "    0   0   0   0   0   0   0   0   0   0]]\n"
          ]
        },
        {
          "output_type": "display_data",
          "data": {
            "text/plain": [
              "<Figure size 640x480 with 1 Axes>"
            ],
            "image/png": "[encoded data removed]"
          },
          "metadata": {}
        }
      ],
      "source": [
        "(X_train, y_train) , (X_test, y_test) = fashion_mnist.load_data()\n",
        "plt.imshow(X_train[0])\n",
        "\n",
        "\n",
        "print(\"stats about training data\")\n",
        "print(X_train.shape)\n",
        "print(y_train.shape)\n",
        "\n",
        "print(\"stats about test data\")\n",
        "print(X_test.shape)\n",
        "print(y_test.shape)\n",
        "\n",
        "print('A single training data and its label')\n",
        "print('Output Label',y_train[0])\n",
        "print('Raw input\\n',X_train[0])"
      ]
    },
    {
      "cell_type": "code",
      "execution_count": null,
      "id": "127cd113",
      "metadata": {
        "id": "127cd113"
      },
      "outputs": [],
      "source": [
        "# Scale the input test and training data.\n",
        "X_train, X_test = X_train.astype('float32') / 255. , X_test.astype('float32') / 255."
      ]
    },
    {
      "cell_type": "code",
      "execution_count": null,
      "id": "26b14d03",
      "metadata": {
        "id": "26b14d03",
        "outputId": "cb462c34-05cf-46ba-9c4f-7a5660d157a9",
        "colab": {
          "base_uri": "https://localhost:8080/"
        }
      },
      "outputs": [
        {
          "output_type": "stream",
          "name": "stdout",
          "text": [
            "Scaled version\n",
            "[[0.         0.         0.         0.         0.         0.\n",
            "  0.         0.         0.         0.         0.         0.\n",
            "  0.         0.         0.         0.         0.         0.\n",
            "  0.         0.         0.         0.         0.         0.\n",
            "  0.         0.         0.         0.        ]\n",
            " [0.         0.         0.         0.         0.         0.\n",
            "  0.         0.         0.         0.         0.         0.\n",
            "  0.         0.         0.         0.         0.         0.\n",
            "  0.         0.         0.         0.         0.         0.\n",
            "  0.         0.         0.         0.        ]\n",
            " [0.         0.         0.         0.         0.         0.\n",
            "  0.         0.         0.         0.         0.         0.\n",
            "  0.         0.         0.         0.         0.         0.\n",
            "  0.         0.         0.         0.         0.         0.\n",
            "  0.         0.         0.         0.        ]\n",
            " [0.         0.         0.         0.         0.         0.\n",
            "  0.         0.         0.         0.         0.         0.\n",
            "  0.00392157 0.         0.         0.05098039 0.28627452 0.\n",
            "  0.         0.00392157 0.01568628 0.         0.         0.\n",
            "  0.         0.00392157 0.00392157 0.        ]\n",
            " [0.         0.         0.         0.         0.         0.\n",
            "  0.         0.         0.         0.         0.         0.\n",
            "  0.01176471 0.         0.14117648 0.53333336 0.49803922 0.24313726\n",
            "  0.21176471 0.         0.         0.         0.00392157 0.01176471\n",
            "  0.01568628 0.         0.         0.01176471]\n",
            " [0.         0.         0.         0.         0.         0.\n",
            "  0.         0.         0.         0.         0.         0.\n",
            "  0.02352941 0.         0.4        0.8        0.6901961  0.5254902\n",
            "  0.5647059  0.48235294 0.09019608 0.         0.         0.\n",
            "  0.         0.04705882 0.03921569 0.        ]\n",
            " [0.         0.         0.         0.         0.         0.\n",
            "  0.         0.         0.         0.         0.         0.\n",
            "  0.         0.         0.60784316 0.9254902  0.8117647  0.69803923\n",
            "  0.41960785 0.6117647  0.6313726  0.42745098 0.2509804  0.09019608\n",
            "  0.3019608  0.50980395 0.28235295 0.05882353]\n",
            " [0.         0.         0.         0.         0.         0.\n",
            "  0.         0.         0.         0.         0.         0.00392157\n",
            "  0.         0.27058825 0.8117647  0.8745098  0.85490197 0.84705883\n",
            "  0.84705883 0.6392157  0.49803922 0.4745098  0.47843137 0.57254905\n",
            "  0.5529412  0.34509805 0.6745098  0.25882354]\n",
            " [0.         0.         0.         0.         0.         0.\n",
            "  0.         0.         0.         0.00392157 0.00392157 0.00392157\n",
            "  0.         0.78431374 0.9098039  0.9098039  0.9137255  0.8980392\n",
            "  0.8745098  0.8745098  0.84313726 0.8352941  0.6431373  0.49803922\n",
            "  0.48235294 0.76862746 0.8980392  0.        ]\n",
            " [0.         0.         0.         0.         0.         0.\n",
            "  0.         0.         0.         0.         0.         0.\n",
            "  0.         0.7176471  0.88235295 0.84705883 0.8745098  0.89411765\n",
            "  0.92156863 0.8901961  0.8784314  0.87058824 0.8784314  0.8666667\n",
            "  0.8745098  0.9607843  0.6784314  0.        ]\n",
            " [0.         0.         0.         0.         0.         0.\n",
            "  0.         0.         0.         0.         0.         0.\n",
            "  0.         0.75686276 0.89411765 0.85490197 0.8352941  0.7764706\n",
            "  0.7058824  0.83137256 0.8235294  0.827451   0.8352941  0.8745098\n",
            "  0.8627451  0.9529412  0.7921569  0.        ]\n",
            " [0.         0.         0.         0.         0.         0.\n",
            "  0.         0.         0.         0.00392157 0.01176471 0.\n",
            "  0.04705882 0.85882354 0.8627451  0.83137256 0.85490197 0.7529412\n",
            "  0.6627451  0.8901961  0.8156863  0.85490197 0.8784314  0.83137256\n",
            "  0.8862745  0.77254903 0.81960785 0.20392157]\n",
            " [0.         0.         0.         0.         0.         0.\n",
            "  0.         0.         0.         0.         0.02352941 0.\n",
            "  0.3882353  0.95686275 0.87058824 0.8627451  0.85490197 0.79607844\n",
            "  0.7764706  0.8666667  0.84313726 0.8352941  0.87058824 0.8627451\n",
            "  0.9607843  0.46666667 0.654902   0.21960784]\n",
            " [0.         0.         0.         0.         0.         0.\n",
            "  0.         0.         0.         0.01568628 0.         0.\n",
            "  0.21568628 0.9254902  0.89411765 0.9019608  0.89411765 0.9411765\n",
            "  0.9098039  0.8352941  0.85490197 0.8745098  0.91764706 0.8509804\n",
            "  0.8509804  0.81960785 0.36078432 0.        ]\n",
            " [0.         0.         0.00392157 0.01568628 0.02352941 0.02745098\n",
            "  0.00784314 0.         0.         0.         0.         0.\n",
            "  0.92941177 0.8862745  0.8509804  0.8745098  0.87058824 0.85882354\n",
            "  0.87058824 0.8666667  0.84705883 0.8745098  0.8980392  0.84313726\n",
            "  0.85490197 1.         0.3019608  0.        ]\n",
            " [0.         0.01176471 0.         0.         0.         0.\n",
            "  0.         0.         0.         0.24313726 0.5686275  0.8\n",
            "  0.89411765 0.8117647  0.8352941  0.8666667  0.85490197 0.8156863\n",
            "  0.827451   0.85490197 0.8784314  0.8745098  0.85882354 0.84313726\n",
            "  0.8784314  0.95686275 0.62352943 0.        ]\n",
            " [0.         0.         0.         0.         0.07058824 0.17254902\n",
            "  0.32156864 0.41960785 0.7411765  0.89411765 0.8627451  0.87058824\n",
            "  0.8509804  0.8862745  0.78431374 0.8039216  0.827451   0.9019608\n",
            "  0.8784314  0.91764706 0.6901961  0.7372549  0.98039216 0.972549\n",
            "  0.9137255  0.93333334 0.84313726 0.        ]\n",
            " [0.         0.22352941 0.73333335 0.8156863  0.8784314  0.8666667\n",
            "  0.8784314  0.8156863  0.8        0.8392157  0.8156863  0.81960785\n",
            "  0.78431374 0.62352943 0.9607843  0.75686276 0.80784315 0.8745098\n",
            "  1.         1.         0.8666667  0.91764706 0.8666667  0.827451\n",
            "  0.8627451  0.9098039  0.9647059  0.        ]\n",
            " [0.01176471 0.7921569  0.89411765 0.8784314  0.8666667  0.827451\n",
            "  0.827451   0.8392157  0.8039216  0.8039216  0.8039216  0.8627451\n",
            "  0.9411765  0.3137255  0.5882353  1.         0.8980392  0.8666667\n",
            "  0.7372549  0.6039216  0.7490196  0.8235294  0.8        0.81960785\n",
            "  0.87058824 0.89411765 0.88235295 0.        ]\n",
            " [0.38431373 0.9137255  0.7764706  0.8235294  0.87058824 0.8980392\n",
            "  0.8980392  0.91764706 0.9764706  0.8627451  0.7607843  0.84313726\n",
            "  0.8509804  0.94509804 0.25490198 0.28627452 0.41568628 0.45882353\n",
            "  0.65882355 0.85882354 0.8666667  0.84313726 0.8509804  0.8745098\n",
            "  0.8745098  0.8784314  0.8980392  0.11372549]\n",
            " [0.29411766 0.8        0.83137256 0.8        0.75686276 0.8039216\n",
            "  0.827451   0.88235295 0.84705883 0.7254902  0.77254903 0.80784315\n",
            "  0.7764706  0.8352941  0.9411765  0.7647059  0.8901961  0.9607843\n",
            "  0.9372549  0.8745098  0.85490197 0.83137256 0.81960785 0.87058824\n",
            "  0.8627451  0.8666667  0.9019608  0.2627451 ]\n",
            " [0.1882353  0.79607844 0.7176471  0.7607843  0.8352941  0.77254903\n",
            "  0.7254902  0.74509805 0.7607843  0.7529412  0.7921569  0.8392157\n",
            "  0.85882354 0.8666667  0.8627451  0.9254902  0.88235295 0.84705883\n",
            "  0.78039217 0.80784315 0.7294118  0.70980394 0.69411767 0.6745098\n",
            "  0.70980394 0.8039216  0.80784315 0.4509804 ]\n",
            " [0.         0.47843137 0.85882354 0.75686276 0.7019608  0.67058825\n",
            "  0.7176471  0.76862746 0.8        0.8235294  0.8352941  0.8117647\n",
            "  0.827451   0.8235294  0.78431374 0.76862746 0.7607843  0.7490196\n",
            "  0.7647059  0.7490196  0.7764706  0.7529412  0.6901961  0.6117647\n",
            "  0.654902   0.69411767 0.8235294  0.36078432]\n",
            " [0.         0.         0.2901961  0.7411765  0.83137256 0.7490196\n",
            "  0.6862745  0.6745098  0.6862745  0.70980394 0.7254902  0.7372549\n",
            "  0.7411765  0.7372549  0.75686276 0.7764706  0.8        0.81960785\n",
            "  0.8235294  0.8235294  0.827451   0.7372549  0.7372549  0.7607843\n",
            "  0.7529412  0.84705883 0.6666667  0.        ]\n",
            " [0.00784314 0.         0.         0.         0.25882354 0.78431374\n",
            "  0.87058824 0.92941177 0.9372549  0.9490196  0.9647059  0.9529412\n",
            "  0.95686275 0.8666667  0.8627451  0.75686276 0.7490196  0.7019608\n",
            "  0.7137255  0.7137255  0.70980394 0.6901961  0.6509804  0.65882355\n",
            "  0.3882353  0.22745098 0.         0.        ]\n",
            " [0.         0.         0.         0.         0.         0.\n",
            "  0.         0.15686275 0.23921569 0.17254902 0.28235295 0.16078432\n",
            "  0.13725491 0.         0.         0.         0.         0.\n",
            "  0.         0.         0.         0.         0.         0.\n",
            "  0.         0.         0.         0.        ]\n",
            " [0.         0.         0.         0.         0.         0.\n",
            "  0.         0.         0.         0.         0.         0.\n",
            "  0.         0.         0.         0.         0.         0.\n",
            "  0.         0.         0.         0.         0.         0.\n",
            "  0.         0.         0.         0.        ]\n",
            " [0.         0.         0.         0.         0.         0.\n",
            "  0.         0.         0.         0.         0.         0.\n",
            "  0.         0.         0.         0.         0.         0.\n",
            "  0.         0.         0.         0.         0.         0.\n",
            "  0.         0.         0.         0.        ]]\n"
          ]
        }
      ],
      "source": [
        "print('Scaled version')\n",
        "print(X_train[0])"
      ]
    },
    {
      "cell_type": "code",
      "execution_count": null,
      "id": "434f0f87",
      "metadata": {
        "id": "434f0f87",
        "outputId": "02df1963-fcba-4b28-fcac-d3789b363bd4",
        "colab": {
          "base_uri": "https://localhost:8080/",
          "height": 448
        }
      },
      "outputs": [
        {
          "output_type": "execute_result",
          "data": {
            "text/plain": [
              "<matplotlib.image.AxesImage at 0x79f9f07250c0>"
            ]
          },
          "metadata": {},
          "execution_count": 7
        },
        {
          "output_type": "display_data",
          "data": {
            "text/plain": [
              "<Figure size 640x480 with 1 Axes>"
            ],
            "image/png": "[encoded data removed]"
          },
          "metadata": {}
        }
      ],
      "source": [
        "plt.imshow(X_train[0])"
      ]
    },
    {
      "cell_type": "code",
      "execution_count": null,
      "id": "23414a61",
      "metadata": {
        "id": "23414a61",
        "outputId": "d4c88001-9067-44b9-aeb5-4bbbd9bb2bdf",
        "colab": {
          "base_uri": "https://localhost:8080/"
        }
      },
      "outputs": [
        {
          "output_type": "stream",
          "name": "stdout",
          "text": [
            "(60000, 784)\n",
            "(10000, 784)\n"
          ]
        }
      ],
      "source": [
        "# Convert from a 2D matrix to a single column vector\n",
        "X_train = X_train.reshape(X_train.shape[0], 28 * 28)\n",
        "X_test  = X_test.reshape(X_test.shape[0], 28 * 28)\n",
        "print(X_train.shape)\n",
        "print(X_test.shape)"
      ]
    },
    {
      "cell_type": "code",
      "execution_count": null,
      "id": "18bc6489",
      "metadata": {
        "id": "18bc6489"
      },
      "outputs": [],
      "source": [
        "# Create a directory to store the model\n",
        "if not os.path.exists('models'):\n",
        "    os.makedirs('models')"
      ]
    },
    {
      "cell_type": "code",
      "execution_count": null,
      "id": "a07d78f4",
      "metadata": {
        "id": "a07d78f4"
      },
      "outputs": [],
      "source": [
        "train_set = (X_train, y_train)\n",
        "test_set  = (X_test,y_test)"
      ]
    },
    {
      "cell_type": "code",
      "execution_count": null,
      "id": "7a721403",
      "metadata": {
        "id": "7a721403",
        "outputId": "b29441dd-d159-4c2a-939f-0cc48251b2d5",
        "colab": {
          "base_uri": "https://localhost:8080/"
        }
      },
      "outputs": [
        {
          "output_type": "stream",
          "name": "stdout",
          "text": [
            "Model: \"sequential\"\n",
            "_________________________________________________________________\n",
            " Layer (type)                Output Shape              Param #   \n",
            "=================================================================\n",
            " dense (Dense)               (None, 10)                7850      \n",
            "                                                                 \n",
            "=================================================================\n",
            "Total params: 7,850\n",
            "Trainable params: 7,850\n",
            "Non-trainable params: 0\n",
            "_________________________________________________________________\n",
            "None\n"
          ]
        }
      ],
      "source": [
        "tf.random.set_seed(42)\n",
        "mnist_fashion_model = tf.keras.Sequential()\n",
        "mnist_fashion_model.add(Dense(10, input_shape = (784,), activation='sigmoid'))\n",
        "print(mnist_fashion_model.summary())"
      ]
    },
    {
      "cell_type": "code",
      "execution_count": null,
      "id": "52a31799",
      "metadata": {
        "id": "52a31799",
        "outputId": "1e80ddad-0186-45d4-9961-e835c85ef185",
        "colab": {
          "base_uri": "https://localhost:8080/",
          "height": 399
        }
      },
      "outputs": [
        {
          "output_type": "stream",
          "name": "stdout",
          "text": [
            "Epoch 1/10\n",
            "10/10 [==============================] - 1s 69ms/step - loss: 7.8969 - accuracy: 0.4129 - val_loss: 4.3797 - val_accuracy: 0.6893\n",
            "Epoch 2/10\n",
            "10/10 [==============================] - 0s 43ms/step - loss: 3.7356 - accuracy: 0.7001 - val_loss: 2.1513 - val_accuracy: 0.7376\n",
            "Epoch 3/10\n",
            "10/10 [==============================] - 0s 47ms/step - loss: 2.0950 - accuracy: 0.7561 - val_loss: 1.8299 - val_accuracy: 0.7858\n",
            "Epoch 4/10\n",
            "10/10 [==============================] - 1s 53ms/step - loss: 1.5223 - accuracy: 0.8051 - val_loss: 1.3876 - val_accuracy: 0.8002\n",
            "Epoch 5/10\n",
            "10/10 [==============================] - 1s 60ms/step - loss: 1.1159 - accuracy: 0.8185 - val_loss: 1.0786 - val_accuracy: 0.8169\n",
            "Epoch 6/10\n",
            "10/10 [==============================] - 1s 52ms/step - loss: 0.8600 - accuracy: 0.8295 - val_loss: 0.8581 - val_accuracy: 0.8184\n",
            "Epoch 7/10\n",
            "10/10 [==============================] - 1s 57ms/step - loss: 0.7150 - accuracy: 0.8351 - val_loss: 0.7256 - val_accuracy: 0.8268\n",
            "Epoch 8/10\n",
            "10/10 [==============================] - 1s 69ms/step - loss: 0.6091 - accuracy: 0.8440 - val_loss: 0.6445 - val_accuracy: 0.8304\n",
            "Epoch 9/10\n",
            "10/10 [==============================] - 0s 38ms/step - loss: 0.5364 - accuracy: 0.8478 - val_loss: 0.5743 - val_accuracy: 0.8283\n",
            "Epoch 10/10\n",
            "10/10 [==============================] - 0s 34ms/step - loss: 0.4799 - accuracy: 0.8531 - val_loss: 0.5336 - val_accuracy: 0.8359\n"
          ]
        },
        {
          "output_type": "execute_result",
          "data": {
            "text/plain": [
              "\"\\nprint(history.params)\\nprint(history.history.keys)\\nprint(history.history['loss'])\\nprint(history.history['val_loss'])\\n\""
            ],
            "application/vnd.google.colaboratory.intrinsic+json": {
              "type": "string"
            }
          },
          "metadata": {},
          "execution_count": 12
        }
      ],
      "source": [
        "# Model tuning parameters\n",
        "tune_epochs = 10\n",
        "tune_batch_size = 6000\n",
        "tune_learning_rate = 0.1\n",
        "mnist_fashion_model.compile(optimizer=tf.keras.optimizers.Adam(learning_rate=tune_learning_rate),\n",
        "             loss=tf.keras.losses.SparseCategoricalCrossentropy(from_logits=False),\n",
        "             metrics=['accuracy'],\n",
        "             )\n",
        "checkpoint_callback = tf.keras.callbacks.ModelCheckpoint('/models/fashion_mnist_final.h5',monitor='val_accuracy',\n",
        "                                                        save_best_only=True,mode='max')\n",
        "history = mnist_fashion_model.fit(train_set[0], train_set[1], batch_size = tune_batch_size, epochs=tune_epochs,validation_data=test_set,\n",
        "                   callbacks=[checkpoint_callback])\n",
        "'''\n",
        "print(history.params)\n",
        "print(history.history.keys)\n",
        "print(history.history['loss'])\n",
        "print(history.history['val_loss'])\n",
        "'''"
      ]
    },
    {
      "cell_type": "code",
      "execution_count": null,
      "id": "3888880a",
      "metadata": {
        "id": "3888880a",
        "outputId": "ec70bfc6-6846-433a-8419-2b5ed9c0e7ce",
        "colab": {
          "base_uri": "https://localhost:8080/",
          "height": 465
        }
      },
      "outputs": [
        {
          "output_type": "display_data",
          "data": {
            "text/plain": [
              "<Figure size 1500x500 with 1 Axes>"
            ],
            "image/png": "[encoded data removed]"
          },
          "metadata": {}
        }
      ],
      "source": [
        "plt.figure(figsize=[15,5])\n",
        "plt.plot(history.history['loss'], 'g')\n",
        "plt.plot(history.history['val_loss'], 'b')\n",
        "\n",
        "plt.xlabel('Epochs')\n",
        "plt.ylabel('Loss')\n",
        "\n",
        "plt.legend(['Training', 'Validation'], loc='upper right');\n",
        "plt.grid(True)"
      ]
    },
    {
      "cell_type": "code",
      "execution_count": null,
      "id": "952ed112",
      "metadata": {
        "id": "952ed112",
        "outputId": "f82fe23b-fee4-4c70-8b00-9bba3d3a0724",
        "colab": {
          "base_uri": "https://localhost:8080/",
          "height": 217
        }
      },
      "outputs": [
        {
          "output_type": "stream",
          "name": "stdout",
          "text": [
            "313/313 [==============================] - 1s 2ms/step - loss: 0.5336 - accuracy: 0.8359\n"
          ]
        },
        {
          "output_type": "error",
          "ename": "AssertionError",
          "evalue": "ignored",
          "traceback": [
            "\u001b[0;31m---------------------------------------------------------------------------\u001b[0m",
            "\u001b[0;31mAssertionError\u001b[0m                            Traceback (most recent call last)",
            "\u001b[0;32m<ipython-input-14-b4e629eb52c5>\u001b[0m in \u001b[0;36m<cell line: 2>\u001b[0;34m()\u001b[0m\n\u001b[1;32m      1\u001b[0m \u001b[0;31m# Check the performance of the model\u001b[0m\u001b[0;34m\u001b[0m\u001b[0;34m\u001b[0m\u001b[0m\n\u001b[0;32m----> 2\u001b[0;31m \u001b[0;32massert\u001b[0m \u001b[0mmnist_fashion_model\u001b[0m\u001b[0;34m.\u001b[0m\u001b[0mevaluate\u001b[0m\u001b[0;34m(\u001b[0m\u001b[0mX_test\u001b[0m\u001b[0;34m,\u001b[0m\u001b[0my_test\u001b[0m\u001b[0;34m,\u001b[0m \u001b[0mverbose\u001b[0m\u001b[0;34m=\u001b[0m\u001b[0;36m1\u001b[0m\u001b[0;34m)\u001b[0m\u001b[0;34m[\u001b[0m\u001b[0;36m1\u001b[0m\u001b[0;34m]\u001b[0m \u001b[0;34m>=\u001b[0m \u001b[0;36m0.85\u001b[0m\u001b[0;34m\u001b[0m\u001b[0;34m\u001b[0m\u001b[0m\n\u001b[0m",
            "\u001b[0;31mAssertionError\u001b[0m: "
          ]
        }
      ],
      "source": [
        "# Check the performance of the model\n",
        "assert mnist_fashion_model.evaluate(X_test,y_test, verbose=1)[1] >= 0.85"
      ]
    },
    {
      "cell_type": "code",
      "execution_count": null,
      "id": "a59be693",
      "metadata": {
        "id": "a59be693",
        "outputId": "829cb05b-7488-428c-e7de-aed7fcee2f5c",
        "colab": {
          "base_uri": "https://localhost:8080/",
          "height": 1000
        }
      },
      "outputs": [
        {
          "output_type": "stream",
          "name": "stdout",
          "text": [
            "1/1 [==============================] - 0s 77ms/step\n",
            "Correct prediction\n",
            "Actual class is: Trouser Predicted class: Trouser\n",
            "1/1 [==============================] - 0s 23ms/step\n",
            "Correct prediction\n",
            "Actual class is: Trouser Predicted class: Trouser\n",
            "1/1 [==============================] - 0s 22ms/step\n",
            "In-Correct prediction\n",
            "Actual class is: Ankle Boot Predicted class: Sandal\n",
            "1/1 [==============================] - 0s 24ms/step\n",
            "In-Correct prediction\n",
            "Actual class is: Ankle Boot Predicted class: Sandal\n",
            "1/1 [==============================] - 0s 23ms/step\n",
            "Correct prediction\n",
            "Actual class is: Sandal Predicted class: Sandal\n",
            "1/1 [==============================] - 0s 25ms/step\n",
            "Correct prediction\n",
            "Actual class is: T-shirts/top Predicted class: T-shirts/top\n",
            "1/1 [==============================] - 0s 26ms/step\n",
            "In-Correct prediction\n",
            "Actual class is: Coat Predicted class: T-shirts/top\n",
            "1/1 [==============================] - 0s 32ms/step\n",
            "Correct prediction\n",
            "Actual class is: Sandal Predicted class: Sandal\n",
            "1/1 [==============================] - 0s 21ms/step\n",
            "In-Correct prediction\n",
            "Actual class is: Pullover Predicted class: T-shirts/top\n",
            "1/1 [==============================] - 0s 25ms/step\n",
            "Correct prediction\n",
            "Actual class is: Sneaker Predicted class: Sneaker\n",
            "1/1 [==============================] - 0s 28ms/step\n",
            "In-Correct prediction\n",
            "Actual class is: Ankle Boot Predicted class: Sandal\n",
            "1/1 [==============================] - 0s 27ms/step\n",
            "Correct prediction\n",
            "Actual class is: Sandal Predicted class: Sandal\n",
            "1/1 [==============================] - 0s 25ms/step\n",
            "In-Correct prediction\n",
            "Actual class is: Dress Predicted class: T-shirts/top\n",
            "1/1 [==============================] - 0s 26ms/step\n",
            "In-Correct prediction\n",
            "Actual class is: Coat Predicted class: T-shirts/top\n",
            "1/1 [==============================] - 0s 23ms/step\n",
            "In-Correct prediction\n",
            "Actual class is: Sneaker Predicted class: Sandal\n",
            "1/1 [==============================] - 0s 28ms/step\n",
            "Correct prediction\n",
            "Actual class is: Sandal Predicted class: Sandal\n",
            "1/1 [==============================] - 0s 24ms/step\n",
            "In-Correct prediction\n",
            "Actual class is: Shirt Predicted class: T-shirts/top\n",
            "1/1 [==============================] - 0s 27ms/step\n",
            "Correct prediction\n",
            "Actual class is: Trouser Predicted class: Trouser\n",
            "1/1 [==============================] - 0s 25ms/step\n",
            "Correct prediction\n",
            "Actual class is: T-shirts/top Predicted class: T-shirts/top\n",
            "1/1 [==============================] - 0s 22ms/step\n",
            "In-Correct prediction\n",
            "Actual class is: Bag Predicted class: Sandal\n",
            "1/1 [==============================] - 0s 22ms/step\n",
            "In-Correct prediction\n",
            "Actual class is: Coat Predicted class: T-shirts/top\n",
            "1/1 [==============================] - 0s 20ms/step\n",
            "In-Correct prediction\n",
            "Actual class is: Coat Predicted class: T-shirts/top\n",
            "1/1 [==============================] - 0s 22ms/step\n",
            "In-Correct prediction\n",
            "Actual class is: Shirt Predicted class: T-shirts/top\n",
            "1/1 [==============================] - 0s 25ms/step\n",
            "In-Correct prediction\n",
            "Actual class is: Shirt Predicted class: Pullover\n",
            "1/1 [==============================] - 0s 22ms/step\n",
            "In-Correct prediction\n",
            "Actual class is: Pullover Predicted class: T-shirts/top\n"
          ]
        },
        {
          "output_type": "display_data",
          "data": {
            "text/plain": [
              "<Figure size 2400x1800 with 0 Axes>"
            ]
          },
          "metadata": {}
        }
      ],
      "source": [
        "# Make predictions\n",
        "class_names = ['T-shirts/top', 'Trouser','Pullover', 'Dress', 'Coat',\n",
        "              'Sandal', 'Shirt', 'Sneaker', 'Bag', 'Ankle Boot']\n",
        "num_rows = 5\n",
        "num_cols = 5\n",
        "num_samples = num_rows * num_cols\n",
        "sample_index = np.random.randint(0, 10000, num_samples)\n",
        "\n",
        "X_sample = X_test[sample_index]\n",
        "gt_sample = y_test[sample_index]\n",
        "plt.figure(figsize=(24,18))\n",
        "for i , sample in enumerate(X_sample):\n",
        "    gt_class = class_names[gt_sample[i]]\n",
        "    sample = sample.reshape(1, 784)\n",
        "    pred = mnist_fashion_model.predict(sample)\n",
        "    pred_class_number = np.argmax(pred)\n",
        "    pred_class = class_names[pred_class_number]\n",
        "    if gt_class == pred_class:\n",
        "        print(\"Correct prediction\")\n",
        "        print(\"Actual class is:\", gt_class, \"Predicted class:\", pred_class)\n",
        "    else:\n",
        "        print(\"In-Correct prediction\")\n",
        "        print(\"Actual class is:\", gt_class, \"Predicted class:\", pred_class)"
      ]
    }
  ],
  "metadata": {
    "kernelspec": {
      "display_name": "Python 3 (ipykernel)",
      "language": "python",
      "name": "python3"
    },
    "language_info": {
      "codemirror_mode": {
        "name": "ipython",
        "version": 3
      },
      "file_extension": ".py",
      "mimetype": "text/x-python",
      "name": "python",
      "nbconvert_exporter": "python",
      "pygments_lexer": "ipython3",
      "version": "3.11.4"
    },
    "colab": {
      "provenance": [],
      "include_colab_link": true
    }
  },
  "nbformat": 4,
  "nbformat_minor": 5
}