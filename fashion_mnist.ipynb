{
 "cells": [
  {
   "cell_type": "code",
   "execution_count": null,
   "id": "a0791e7d",
   "metadata": {},
   "outputs": [],
   "source": [
    "import tensorflow as tf\n",
    "from tensorflow.keras.datasets import fashion_mnist\n",
    "import numpy as np\n",
    "import os\n",
    "import matplotlib.pyplot as plt\n",
    "import keras\n",
    "print(tf.__version__)\n",
    "from keras.layers import Activation, Dense\n",
    "print(keras.__version__)\n",
    "from tensorflow.python.client import device_lib\n",
    "print(device_lib.list_local_devices())"
   ]
  },
  {
   "cell_type": "code",
   "execution_count": null,
   "id": "8c4e1b9a",
   "metadata": {},
   "outputs": [],
   "source": [
    "(X_train, y_train) , (X_test, y_test) = fashion_mnist.load_data()\n",
    "plt.imshow(X_train[0])\n",
    "\n",
    "\n",
    "print(\"stats about training data\")\n",
    "print(X_train.shape)\n",
    "print(y_train.shape)\n",
    "\n",
    "print(\"stats about test data\")\n",
    "print(X_test.shape)\n",
    "print(y_test.shape)\n",
    "\n",
    "print('A single training data and its label')\n",
    "print('Output Label',y_train[0])\n",
    "print('Raw input\\n',X_train[0])"
   ]
  },
  {
   "cell_type": "code",
   "execution_count": null,
   "id": "127cd113",
   "metadata": {},
   "outputs": [],
   "source": [
    "# Scale the input test and training data.\n",
    "X_train, X_test = X_train.astype('float32') / 255. , X_test.astype('float32') / 255."
   ]
  },
  {
   "cell_type": "code",
   "execution_count": null,
   "id": "26b14d03",
   "metadata": {},
   "outputs": [],
   "source": [
    "print('Scaled version')\n",
    "print(X_train[0])"
   ]
  },
  {
   "cell_type": "code",
   "execution_count": null,
   "id": "434f0f87",
   "metadata": {},
   "outputs": [],
   "source": [
    "plt.imshow(X_train[0])"
   ]
  },
  {
   "cell_type": "code",
   "execution_count": null,
   "id": "23414a61",
   "metadata": {},
   "outputs": [],
   "source": [
    "# Convert from a 2D matrix to a single column vector\n",
    "X_train = X_train.reshape(X_train.shape[0], 28 * 28)\n",
    "X_test  = X_test.reshape(X_test.shape[0], 28 * 28)\n",
    "print(X_train.shape)\n",
    "print(X_test.shape)"
   ]
  },
  {
   "cell_type": "code",
   "execution_count": null,
   "id": "18bc6489",
   "metadata": {},
   "outputs": [],
   "source": [
    "# Create a directory to store the model\n",
    "if not os.path.exists('models'):\n",
    "    os.makedirs('models')"
   ]
  },
  {
   "cell_type": "code",
   "execution_count": null,
   "id": "a07d78f4",
   "metadata": {},
   "outputs": [],
   "source": [
    "train_set = (X_train, y_train)\n",
    "test_set  = (X_test,y_test)"
   ]
  },
  {
   "cell_type": "code",
   "execution_count": null,
   "id": "7a721403",
   "metadata": {},
   "outputs": [],
   "source": [
    "tf.random.set_seed(42)\n",
    "mnist_fashion_model = tf.keras.Sequential()\n",
    "mnist_fashion_model.add(Dense(10, input_shape = (784,), activation='sigmoid'))\n",
    "print(mnist_fashion_model.summary())"
   ]
  },
  {
   "cell_type": "code",
   "execution_count": null,
   "id": "52a31799",
   "metadata": {},
   "outputs": [],
   "source": [
    "# Model tuning parameters\n",
    "tune_epochs = 10\n",
    "tune_batch_size = 6000\n",
    "tune_learning_rate = 0.1\n",
    "mnist_fashion_model.compile(optimizer=tf.keras.optimizers.Adam(learning_rate=tune_learning_rate),\n",
    "             loss=tf.keras.losses.SparseCategoricalCrossentropy(from_logits=False),\n",
    "             metrics=['accuracy'],\n",
    "             )\n",
    "checkpoint_callback = tf.keras.callbacks.ModelCheckpoint('/models/fashion_mnist_final.h5',monitor='val_accuracy',\n",
    "                                                        save_best_only=True,mode='max')\n",
    "history = mnist_fashion_model.fit(train_set[0], train_set[1], batch_size = tune_batch_size, epochs=tune_epochs,validation_data=test_set,\n",
    "                   callbacks=[checkpoint_callback])\n",
    "'''\n",
    "print(history.params)\n",
    "print(history.history.keys)\n",
    "print(history.history['loss'])\n",
    "print(history.history['val_loss'])\n",
    "'''"
   ]
  },
  {
   "cell_type": "code",
   "execution_count": null,
   "id": "3888880a",
   "metadata": {},
   "outputs": [],
   "source": [
    "plt.figure(figsize=[15,5])\n",
    "plt.plot(history.history['loss'], 'g')\n",
    "plt.plot(history.history['val_loss'], 'b')\n",
    "\n",
    "plt.xlabel('Epochs')\n",
    "plt.ylabel('Loss')\n",
    "\n",
    "plt.legend(['Training', 'Validation'], loc='upper right');\n",
    "plt.grid(True)"
   ]
  },
  {
   "cell_type": "code",
   "execution_count": null,
   "id": "952ed112",
   "metadata": {},
   "outputs": [],
   "source": [
    "# Check the performance of the model\n",
    "assert mnist_fashion_model.evaluate(X_test,y_test, verbose=1)[1] >= 0.85"
   ]
  },
  {
   "cell_type": "code",
   "execution_count": null,
   "id": "a59be693",
   "metadata": {},
   "outputs": [],
   "source": [
    "# Make predictions\n",
    "class_names = ['T-shirts/top', 'Trouser','Pullover', 'Dress', 'Coat',\n",
    "              'Sandal', 'Shirt', 'Sneaker', 'Bag', 'Ankle Boot']\n",
    "num_rows = 5\n",
    "num_cols = 5\n",
    "num_samples = num_rows * num_cols\n",
    "sample_index = np.random.randint(0, 10000, num_samples)\n",
    "\n",
    "X_sample = X_test[sample_index]\n",
    "gt_sample = y_test[sample_index]\n",
    "plt.figure(figsize=(24,18))\n",
    "for i , sample in enumerate(X_sample):\n",
    "    gt_class = class_names[gt_sample[i]]\n",
    "    sample = sample.reshape(1, 784)\n",
    "    pred = mnist_fashion_model.predict(sample)\n",
    "    pred_class_number = np.argmax(pred)\n",
    "    pred_class = class_names[pred_class_number]\n",
    "    if gt_class == pred_class:\n",
    "        print(\"Correct prediction\")\n",
    "        print(\"Actual class is:\", gt_class, \"Predicted class:\", pred_class)\n",
    "    else:\n",
    "        print(\"In-Correct prediction\")\n",
    "        print(\"Actual class is:\", gt_class, \"Predicted class:\", pred_class)"
   ]
  },
  {
   "cell_type": "code",
   "execution_count": null,
   "id": "d079b0ac",
   "metadata": {},
   "outputs": [],
   "source": []
  }
 ],
 "metadata": {
  "kernelspec": {
   "display_name": "Python 3 (ipykernel)",
   "language": "python",
   "name": "python3"
  },
  "language_info": {
   "codemirror_mode": {
    "name": "ipython",
    "version": 3
   },
   "file_extension": ".py",
   "mimetype": "text/x-python",
   "name": "python",
   "nbconvert_exporter": "python",
   "pygments_lexer": "ipython3",
   "version": "3.11.4"
  }
 },
 "nbformat": 4,
 "nbformat_minor": 5
}
