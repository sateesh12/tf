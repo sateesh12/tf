{
 "cells": [
  {
   "cell_type": "code",
   "execution_count": null,
   "id": "7c442cfa",
   "metadata": {},
   "outputs": [],
   "source": [
    "!pip install tf\n",
    "import tensorflow as tf\n",
    "print(\"\\nVersion of tf is:\", tf.__version__)"
   ]
  },
  {
   "cell_type": "code",
   "execution_count": null,
   "id": "602b8a1c",
   "metadata": {},
   "outputs": [],
   "source": [
    "# Rank 0 tensor is a scalar\n",
    "rank_0_tensor = tf.constant(3.14)\n",
    "print(rank_0_tensor)"
   ]
  },
  {
   "cell_type": "code",
   "execution_count": null,
   "id": "5c9f1b9d",
   "metadata": {},
   "outputs": [],
   "source": [
    "# Rank 1 tensor is a vector\n",
    "\n",
    "rank_1_tensor = tf.constant([3.14,9.8])\n",
    "print(rank_1_tensor)"
   ]
  },
  {
   "cell_type": "code",
   "execution_count": null,
   "id": "5974f618",
   "metadata": {},
   "outputs": [],
   "source": [
    "# Rank 2 tensor is a matrix\n",
    "rank_2_tensor_I_matrix = tf.constant([[1,0,0],\n",
    "                            [0,1,0],\n",
    "                           [0,0,1]], dtype=tf.float32)\n",
    "print(rank_2_tensor_I_matrix)"
   ]
  },
  {
   "cell_type": "code",
   "execution_count": null,
   "id": "731f49ed",
   "metadata": {},
   "outputs": [],
   "source": [
    "rank_2_tensor_g_matrix = tf.constant([[9.8,9.8,9.8],\n",
    "                                    [9.8,9.8,9.8],\n",
    "                                    [9.8,9.8,9.8]],dtype=tf.float32)\n",
    "print(rank_2_tensor_g_matrix)"
   ]
  },
  {
   "cell_type": "code",
   "execution_count": null,
   "id": "cba97a80",
   "metadata": {},
   "outputs": [],
   "source": [
    "# Add two tensors\n",
    "sum_tensor = rank_2_tensor_I_matrix + rank_2_tensor_g_matrix"
   ]
  },
  {
   "cell_type": "code",
   "execution_count": null,
   "id": "acf4d5de",
   "metadata": {},
   "outputs": [],
   "source": [
    "print(sum_tensor)"
   ]
  },
  {
   "cell_type": "code",
   "execution_count": null,
   "id": "147c609e",
   "metadata": {},
   "outputs": [],
   "source": [
    "# Rank 3 tensor is a 3-d matrix or an n-d matrix\n",
    "rank_3_tensor = tf.constant([\n",
    "    [[10,11],[12,13],[14,15]],\n",
    "    [[16,17],[18,19],[20,21]]\n",
    "    ]   \n",
    "    ,dtype = tf.int32)\n",
    "print(rank_3_tensor)"
   ]
  },
  {
   "cell_type": "code",
   "execution_count": null,
   "id": "eb9f94be",
   "metadata": {},
   "outputs": [],
   "source": [
    "# Create a variable in tf\n",
    "var_tf_1 = tf.Variable(3.14)\n",
    "print(var_tf_1)"
   ]
  },
  {
   "cell_type": "code",
   "execution_count": null,
   "id": "f66b9b21",
   "metadata": {},
   "outputs": [],
   "source": [
    "var_tf_2 = tf.Variable([2,4])\n",
    "print(var_tf_2)"
   ]
  },
  {
   "cell_type": "code",
   "execution_count": null,
   "id": "b6324b8c",
   "metadata": {},
   "outputs": [],
   "source": [
    "# Assignment code of a Leaky ReLU\n",
    "alpha = 0.03\n",
    "inTensor = tf.constant([-0.7329559, 1.23146666])\n",
    "in_tensor = inTensor\n",
    "print(inTensor)\n",
    "indices = tf.where(in_tensor < 0)\n",
    "print(indices)\n",
    "values = tf.gather_nd(in_tensor, indices=indices)\n",
    "print(values)\n",
    "values = alpha * values\n",
    "print(\"New value:\",values)\n",
    "updates = values\n",
    "result = tf.tensor_scatter_nd_update(in_tensor, indices, updates)\n",
    "print(result)"
   ]
  },
  {
   "cell_type": "code",
   "execution_count": null,
   "id": "8041479d",
   "metadata": {},
   "outputs": [],
   "source": [
    "# Assignment code of a Sigmoid Activation function\n"
   ]
  }
 ],
 "metadata": {
  "kernelspec": {
   "display_name": "Python 3 (ipykernel)",
   "language": "python",
   "name": "python3"
  },
  "language_info": {
   "codemirror_mode": {
    "name": "ipython",
    "version": 3
   },
   "file_extension": ".py",
   "mimetype": "text/x-python",
   "name": "python",
   "nbconvert_exporter": "python",
   "pygments_lexer": "ipython3",
   "version": "3.11.4"
  }
 },
 "nbformat": 4,
 "nbformat_minor": 5
}
