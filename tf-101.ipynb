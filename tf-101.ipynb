{
 "cells": [
  {
   "cell_type": "code",
   "execution_count": null,
   "id": "7c442cfa",
   "metadata": {},
   "outputs": [],
   "source": [
    "!python.exe -m pip install --upgrade pip\n",
    "!pip install tf\n",
    "import tensorflow as tf\n",
    "print(\"\\nVersion of tf is:\", tf.__version__)"
   ]
  },
  {
   "cell_type": "code",
   "execution_count": null,
   "id": "602b8a1c",
   "metadata": {},
   "outputs": [],
   "source": [
    "# Rank 0 tensor is a scalar\n",
    "rank_0_tensor = tf.constant(3.14)\n",
    "print(rank_0_tensor)"
   ]
  },
  {
   "cell_type": "code",
   "execution_count": null,
   "id": "5c9f1b9d",
   "metadata": {},
   "outputs": [],
   "source": [
    "# Rank 1 tensor is a vector\n",
    "\n",
    "rank_1_tensor = tf.constant([3.14,9.8])\n",
    "print(rank_1_tensor)"
   ]
  },
  {
   "cell_type": "code",
   "execution_count": null,
   "id": "5974f618",
   "metadata": {},
   "outputs": [],
   "source": [
    "# Rank 2 tensor is a matrix\n",
    "rank_2_tensor_I_matrix = tf.constant([[1,0,0],\n",
    "                            [0,1,0],\n",
    "                           [0,0,1]], dtype=tf.float32)\n",
    "print(rank_2_tensor_I_matrix)"
   ]
  },
  {
   "cell_type": "code",
   "execution_count": null,
   "id": "731f49ed",
   "metadata": {},
   "outputs": [],
   "source": [
    "rank_2_tensor_g_matrix = tf.constant([[9.8,9.8,9.8],\n",
    "                                    [9.8,9.8,9.8],\n",
    "                                    [9.8,9.8,9.8]],dtype=tf.float32)\n",
    "print(rank_2_tensor_g_matrix)"
   ]
  },
  {
   "cell_type": "code",
   "execution_count": null,
   "id": "cba97a80",
   "metadata": {},
   "outputs": [],
   "source": [
    "# Add two tensors\n",
    "sum_tensor = rank_2_tensor_I_matrix + rank_2_tensor_g_matrix"
   ]
  },
  {
   "cell_type": "code",
   "execution_count": null,
   "id": "acf4d5de",
   "metadata": {},
   "outputs": [],
   "source": [
    "print(sum_tensor)"
   ]
  },
  {
   "cell_type": "code",
   "execution_count": null,
   "id": "147c609e",
   "metadata": {},
   "outputs": [],
   "source": [
    "# Rank 3 tensor is a 3-d matrix or an n-d matrix\n",
    "rank_3_tensor = tf.constant([\n",
    "    [[10,11],[12,13],[14,15]],\n",
    "    [[16,17],[18,19],[20,21]]\n",
    "    ]   \n",
    "    ,dtype = tf.int32)\n",
    "print(rank_3_tensor)"
   ]
  },
  {
   "cell_type": "code",
   "execution_count": null,
   "id": "eb9f94be",
   "metadata": {},
   "outputs": [],
   "source": [
    "# Create a variable in tf\n",
    "var_tf_1 = tf.Variable(3.14)\n",
    "print(var_tf_1)"
   ]
  },
  {
   "cell_type": "code",
   "execution_count": null,
   "id": "f66b9b21",
   "metadata": {},
   "outputs": [],
   "source": [
    "var_tf_2 = tf.Variable([2,4])\n",
    "print(var_tf_2)"
   ]
  },
  {
   "cell_type": "code",
   "execution_count": null,
   "id": "b6324b8c",
   "metadata": {},
   "outputs": [],
   "source": [
    "# Assignment code of a Leaky ReLU\n",
    "alpha = 0.03\n",
    "inTensor = tf.constant([-0.7329559, 1.23146666])\n",
    "in_tensor = inTensor\n",
    "print(inTensor)\n",
    "indices = tf.where(in_tensor < 0)\n",
    "print(indices)\n",
    "values = tf.gather_nd(in_tensor, indices=indices)\n",
    "print(values)\n",
    "values = alpha * values\n",
    "print(\"New value:\",values)\n",
    "updates = values\n",
    "result = tf.tensor_scatter_nd_update(in_tensor, indices, updates)\n",
    "print(result)"
   ]
  },
  {
   "cell_type": "code",
   "execution_count": null,
   "id": "8041479d",
   "metadata": {},
   "outputs": [],
   "source": [
    "import numpy as np\n",
    "import tensorflow as tf\n",
    "def sigmoid(in_tensor: tf.Tensor) -> tf.Tensor:\n",
    "    py_list =[]\n",
    "    sig_cal = None\n",
    "\n",
    "    for idx,element in enumerate(in_tensor):\n",
    "            py_list.append(1 / (1 + np.exp(-element)))\n",
    "            #print(py_list)\n",
    "    #numpy_array = np.array(py_list,dtype=np.float64)\n",
    "    #print(\"{0:.16f}\".format(numpy_array))\n",
    "    sig_cal = tf.convert_to_tensor(py_list)\n",
    "    return sig_cal\n",
    "    \n",
    "\n",
    "# Main\n",
    "inTensor = tf.constant([-2.39537836, -0.09620075])\n",
    "outTensor = sigmoid(inTensor)\n",
    "print(f\"Input tensor: {inTensor}\")\n",
    "print(f\"Result: {outTensor}\")\n"
   ]
  },
  {
   "cell_type": "code",
   "execution_count": null,
   "id": "d51fb07a",
   "metadata": {},
   "outputs": [],
   "source": [
    "# Slice the tensor \n",
    "inputTensor_2_2 = tf.constant([[1,2], [3,4]])\n",
    "#print(inputTensor_2_2)\n",
    "\n",
    "inputTensor_3_3 = tf.constant([[1,2,3],[4,5,6],[7,8,9]])\n",
    "#print(inputTensor_3_3)\n",
    "\n",
    "inputTensor_5_5 = tf.constant([[1,2,3,4,5],\n",
    "                               [6,7,8,9,10],\n",
    "                               [11,12,13,14,15],\n",
    "                               [16,17,18,19,20],\n",
    "                               [21,22,23,24,25]])\n",
    "print(inputTensor_5_5)\n",
    "\n",
    "print(tf.slice(inputTensor_5_5,begin = [0,0],size=[3,3]))\n",
    "\n",
    "inputTensor_1_3_3 = tf.constant([[[1,1,1], [2,2,2], [3,3,3]]])\n",
    "#print(inputTensor_1_3_3)"
   ]
  },
  {
   "cell_type": "code",
   "execution_count": null,
   "id": "f7ef1fc9",
   "metadata": {},
   "outputs": [],
   "source": [
    "import tensorflow as tf\n",
    "import numpy as np\n",
    "def convolve(\n",
    "    in_tensor: tf.Tensor,\n",
    "    kernel: tf.Tensor,\n",
    "    verbose: bool = False,\n",
    ") -> tf.Tensor:\n",
    "\n",
    "    \"\"\"\n",
    "    convolve\n",
    "\n",
    "    Parameters\n",
    "\n",
    "    input_array: Array on which convolution is done.\n",
    "    output_image: Placeholder array for output.\n",
    "    kernel: Kernel/ Filter.\n",
    "    \n",
    "    Returns\n",
    "\n",
    "    Convolved array.\n",
    "    \"\"\"\n",
    "    \n",
    "    inshape = in_tensor.shape\n",
    "    kshape = kernel.shape\n",
    "    \n",
    "    output_tensor = tf.zeros((inshape[0] - kshape[0] + 1, inshape[1] - kshape[1] + 1), dtype=tf.int32)\n",
    "    output_as_array = np.zeros((inshape[0] - kshape[0] + 1, inshape[1] - kshape[1] + 1))\n",
    "\n",
    "    for i in range(0, inshape[0]):\n",
    "        for j in range(0, inshape[1]):\n",
    "            try:\n",
    "                ###\n",
    "                ### YOUR CODE HERE\n",
    "                ###\n",
    "                #Extract the part of tensor needed for mul mat\n",
    "                #temp_array = input_array[i:i+kshape[0],j:j+kshape[1]]\n",
    "                temp_tensor = tf.slice(in_tensor,begin=[i,j],size=[kshape[0],kshape[1]])\n",
    "                #print(temp_tensor)\n",
    "                #multiplied_matrix = np.multiply(temp_array, kernel)\n",
    "                multiplied_tensor = tf.multiply(temp_tensor, kernel)\n",
    "                # NEED TO ADD EACH AND EVERY ELEMENT OF THE ABOVE TENSOR INTO A SINGLE SCALAR.\n",
    "                # Convert the tensor into numpy\n",
    "                array_from_tensor = multiplied_tensor.numpy()\n",
    "                #print(\"Array from tensor\",array_from_tensor)\n",
    "                sum = np.sum(array_from_tensor)\n",
    "                #print(\"Sum\",sum)           \n",
    "                #print(multiplied_tensor)\n",
    "                output_as_array[i,j] = sum\n",
    "                print(output_as_array[i,j])\n",
    "                output_tensor = tf.convert_to_tensor(output_as_array)\n",
    "                \n",
    "            except Exception as exception:\n",
    "                if verbose:\n",
    "                    print(\"Warn: Image boundary is ignored.\")\n",
    "                    raise exception\n",
    "                      \n",
    "    return output_tensor"
   ]
  },
  {
   "cell_type": "code",
   "execution_count": null,
   "id": "37f8261f",
   "metadata": {},
   "outputs": [],
   "source": [
    "inputTensor_5_5 = tf.constant([[1,2,3,4,5],\n",
    "                               [6,7,8,9,10],\n",
    "                               [11,12,13,14,15],\n",
    "                               [16,17,18,19,20],\n",
    "                               [21,22,23,24,25]])\n",
    "kernel = tf.constant([[1,0,-1],\n",
    "                      [1,0,-1],\n",
    "                      [1,0,-1]])\n",
    "outputTensor = convolve(inputTensor_5_5,kernel, False )\n",
    "print(outputTensor)\n",
    "\n",
    "inputTensor_5_5_ex = tf.constant([[7,2,3,3,8],\n",
    "                               [4,5,3,8,4],\n",
    "                               [3,3,2,8,4],\n",
    "                               [2,8,7,2,7],\n",
    "                               [5,4,4,5,4]])\n",
    "outputTensor = convolve(inputTensor_5_5_ex,kernel, False )\n",
    "print(outputTensor)\n"
   ]
  },
  {
   "cell_type": "code",
   "execution_count": null,
   "id": "3c9e1bea",
   "metadata": {},
   "outputs": [],
   "source": []
  },
  {
   "cell_type": "code",
   "execution_count": null,
   "id": "155e3769",
   "metadata": {},
   "outputs": [],
   "source": []
  }
 ],
 "metadata": {
  "kernelspec": {
   "display_name": "Python 3 (ipykernel)",
   "language": "python",
   "name": "python3"
  },
  "language_info": {
   "codemirror_mode": {
    "name": "ipython",
    "version": 3
   },
   "file_extension": ".py",
   "mimetype": "text/x-python",
   "name": "python",
   "nbconvert_exporter": "python",
   "pygments_lexer": "ipython3",
   "version": "3.11.4"
  }
 },
 "nbformat": 4,
 "nbformat_minor": 5
}
