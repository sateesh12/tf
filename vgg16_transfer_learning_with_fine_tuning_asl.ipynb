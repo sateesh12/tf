{
  "nbformat": 4,
  "nbformat_minor": 0,
  "metadata": {
    "colab": {
      "provenance": [],
      "gpuType": "T4",
      "authorship_tag": "ABX9TyMO+okpB+MoHe5PZlTQWNRc",
      "include_colab_link": true
    },
    "kernelspec": {
      "name": "python3",
      "display_name": "Python 3"
    },
    "language_info": {
      "name": "python"
    },
    "accelerator": "GPU"
  },
  "cells": [
    {
      "cell_type": "markdown",
      "metadata": {
        "id": "view-in-github",
        "colab_type": "text"
      },
      "source": [
        "<a href=\"https://colab.research.google.com/github/sateesh12/tf/blob/main/vgg16_transfer_learning_with_fine_tuning_asl.ipynb\" target=\"_parent\"><img src=\"https://colab.research.google.com/assets/colab-badge.svg\" alt=\"Open In Colab\"/></a>"
      ]
    },
    {
      "cell_type": "code",
      "execution_count": null,
      "metadata": {
        "id": "sFBtwW3WcE5s"
      },
      "outputs": [],
      "source": [
        "import tensorflow as tf\n",
        "from tensorflow import keras\n",
        "from tensorflow.keras import layers\n",
        "import random\n",
        "import numpy as np\n",
        "import os\n",
        "import matplotlib.pyplot as plt\n",
        "import cv2\n",
        "import zipfile\n",
        "import requests\n",
        "import glob as glob\n",
        "\n",
        "from tensorflow.keras.utils import image_dataset_from_directory\n",
        "from matplotlib.ticker import (MultipleLocator, FormatStrFormatter)\n",
        "from dataclasses import dataclass\n",
        "\n",
        "block_plot = False\n",
        "plt.rcParams['figure.figsize'] = (12,9)\n",
        "SEED_VALUE = 42"
      ]
    },
    {
      "cell_type": "code",
      "source": [
        "def download_and_unzip(url, save_name):\n",
        "    #url = url\n",
        "    file = requests.get(url)\n",
        "    open(save_name, 'wb').write(file.content)\n",
        "    try:\n",
        "        with zipfile.ZipFile(save_name) as z:\n",
        "            z.extractall(\"./\")\n",
        "            print('Extracted all')\n",
        "    except:\n",
        "        print('Invalid data')\n",
        "\n",
        "download_and_unzip('https://www.dropbox.com/s/7huaqeavdbz32la/dataset_ASL_150.zip?dl=1',\n",
        "    'dataset_ASL_150.zip')"
      ],
      "metadata": {
        "id": "yETkC-uJfdpb",
        "colab": {
          "base_uri": "https://localhost:8080/"
        },
        "outputId": "e2e95538-1398-4669-f527-24b72a58e4d4"
      },
      "execution_count": null,
      "outputs": [
        {
          "output_type": "stream",
          "name": "stdout",
          "text": [
            "Extracted all\n"
          ]
        }
      ]
    },
    {
      "cell_type": "code",
      "source": [
        "from keras.api._v2.keras import datasets\n",
        "@dataclass (frozen=True)\n",
        "class DatasetConfig:\n",
        "    NUM_CLASSES:  int = 29\n",
        "    IMG_HEIGHT:    int = 224\n",
        "    IMG_WIDTH:     int  = 224\n",
        "    CHANNELS:        int  = 3\n",
        "    BATCH_SIZE:     int  = 32\n",
        "    DATA_ROOT: str='./dataset_ASL_150'\n",
        "\n",
        "@dataclass(frozen=True)\n",
        "class TrainingConfig:\n",
        "    BATCH_SIZE: int = 32\n",
        "    EPOCSHS:     int = 51\n",
        "    LEARNING_RATE: float = 0.0001\n",
        "    CHECKPOINT_DIR: str = './saved_models_asl'\n"
      ],
      "metadata": {
        "id": "eUm4a4fthFPD"
      },
      "execution_count": null,
      "outputs": []
    },
    {
      "cell_type": "code",
      "source": [
        "# Load an existing VGG16  model using Keras.\n",
        "input_shape = (DatasetConfig.IMG_HEIGHT, DatasetConfig.IMG_WIDTH, DatasetConfig.CHANNELS)\n",
        "print('Load the model with random weights')\n",
        "vgg16_conv_base = tf.keras.applications.vgg16.VGG16(input_shape=input_shape, include_top=False, weights=None)\n",
        "vgg16_conv_base.trainable = True\n",
        "print('All kernel weights are trainable')\n",
        "print(vgg16_conv_base.summary())"
      ],
      "metadata": {
        "id": "rvSjeMpMi_Ub",
        "colab": {
          "base_uri": "https://localhost:8080/"
        },
        "outputId": "92a4f093-1b2f-460f-81f5-e764d46b7ee8"
      },
      "execution_count": null,
      "outputs": [
        {
          "output_type": "stream",
          "name": "stdout",
          "text": [
            "Load the model with random weights\n",
            "All kernel weights are trainable\n",
            "Model: \"vgg16\"\n",
            "_________________________________________________________________\n",
            " Layer (type)                Output Shape              Param #   \n",
            "=================================================================\n",
            " input_1 (InputLayer)        [(None, 224, 224, 3)]     0         \n",
            "                                                                 \n",
            " block1_conv1 (Conv2D)       (None, 224, 224, 64)      1792      \n",
            "                                                                 \n",
            " block1_conv2 (Conv2D)       (None, 224, 224, 64)      36928     \n",
            "                                                                 \n",
            " block1_pool (MaxPooling2D)  (None, 112, 112, 64)      0         \n",
            "                                                                 \n",
            " block2_conv1 (Conv2D)       (None, 112, 112, 128)     73856     \n",
            "                                                                 \n",
            " block2_conv2 (Conv2D)       (None, 112, 112, 128)     147584    \n",
            "                                                                 \n",
            " block2_pool (MaxPooling2D)  (None, 56, 56, 128)       0         \n",
            "                                                                 \n",
            " block3_conv1 (Conv2D)       (None, 56, 56, 256)       295168    \n",
            "                                                                 \n",
            " block3_conv2 (Conv2D)       (None, 56, 56, 256)       590080    \n",
            "                                                                 \n",
            " block3_conv3 (Conv2D)       (None, 56, 56, 256)       590080    \n",
            "                                                                 \n",
            " block3_pool (MaxPooling2D)  (None, 28, 28, 256)       0         \n",
            "                                                                 \n",
            " block4_conv1 (Conv2D)       (None, 28, 28, 512)       1180160   \n",
            "                                                                 \n",
            " block4_conv2 (Conv2D)       (None, 28, 28, 512)       2359808   \n",
            "                                                                 \n",
            " block4_conv3 (Conv2D)       (None, 28, 28, 512)       2359808   \n",
            "                                                                 \n",
            " block4_pool (MaxPooling2D)  (None, 14, 14, 512)       0         \n",
            "                                                                 \n",
            " block5_conv1 (Conv2D)       (None, 14, 14, 512)       2359808   \n",
            "                                                                 \n",
            " block5_conv2 (Conv2D)       (None, 14, 14, 512)       2359808   \n",
            "                                                                 \n",
            " block5_conv3 (Conv2D)       (None, 14, 14, 512)       2359808   \n",
            "                                                                 \n",
            " block5_pool (MaxPooling2D)  (None, 7, 7, 512)         0         \n",
            "                                                                 \n",
            "=================================================================\n",
            "Total params: 14,714,688\n",
            "Trainable params: 14,714,688\n",
            "Non-trainable params: 0\n",
            "_________________________________________________________________\n",
            "None\n"
          ]
        }
      ]
    },
    {
      "cell_type": "code",
      "source": [
        "# Add classifictaion layer, the above CNN extracted the features.\n",
        "inputs = tf.keras.Input(shape=input_shape)\n",
        "\n",
        "x = tf.keras.applications.vgg16.preprocess_input(inputs)\n",
        "x = vgg16_conv_base(x)\n",
        "x = layers.Flatten()(x)\n",
        "x = layers.Dense(256, activation='relu')(x)\n",
        "outputs = layers.Dense(DatasetConfig.NUM_CLASSES, activation='softmax')(x)\n",
        "vgg16_model = keras.Model(inputs, outputs)\n",
        "print(vgg16_model.summary())"
      ],
      "metadata": {
        "colab": {
          "base_uri": "https://localhost:8080/"
        },
        "id": "_FmH1M2Y84iZ",
        "outputId": "c76f4e97-a5c0-40e9-c68c-22945ecbda6d"
      },
      "execution_count": null,
      "outputs": [
        {
          "output_type": "stream",
          "name": "stdout",
          "text": [
            "Model: \"model\"\n",
            "_________________________________________________________________\n",
            " Layer (type)                Output Shape              Param #   \n",
            "=================================================================\n",
            " input_2 (InputLayer)        [(None, 224, 224, 3)]     0         \n",
            "                                                                 \n",
            " tf.__operators__.getitem (S  (None, 224, 224, 3)      0         \n",
            " licingOpLambda)                                                 \n",
            "                                                                 \n",
            " tf.nn.bias_add (TFOpLambda)  (None, 224, 224, 3)      0         \n",
            "                                                                 \n",
            " vgg16 (Functional)          (None, 7, 7, 512)         14714688  \n",
            "                                                                 \n",
            " flatten (Flatten)           (None, 25088)             0         \n",
            "                                                                 \n",
            " dense (Dense)               (None, 256)               6422784   \n",
            "                                                                 \n",
            " dense_1 (Dense)             (None, 29)                7453      \n",
            "                                                                 \n",
            "=================================================================\n",
            "Total params: 21,144,925\n",
            "Trainable params: 21,144,925\n",
            "Non-trainable params: 0\n",
            "_________________________________________________________________\n",
            "None\n"
          ]
        }
      ]
    },
    {
      "cell_type": "code",
      "source": [
        "# Split into training and validation set\n",
        "train_dataset = image_dataset_from_directory(directory=DatasetConfig.DATA_ROOT,\n",
        "                                                                        batch_size=TrainingConfig.BATCH_SIZE,\n",
        "                                                                        seed = SEED_VALUE,\n",
        "                                                                        label_mode='categorical',\n",
        "                                                                        image_size = (DatasetConfig.IMG_WIDTH, DatasetConfig.IMG_HEIGHT),\n",
        "                                                                        shuffle=True,\n",
        "                                                                        subset='training',\n",
        "                                                                        validation_split=0.2)\n",
        "valid_dataset = image_dataset_from_directory(directory=DatasetConfig.DATA_ROOT,\n",
        "                                                                        batch_size=TrainingConfig.BATCH_SIZE,\n",
        "                                                                        seed = SEED_VALUE,\n",
        "                                                                        label_mode='categorical',\n",
        "                                                                        image_size = (DatasetConfig.IMG_WIDTH, DatasetConfig.IMG_HEIGHT),\n",
        "                                                                        shuffle=True,\n",
        "                                                                        subset='validation',\n",
        "                                                                        validation_split=0.2)"
      ],
      "metadata": {
        "id": "3jNkgYaCAOVs",
        "colab": {
          "base_uri": "https://localhost:8080/"
        },
        "outputId": "d5fae112-39d7-4b6d-e4af-dc77921e653c"
      },
      "execution_count": null,
      "outputs": [
        {
          "output_type": "stream",
          "name": "stdout",
          "text": [
            "Found 4350 files belonging to 29 classes.\n",
            "Using 3480 files for training.\n",
            "Found 4350 files belonging to 29 classes.\n",
            "Using 870 files for validation.\n"
          ]
        }
      ]
    },
    {
      "cell_type": "code",
      "source": [
        "from keras.engine.training import optimizer\n",
        "# Compile and train the model of vgg-16\n",
        "vgg16_model.compile(optimizer=tf.keras.optimizers.Adam(learning_rate=TrainingConfig.LEARNING_RATE),\n",
        "                                                       loss = tf.keras.losses.CategoricalCrossentropy(from_logits=False),\n",
        "                                                       metrics=['accuracy'])\n",
        "\n",
        "model_checkpoint_callback = tf.keras.callbacks.ModelCheckpoint(filepath=TrainingConfig.CHECKPOINT_DIR,\n",
        "                                                                                                save_weights_only=False,\n",
        "                                                                                                monitor='val_accuracy',\n",
        "                                                                                                mode='max',\n",
        "                                                                                                save_best_only=True)\n",
        "trainig_results = vgg16_model.fit(train_dataset,\n",
        "                                                validation_data=valid_dataset,\n",
        "                                                epochs=TrainingConfig.EPOCSHS,\n",
        "                                                workers=4,\n",
        "                                                use_multiprocessing=True,\n",
        "                                                callbacks=model_checkpoint_callback)"
      ],
      "metadata": {
        "id": "4h3iBEgxBszy",
        "colab": {
          "base_uri": "https://localhost:8080/"
        },
        "outputId": "3edae865-07f7-496f-c127-4c52d5acc7b0"
      },
      "execution_count": null,
      "outputs": [
        {
          "output_type": "stream",
          "name": "stdout",
          "text": [
            "Epoch 1/51\n",
            "109/109 [==============================] - ETA: 0s - loss: 3.2825 - accuracy: 0.0802"
          ]
        },
        {
          "output_type": "stream",
          "name": "stderr",
          "text": [
            "WARNING:absl:Found untraced functions such as _jit_compiled_convolution_op, _jit_compiled_convolution_op, _jit_compiled_convolution_op, _jit_compiled_convolution_op, _jit_compiled_convolution_op while saving (showing 5 of 13). These functions will not be directly callable after loading.\n"
          ]
        },
        {
          "output_type": "stream",
          "name": "stdout",
          "text": [
            "\b\b\b\b\b\b\b\b\b\b\b\b\b\b\b\b\b\b\b\b\b\b\b\b\b\b\b\b\b\b\b\b\b\b\b\b\b\b\b\b\b\b\b\b\b\b\b\b\b\b\b\b\b\b\b\b\b\b\b\b\b\b\b\b\b\b\b\b\b\b\b\b\b\b\b\b\b\b\b\b\b\b\b\b\r109/109 [==============================] - 93s 593ms/step - loss: 3.2825 - accuracy: 0.0802 - val_loss: 2.9649 - val_accuracy: 0.1414\n",
            "Epoch 2/51\n",
            "109/109 [==============================] - ETA: 0s - loss: 2.2732 - accuracy: 0.3236"
          ]
        },
        {
          "output_type": "stream",
          "name": "stderr",
          "text": [
            "WARNING:absl:Found untraced functions such as _jit_compiled_convolution_op, _jit_compiled_convolution_op, _jit_compiled_convolution_op, _jit_compiled_convolution_op, _jit_compiled_convolution_op while saving (showing 5 of 13). These functions will not be directly callable after loading.\n"
          ]
        },
        {
          "output_type": "stream",
          "name": "stdout",
          "text": [
            "\b\b\b\b\b\b\b\b\b\b\b\b\b\b\b\b\b\b\b\b\b\b\b\b\b\b\b\b\b\b\b\b\b\b\b\b\b\b\b\b\b\b\b\b\b\b\b\b\b\b\b\b\b\b\b\b\b\b\b\b\b\b\b\b\b\b\b\b\b\b\b\b\b\b\b\b\b\b\b\b\b\b\b\b\r109/109 [==============================] - 58s 527ms/step - loss: 2.2732 - accuracy: 0.3236 - val_loss: 1.9197 - val_accuracy: 0.4057\n",
            "Epoch 3/51\n",
            "109/109 [==============================] - ETA: 0s - loss: 1.1316 - accuracy: 0.6402"
          ]
        },
        {
          "output_type": "stream",
          "name": "stderr",
          "text": [
            "WARNING:absl:Found untraced functions such as _jit_compiled_convolution_op, _jit_compiled_convolution_op, _jit_compiled_convolution_op, _jit_compiled_convolution_op, _jit_compiled_convolution_op while saving (showing 5 of 13). These functions will not be directly callable after loading.\n"
          ]
        },
        {
          "output_type": "stream",
          "name": "stdout",
          "text": [
            "\b\b\b\b\b\b\b\b\b\b\b\b\b\b\b\b\b\b\b\b\b\b\b\b\b\b\b\b\b\b\b\b\b\b\b\b\b\b\b\b\b\b\b\b\b\b\b\b\b\b\b\b\b\b\b\b\b\b\b\b\b\b\b\b\b\b\b\b\b\b\b\b\b\b\b\b\b\b\b\b\b\b\b\b\r109/109 [==============================] - 59s 536ms/step - loss: 1.1316 - accuracy: 0.6402 - val_loss: 1.0131 - val_accuracy: 0.6874\n",
            "Epoch 4/51\n",
            "109/109 [==============================] - ETA: 0s - loss: 0.5222 - accuracy: 0.8305"
          ]
        },
        {
          "output_type": "stream",
          "name": "stderr",
          "text": [
            "WARNING:absl:Found untraced functions such as _jit_compiled_convolution_op, _jit_compiled_convolution_op, _jit_compiled_convolution_op, _jit_compiled_convolution_op, _jit_compiled_convolution_op while saving (showing 5 of 13). These functions will not be directly callable after loading.\n"
          ]
        },
        {
          "output_type": "stream",
          "name": "stdout",
          "text": [
            "\b\b\b\b\b\b\b\b\b\b\b\b\b\b\b\b\b\b\b\b\b\b\b\b\b\b\b\b\b\b\b\b\b\b\b\b\b\b\b\b\b\b\b\b\b\b\b\b\b\b\b\b\b\b\b\b\b\b\b\b\b\b\b\b\b\b\b\b\b\b\b\b\b\b\b\b\b\b\b\b\b\b\b\b\r109/109 [==============================] - 57s 521ms/step - loss: 0.5222 - accuracy: 0.8305 - val_loss: 0.5877 - val_accuracy: 0.8345\n",
            "Epoch 5/51\n",
            "109/109 [==============================] - ETA: 0s - loss: 0.3400 - accuracy: 0.8871"
          ]
        },
        {
          "output_type": "stream",
          "name": "stderr",
          "text": [
            "WARNING:absl:Found untraced functions such as _jit_compiled_convolution_op, _jit_compiled_convolution_op, _jit_compiled_convolution_op, _jit_compiled_convolution_op, _jit_compiled_convolution_op while saving (showing 5 of 13). These functions will not be directly callable after loading.\n"
          ]
        },
        {
          "output_type": "stream",
          "name": "stdout",
          "text": [
            "\b\b\b\b\b\b\b\b\b\b\b\b\b\b\b\b\b\b\b\b\b\b\b\b\b\b\b\b\b\b\b\b\b\b\b\b\b\b\b\b\b\b\b\b\b\b\b\b\b\b\b\b\b\b\b\b\b\b\b\b\b\b\b\b\b\b\b\b\b\b\b\b\b\b\b\b\b\b\b\b\b\b\b\b\r109/109 [==============================] - 58s 533ms/step - loss: 0.3400 - accuracy: 0.8871 - val_loss: 0.5347 - val_accuracy: 0.8402\n",
            "Epoch 6/51\n",
            "109/109 [==============================] - ETA: 0s - loss: 0.2442 - accuracy: 0.9250"
          ]
        },
        {
          "output_type": "stream",
          "name": "stderr",
          "text": [
            "WARNING:absl:Found untraced functions such as _jit_compiled_convolution_op, _jit_compiled_convolution_op, _jit_compiled_convolution_op, _jit_compiled_convolution_op, _jit_compiled_convolution_op while saving (showing 5 of 13). These functions will not be directly callable after loading.\n"
          ]
        },
        {
          "output_type": "stream",
          "name": "stdout",
          "text": [
            "\b\b\b\b\b\b\b\b\b\b\b\b\b\b\b\b\b\b\b\b\b\b\b\b\b\b\b\b\b\b\b\b\b\b\b\b\b\b\b\b\b\b\b\b\b\b\b\b\b\b\b\b\b\b\b\b\b\b\b\b\b\b\b\b\b\b\b\b\b\b\b\b\b\b\b\b\b\b\b\b\b\b\b\b\r109/109 [==============================] - 57s 521ms/step - loss: 0.2442 - accuracy: 0.9250 - val_loss: 0.6661 - val_accuracy: 0.8483\n",
            "Epoch 7/51\n",
            "109/109 [==============================] - ETA: 0s - loss: 0.1642 - accuracy: 0.9466"
          ]
        },
        {
          "output_type": "stream",
          "name": "stderr",
          "text": [
            "WARNING:absl:Found untraced functions such as _jit_compiled_convolution_op, _jit_compiled_convolution_op, _jit_compiled_convolution_op, _jit_compiled_convolution_op, _jit_compiled_convolution_op while saving (showing 5 of 13). These functions will not be directly callable after loading.\n"
          ]
        },
        {
          "output_type": "stream",
          "name": "stdout",
          "text": [
            "\b\b\b\b\b\b\b\b\b\b\b\b\b\b\b\b\b\b\b\b\b\b\b\b\b\b\b\b\b\b\b\b\b\b\b\b\b\b\b\b\b\b\b\b\b\b\b\b\b\b\b\b\b\b\b\b\b\b\b\b\b\b\b\b\b\b\b\b\b\b\b\b\b\b\b\b\b\b\b\b\b\b\b\b\r109/109 [==============================] - 58s 535ms/step - loss: 0.1642 - accuracy: 0.9466 - val_loss: 0.4450 - val_accuracy: 0.8989\n",
            "Epoch 8/51\n",
            "109/109 [==============================] - 50s 453ms/step - loss: 0.1185 - accuracy: 0.9638 - val_loss: 0.5191 - val_accuracy: 0.8828\n",
            "Epoch 9/51\n",
            "109/109 [==============================] - 49s 447ms/step - loss: 0.0797 - accuracy: 0.9773 - val_loss: 0.6112 - val_accuracy: 0.8885\n",
            "Epoch 10/51\n",
            "109/109 [==============================] - 49s 450ms/step - loss: 0.0597 - accuracy: 0.9839 - val_loss: 0.8072 - val_accuracy: 0.8701\n",
            "Epoch 11/51\n",
            "109/109 [==============================] - ETA: 0s - loss: 0.0758 - accuracy: 0.9764"
          ]
        },
        {
          "output_type": "stream",
          "name": "stderr",
          "text": [
            "WARNING:absl:Found untraced functions such as _jit_compiled_convolution_op, _jit_compiled_convolution_op, _jit_compiled_convolution_op, _jit_compiled_convolution_op, _jit_compiled_convolution_op while saving (showing 5 of 13). These functions will not be directly callable after loading.\n"
          ]
        },
        {
          "output_type": "stream",
          "name": "stdout",
          "text": [
            "\b\b\b\b\b\b\b\b\b\b\b\b\b\b\b\b\b\b\b\b\b\b\b\b\b\b\b\b\b\b\b\b\b\b\b\b\b\b\b\b\b\b\b\b\b\b\b\b\b\b\b\b\b\b\b\b\b\b\b\b\b\b\b\b\b\b\b\b\b\b\b\b\b\b\b\b\b\b\b\b\b\b\b\b\r109/109 [==============================] - 57s 521ms/step - loss: 0.0758 - accuracy: 0.9764 - val_loss: 0.5046 - val_accuracy: 0.9023\n",
            "Epoch 12/51\n",
            "109/109 [==============================] - 49s 452ms/step - loss: 0.0464 - accuracy: 0.9865 - val_loss: 0.7736 - val_accuracy: 0.8690\n",
            "Epoch 13/51\n",
            "109/109 [==============================] - ETA: 0s - loss: 0.0538 - accuracy: 0.9816"
          ]
        },
        {
          "output_type": "stream",
          "name": "stderr",
          "text": [
            "WARNING:absl:Found untraced functions such as _jit_compiled_convolution_op, _jit_compiled_convolution_op, _jit_compiled_convolution_op, _jit_compiled_convolution_op, _jit_compiled_convolution_op while saving (showing 5 of 13). These functions will not be directly callable after loading.\n"
          ]
        },
        {
          "output_type": "stream",
          "name": "stdout",
          "text": [
            "\b\b\b\b\b\b\b\b\b\b\b\b\b\b\b\b\b\b\b\b\b\b\b\b\b\b\b\b\b\b\b\b\b\b\b\b\b\b\b\b\b\b\b\b\b\b\b\b\b\b\b\b\b\b\b\b\b\b\b\b\b\b\b\b\b\b\b\b\b\b\b\b\b\b\b\b\b\b\b\b\b\b\b\b\r109/109 [==============================] - 54s 491ms/step - loss: 0.0538 - accuracy: 0.9816 - val_loss: 0.6123 - val_accuracy: 0.9057\n",
            "Epoch 14/51\n",
            "109/109 [==============================] - ETA: 0s - loss: 0.0838 - accuracy: 0.9756"
          ]
        },
        {
          "output_type": "stream",
          "name": "stderr",
          "text": [
            "WARNING:absl:Found untraced functions such as _jit_compiled_convolution_op, _jit_compiled_convolution_op, _jit_compiled_convolution_op, _jit_compiled_convolution_op, _jit_compiled_convolution_op while saving (showing 5 of 13). These functions will not be directly callable after loading.\n"
          ]
        },
        {
          "output_type": "stream",
          "name": "stdout",
          "text": [
            "\b\b\b\b\b\b\b\b\b\b\b\b\b\b\b\b\b\b\b\b\b\b\b\b\b\b\b\b\b\b\b\b\b\b\b\b\b\b\b\b\b\b\b\b\b\b\b\b\b\b\b\b\b\b\b\b\b\b\b\b\b\b\b\b\b\b\b\b\b\b\b\b\b\b\b\b\b\b\b\b\b\b\b\b\r109/109 [==============================] - 59s 539ms/step - loss: 0.0838 - accuracy: 0.9756 - val_loss: 0.5721 - val_accuracy: 0.9080\n",
            "Epoch 15/51\n",
            "109/109 [==============================] - 49s 449ms/step - loss: 0.0597 - accuracy: 0.9810 - val_loss: 0.7431 - val_accuracy: 0.8747\n",
            "Epoch 16/51\n",
            "109/109 [==============================] - 49s 446ms/step - loss: 0.0470 - accuracy: 0.9851 - val_loss: 0.4697 - val_accuracy: 0.8954\n",
            "Epoch 17/51\n",
            "109/109 [==============================] - ETA: 0s - loss: 0.0335 - accuracy: 0.9902"
          ]
        },
        {
          "output_type": "stream",
          "name": "stderr",
          "text": [
            "WARNING:absl:Found untraced functions such as _jit_compiled_convolution_op, _jit_compiled_convolution_op, _jit_compiled_convolution_op, _jit_compiled_convolution_op, _jit_compiled_convolution_op while saving (showing 5 of 13). These functions will not be directly callable after loading.\n"
          ]
        },
        {
          "output_type": "stream",
          "name": "stdout",
          "text": [
            "\b\b\b\b\b\b\b\b\b\b\b\b\b\b\b\b\b\b\b\b\b\b\b\b\b\b\b\b\b\b\b\b\b\b\b\b\b\b\b\b\b\b\b\b\b\b\b\b\b\b\b\b\b\b\b\b\b\b\b\b\b\b\b\b\b\b\b\b\b\b\b\b\b\b\b\b\b\b\b\b\b\b\b\b\r109/109 [==============================] - 53s 483ms/step - loss: 0.0335 - accuracy: 0.9902 - val_loss: 0.4610 - val_accuracy: 0.9115\n",
            "Epoch 18/51\n",
            "109/109 [==============================] - 49s 448ms/step - loss: 0.0233 - accuracy: 0.9934 - val_loss: 0.6864 - val_accuracy: 0.8851\n",
            "Epoch 19/51\n",
            "109/109 [==============================] - ETA: 0s - loss: 0.0154 - accuracy: 0.9954"
          ]
        },
        {
          "output_type": "stream",
          "name": "stderr",
          "text": [
            "WARNING:absl:Found untraced functions such as _jit_compiled_convolution_op, _jit_compiled_convolution_op, _jit_compiled_convolution_op, _jit_compiled_convolution_op, _jit_compiled_convolution_op while saving (showing 5 of 13). These functions will not be directly callable after loading.\n"
          ]
        },
        {
          "output_type": "stream",
          "name": "stdout",
          "text": [
            "\b\b\b\b\b\b\b\b\b\b\b\b\b\b\b\b\b\b\b\b\b\b\b\b\b\b\b\b\b\b\b\b\b\b\b\b\b\b\b\b\b\b\b\b\b\b\b\b\b\b\b\b\b\b\b\b\b\b\b\b\b\b\b\b\b\b\b\b\b\b\b\b\b\b\b\b\b\b\b\b\b\b\b\b\r109/109 [==============================] - 57s 525ms/step - loss: 0.0154 - accuracy: 0.9954 - val_loss: 0.5477 - val_accuracy: 0.9195\n",
            "Epoch 20/51\n",
            "109/109 [==============================] - 49s 451ms/step - loss: 0.0142 - accuracy: 0.9943 - val_loss: 0.5485 - val_accuracy: 0.9195\n",
            "Epoch 21/51\n",
            "109/109 [==============================] - 49s 448ms/step - loss: 0.0357 - accuracy: 0.9905 - val_loss: 0.5304 - val_accuracy: 0.8782\n",
            "Epoch 22/51\n",
            "109/109 [==============================] - 49s 447ms/step - loss: 0.0294 - accuracy: 0.9897 - val_loss: 0.8743 - val_accuracy: 0.8759\n",
            "Epoch 23/51\n",
            "109/109 [==============================] - ETA: 0s - loss: 0.0553 - accuracy: 0.9888"
          ]
        },
        {
          "output_type": "stream",
          "name": "stderr",
          "text": [
            "WARNING:absl:Found untraced functions such as _jit_compiled_convolution_op, _jit_compiled_convolution_op, _jit_compiled_convolution_op, _jit_compiled_convolution_op, _jit_compiled_convolution_op while saving (showing 5 of 13). These functions will not be directly callable after loading.\n"
          ]
        },
        {
          "output_type": "stream",
          "name": "stdout",
          "text": [
            "\b\b\b\b\b\b\b\b\b\b\b\b\b\b\b\b\b\b\b\b\b\b\b\b\b\b\b\b\b\b\b\b\b\b\b\b\b\b\b\b\b\b\b\b\b\b\b\b\b\b\b\b\b\b\b\b\b\b\b\b\b\b\b\b\b\b\b\b\b\b\b\b\b\b\b\b\b\b\b\b\b\b\b\b\r109/109 [==============================] - 57s 527ms/step - loss: 0.0553 - accuracy: 0.9888 - val_loss: 0.4537 - val_accuracy: 0.9276\n",
            "Epoch 24/51\n",
            "109/109 [==============================] - 50s 452ms/step - loss: 0.0248 - accuracy: 0.9928 - val_loss: 0.4789 - val_accuracy: 0.9161\n",
            "Epoch 25/51\n",
            "109/109 [==============================] - ETA: 0s - loss: 0.0171 - accuracy: 0.9948"
          ]
        },
        {
          "output_type": "stream",
          "name": "stderr",
          "text": [
            "WARNING:absl:Found untraced functions such as _jit_compiled_convolution_op, _jit_compiled_convolution_op, _jit_compiled_convolution_op, _jit_compiled_convolution_op, _jit_compiled_convolution_op while saving (showing 5 of 13). These functions will not be directly callable after loading.\n"
          ]
        },
        {
          "output_type": "stream",
          "name": "stdout",
          "text": [
            "\b\b\b\b\b\b\b\b\b\b\b\b\b\b\b\b\b\b\b\b\b\b\b\b\b\b\b\b\b\b\b\b\b\b\b\b\b\b\b\b\b\b\b\b\b\b\b\b\b\b\b\b\b\b\b\b\b\b\b\b\b\b\b\b\b\b\b\b\b\b\b\b\b\b\b\b\b\b\b\b\b\b\b\b\r109/109 [==============================] - 58s 527ms/step - loss: 0.0171 - accuracy: 0.9948 - val_loss: 0.5561 - val_accuracy: 0.9299\n",
            "Epoch 26/51\n",
            "109/109 [==============================] - 49s 450ms/step - loss: 0.0280 - accuracy: 0.9928 - val_loss: 0.5956 - val_accuracy: 0.9103\n",
            "Epoch 27/51\n",
            "109/109 [==============================] - 49s 445ms/step - loss: 0.0198 - accuracy: 0.9948 - val_loss: 0.5335 - val_accuracy: 0.9276\n",
            "Epoch 28/51\n",
            "109/109 [==============================] - 49s 447ms/step - loss: 0.0184 - accuracy: 0.9957 - val_loss: 0.3775 - val_accuracy: 0.9287\n",
            "Epoch 29/51\n",
            "109/109 [==============================] - 49s 450ms/step - loss: 0.0336 - accuracy: 0.9917 - val_loss: 0.4204 - val_accuracy: 0.9253\n",
            "Epoch 30/51\n",
            "109/109 [==============================] - 49s 445ms/step - loss: 0.0028 - accuracy: 0.9991 - val_loss: 0.5099 - val_accuracy: 0.9230\n",
            "Epoch 31/51\n",
            "109/109 [==============================] - 49s 448ms/step - loss: 2.3286e-04 - accuracy: 1.0000 - val_loss: 0.5696 - val_accuracy: 0.9287\n",
            "Epoch 32/51\n",
            "109/109 [==============================] - ETA: 0s - loss: 1.5470e-05 - accuracy: 1.0000"
          ]
        },
        {
          "output_type": "stream",
          "name": "stderr",
          "text": [
            "WARNING:absl:Found untraced functions such as _jit_compiled_convolution_op, _jit_compiled_convolution_op, _jit_compiled_convolution_op, _jit_compiled_convolution_op, _jit_compiled_convolution_op while saving (showing 5 of 13). These functions will not be directly callable after loading.\n"
          ]
        },
        {
          "output_type": "stream",
          "name": "stdout",
          "text": [
            "\b\b\b\b\b\b\b\b\b\b\b\b\b\b\b\b\b\b\b\b\b\b\b\b\b\b\b\b\b\b\b\b\b\b\b\b\b\b\b\b\b\b\b\b\b\b\b\b\b\b\b\b\b\b\b\b\b\b\b\b\b\b\b\b\b\b\b\b\b\b\b\b\b\b\b\b\b\b\b\b\b\b\b\b\b\b\b\b\r109/109 [==============================] - 58s 531ms/step - loss: 1.5470e-05 - accuracy: 1.0000 - val_loss: 0.5753 - val_accuracy: 0.9310\n",
            "Epoch 33/51\n",
            "109/109 [==============================] - 50s 452ms/step - loss: 1.0947e-05 - accuracy: 1.0000 - val_loss: 0.5799 - val_accuracy: 0.9299\n",
            "Epoch 34/51\n",
            "109/109 [==============================] - ETA: 0s - loss: 8.6948e-06 - accuracy: 1.0000"
          ]
        },
        {
          "output_type": "stream",
          "name": "stderr",
          "text": [
            "WARNING:absl:Found untraced functions such as _jit_compiled_convolution_op, _jit_compiled_convolution_op, _jit_compiled_convolution_op, _jit_compiled_convolution_op, _jit_compiled_convolution_op while saving (showing 5 of 13). These functions will not be directly callable after loading.\n"
          ]
        },
        {
          "output_type": "stream",
          "name": "stdout",
          "text": [
            "\b\b\b\b\b\b\b\b\b\b\b\b\b\b\b\b\b\b\b\b\b\b\b\b\b\b\b\b\b\b\b\b\b\b\b\b\b\b\b\b\b\b\b\b\b\b\b\b\b\b\b\b\b\b\b\b\b\b\b\b\b\b\b\b\b\b\b\b\b\b\b\b\b\b\b\b\b\b\b\b\b\b\b\b\b\b\b\b\r109/109 [==============================] - 53s 482ms/step - loss: 8.6948e-06 - accuracy: 1.0000 - val_loss: 0.5843 - val_accuracy: 0.9322\n",
            "Epoch 35/51\n",
            "109/109 [==============================] - 50s 453ms/step - loss: 7.1790e-06 - accuracy: 1.0000 - val_loss: 0.5887 - val_accuracy: 0.9322\n",
            "Epoch 36/51\n",
            "109/109 [==============================] - 49s 444ms/step - loss: 6.0943e-06 - accuracy: 1.0000 - val_loss: 0.5927 - val_accuracy: 0.9310\n",
            "Epoch 37/51\n",
            "109/109 [==============================] - 49s 446ms/step - loss: 5.2631e-06 - accuracy: 1.0000 - val_loss: 0.5964 - val_accuracy: 0.9310\n",
            "Epoch 38/51\n",
            "109/109 [==============================] - 49s 447ms/step - loss: 4.6017e-06 - accuracy: 1.0000 - val_loss: 0.6000 - val_accuracy: 0.9310\n",
            "Epoch 39/51\n",
            "109/109 [==============================] - 51s 461ms/step - loss: 4.0623e-06 - accuracy: 1.0000 - val_loss: 0.6033 - val_accuracy: 0.9310\n",
            "Epoch 40/51\n",
            "109/109 [==============================] - 49s 448ms/step - loss: 3.6194e-06 - accuracy: 1.0000 - val_loss: 0.6068 - val_accuracy: 0.9299\n",
            "Epoch 41/51\n",
            "109/109 [==============================] - 49s 447ms/step - loss: 3.2437e-06 - accuracy: 1.0000 - val_loss: 0.6101 - val_accuracy: 0.9299\n",
            "Epoch 42/51\n",
            "109/109 [==============================] - 49s 447ms/step - loss: 2.9218e-06 - accuracy: 1.0000 - val_loss: 0.6132 - val_accuracy: 0.9299\n",
            "Epoch 43/51\n",
            "109/109 [==============================] - 50s 452ms/step - loss: 2.6448e-06 - accuracy: 1.0000 - val_loss: 0.6163 - val_accuracy: 0.9299\n",
            "Epoch 44/51\n",
            "109/109 [==============================] - 50s 457ms/step - loss: 2.4033e-06 - accuracy: 1.0000 - val_loss: 0.6194 - val_accuracy: 0.9287\n",
            "Epoch 45/51\n",
            "109/109 [==============================] - 49s 449ms/step - loss: 2.1908e-06 - accuracy: 1.0000 - val_loss: 0.6223 - val_accuracy: 0.9287\n",
            "Epoch 46/51\n",
            "109/109 [==============================] - 50s 460ms/step - loss: 2.0030e-06 - accuracy: 1.0000 - val_loss: 0.6252 - val_accuracy: 0.9299\n",
            "Epoch 47/51\n",
            "109/109 [==============================] - 49s 451ms/step - loss: 1.8354e-06 - accuracy: 1.0000 - val_loss: 0.6281 - val_accuracy: 0.9299\n",
            "Epoch 48/51\n",
            "109/109 [==============================] - 48s 439ms/step - loss: 1.6876e-06 - accuracy: 1.0000 - val_loss: 0.6309 - val_accuracy: 0.9299\n",
            "Epoch 49/51\n",
            "109/109 [==============================] - 49s 447ms/step - loss: 1.5527e-06 - accuracy: 1.0000 - val_loss: 0.6337 - val_accuracy: 0.9299\n",
            "Epoch 50/51\n",
            "109/109 [==============================] - 49s 447ms/step - loss: 1.4328e-06 - accuracy: 1.0000 - val_loss: 0.6365 - val_accuracy: 0.9299\n",
            "Epoch 51/51\n",
            "109/109 [==============================] - 49s 447ms/step - loss: 1.3240e-06 - accuracy: 1.0000 - val_loss: 0.6392 - val_accuracy: 0.9299\n"
          ]
        }
      ]
    },
    {
      "cell_type": "code",
      "source": [
        "# Standard plotting function, should start to make a module of this !\n",
        "def plot_results(metrics, ylabel=None, ylim=None, metric_name=None, color=None):\n",
        "\n",
        "    fig, ax = plt.subplots(figsize=(15, 4))\n",
        "\n",
        "    if not (isinstance(metric_name, list) or isinstance(metric_name, tuple)):\n",
        "        metrics = [metrics,]\n",
        "        metric_name = [metric_name,]\n",
        "\n",
        "    for idx, metric in enumerate(metrics):\n",
        "        ax.plot(metric, color=color[idx])\n",
        "\n",
        "    plt.xlabel(\"Epoch\")\n",
        "    plt.ylabel(ylabel)\n",
        "    plt.title(ylabel)\n",
        "    plt.xlim([0, TrainingConfig.EPOCSHS-1])\n",
        "    plt.ylim(ylim)\n",
        "    # Tailor x-axis tick marks\n",
        "    ax.xaxis.set_major_locator(MultipleLocator(5))\n",
        "    ax.xaxis.set_major_formatter(FormatStrFormatter('%d'))\n",
        "    ax.xaxis.set_minor_locator(MultipleLocator(1))\n",
        "    plt.grid(True)\n",
        "    plt.legend(metric_name)\n",
        "    plt.show(block=block_plot)\n",
        "    plt.close()"
      ],
      "metadata": {
        "id": "-1DeoJSXF7HR"
      },
      "execution_count": null,
      "outputs": []
    },
    {
      "cell_type": "code",
      "source": [
        "train_loss = trainig_results.history['loss']\n",
        "train_acc  = trainig_results.history['accuracy']\n",
        "valid_loss = trainig_results.history['val_loss']\n",
        "valid_acc  = trainig_results.history['val_accuracy']\n",
        "\n",
        "max_loss = max(max(train_loss), max(valid_loss))\n",
        "plot_results([train_acc, valid_acc], ylabel = 'Accuracy',\n",
        "                ylim=[0.0, 1.0],\n",
        "                metric_name = [\"Training Accuracy\",\" Validation Accuracy\"],\n",
        "                color=[\"g\",\"b\"])\n",
        "\n",
        "plot_results([train_loss, valid_loss], ylabel = 'Loss',\n",
        "                ylim=[0.0, max_loss],\n",
        "                metric_name = [\"Training Loss\", \"Validation Loss\"],\n",
        "                color=[\"g\",\"b\"])\n",
        "\n"
      ],
      "metadata": {
        "id": "_xYI3sc_SyQk",
        "colab": {
          "base_uri": "https://localhost:8080/",
          "height": 803
        },
        "outputId": "b533eb26-ce5d-44f1-e2f0-e73901166984"
      },
      "execution_count": null,
      "outputs": [
        {
          "output_type": "display_data",
          "data": {
            "text/plain": [
              "<Figure size 1500x400 with 1 Axes>"
            ],
            "image/png": "[encoded data removed]"
          },
          "metadata": {}
        },
        {
          "output_type": "display_data",
          "data": {
            "text/plain": [
              "<Figure size 1500x400 with 1 Axes>"
            ],
            "image/png": "[encoded data removed]"
          },
          "metadata": {}
        }
      ]
    },
    {
      "cell_type": "code",
      "source": [
        "print(f\"Model evaluation accuracy: {vgg16_model.evaluate(valid_dataset)[1]*100.:.3f}\")"
      ],
      "metadata": {
        "colab": {
          "base_uri": "https://localhost:8080/"
        },
        "id": "tmvQaUxRAzLD",
        "outputId": "6c3dc441-78da-465c-bc78-38a84c3bbf03"
      },
      "execution_count": null,
      "outputs": [
        {
          "output_type": "stream",
          "name": "stdout",
          "text": [
            "28/28 [==============================] - 4s 117ms/step - loss: 0.6392 - accuracy: 0.9299\n",
            "Model evaluation accuracy: 92.989\n"
          ]
        }
      ]
    }
  ]
}