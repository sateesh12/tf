{
 "cells": [
  {
   "cell_type": "code",
   "execution_count": null,
   "id": "6e566bba",
   "metadata": {},
   "outputs": [],
   "source": [
    "import tensorflow as tf\n",
    "from tensorflow.keras.models import Sequential\n",
    "from tensorflow.keras.layers import Dense, Activation\n",
    "import numpy as np\n",
    "import matplotlib.pyplot as plt\n"
   ]
  },
  {
   "cell_type": "code",
   "execution_count": null,
   "id": "1c08403b",
   "metadata": {},
   "outputs": [],
   "source": [
    "# Set defaults for plots\n",
    "plt.style.use('ggplot')\n",
    "plt.rcParams['figure.figsize'] = (15,7)\n",
    "plt.rcParams['axes.titlesize'] = 18\n",
    "plt.rcParams['axes.labelsize'] = 18\n",
    "plt.block_plt = False"
   ]
  },
  {
   "cell_type": "code",
   "execution_count": null,
   "id": "6cbfe672",
   "metadata": {},
   "outputs": [],
   "source": [
    "# Create linear data\n",
    "def create_linear_data(num_data=100, y_offset=0, slope=2, stdev=0.3):\n",
    "    tf.random.set_seed(42)\n",
    "    X = 10 * tf.random.uniform(shape=[num_data])\n",
    "    y = y_offset + slope * X + tf.random.normal(stddev=stdev,shape=[num_data])\n",
    "    X = tf.reshape(X,(len(X),1))\n",
    "    y = tf.reshape(y,(len(X),1))\n",
    "    return X, y"
   ]
  },
  {
   "cell_type": "code",
   "execution_count": null,
   "id": "a2983796",
   "metadata": {},
   "outputs": [],
   "source": [
    "# Create non-linear data\n",
    "def create_non_linear_data(Xmin=-10, Xmax=10, num_data=100, theta_0=0, theta_1=0.3, theta_2=0.05, noise=0.1):\n",
    "    tf.random.set_seed(42)\n",
    "    X = np.linspace(Xmin,Xmax,num=num_data)\n",
    "    y = theta_0 + theta_1 * X * np.cos(X) + theta_2 * X**2 + noise * np.random.normal(size=num_data)\n",
    "    \n",
    "    X = tf.reshape(X, (len(X), 1))\n",
    "    y = tf.reshape(y, (len(y), 1))\n",
    "    '''\n",
    "    print(X)\n",
    "    print(y)\n",
    "    '''\n",
    "    return X, y"
   ]
  },
  {
   "cell_type": "code",
   "execution_count": null,
   "id": "63c69ac6",
   "metadata": {},
   "outputs": [],
   "source": [
    "# Plot a graph of an input Tensor\n",
    "def plot_data(x,y):\n",
    "    plt.figure\n",
    "    plt.plot(x,y,'b.')\n",
    "    plt.xlabel('X')\n",
    "    plt.ylabel('y')\n",
    "    plt.show()\n",
    "    "
   ]
  },
  {
   "cell_type": "code",
   "execution_count": null,
   "id": "dac30f94",
   "metadata": {},
   "outputs": [],
   "source": [
    "def create_and_compile_model():\n",
    "    model = Sequential()\n",
    "    model.add(Dense(1, input_shape=(1,), activation=None, use_bias=False))\n",
    "    model.summary()\n",
    "    model.compile(loss='mse', optimizer='adam')\n",
    "    return model"
   ]
  },
  {
   "cell_type": "code",
   "execution_count": null,
   "id": "f03959e4",
   "metadata": {},
   "outputs": [],
   "source": [
    "def train_model(model, X, y):\n",
    "    history = model.fit(X, y, epochs=1000, verbose=0)\n",
    "    return history"
   ]
  },
  {
   "cell_type": "code",
   "execution_count": null,
   "id": "f1652471",
   "metadata": {},
   "outputs": [],
   "source": [
    "def plot_loss_vs_epochs(loss_values,epochs):\n",
    "    plt.figure(figsize=[15,5])\n",
    "    plt.plot(epochs, loss_values, \"red\", label='Training loss')\n",
    "    plt.title('Traning and Validation loss')\n",
    "    plt.xlabel('Epocs')\n",
    "    plt.ylabel('Loss')\n",
    "    plt.legend()\n",
    "    plt.show()"
   ]
  },
  {
   "cell_type": "code",
   "execution_count": null,
   "id": "883ae13f",
   "metadata": {},
   "outputs": [],
   "source": [
    "def display_non_linear_predictions(model):\n",
    "    pred_theta_0 = model.layers[0].bias[0].numpy()\n",
    "    temp         = model.layers[0].weights[0].numpy()\n",
    "    pred_theta_1 = temp[0]\n",
    "    #pred_theta_2 = temp[1]\n",
    "    print('Predicted Coefficients:\\n')\n",
    "    print('theta_0 = ', pred_theta_0)\n",
    "    print('theta_1 = ', pred_theta_1[0])\n",
    "    #print('theta_2 = ', pred_theta_2[0])\n",
    "    \n",
    "    "
   ]
  },
  {
   "cell_type": "code",
   "execution_count": null,
   "id": "3460a9f0",
   "metadata": {},
   "outputs": [],
   "source": [
    "def display_slope_prediction(model):\n",
    "    print('slope', model.layers[0].weights[0].numpy())"
   ]
  },
  {
   "cell_type": "code",
   "execution_count": null,
   "id": "d5adc496",
   "metadata": {},
   "outputs": [],
   "source": [
    "def main():\n",
    "    X, y = create_linear_data()\n",
    "    plot_data(X,y)\n",
    "    model = create_and_compile_model()\n",
    "    training_history = train_model(model,X,y)\n",
    "    loss_values = training_history.history['loss']\n",
    "    epochs = range(1,len(loss_values) + 1)\n",
    "    plot_loss_vs_epochs(loss_values, epochs)\n",
    "    display_slope_prediction(model)\n",
    "    "
   ]
  },
  {
   "cell_type": "code",
   "execution_count": null,
   "id": "00c3dcd6",
   "metadata": {},
   "outputs": [],
   "source": [
    "if __name__ == '__main__':\n",
    "    main()\n",
    "    "
   ]
  },
  {
   "cell_type": "code",
   "execution_count": null,
   "id": "40b2d86a",
   "metadata": {},
   "outputs": [],
   "source": []
  }
 ],
 "metadata": {
  "kernelspec": {
   "display_name": "Python 3 (ipykernel)",
   "language": "python",
   "name": "python3"
  },
  "language_info": {
   "codemirror_mode": {
    "name": "ipython",
    "version": 3
   },
   "file_extension": ".py",
   "mimetype": "text/x-python",
   "name": "python",
   "nbconvert_exporter": "python",
   "pygments_lexer": "ipython3",
   "version": "3.11.4"
  }
 },
 "nbformat": 4,
 "nbformat_minor": 5
}
