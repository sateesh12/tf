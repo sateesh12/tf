{
  "nbformat": 4,
  "nbformat_minor": 0,
  "metadata": {
    "colab": {
      "provenance": [],
      "gpuType": "T4",
      "authorship_tag": "ABX9TyPRVnKLMx4DgnzBlPSm/MiB",
      "include_colab_link": true
    },
    "kernelspec": {
      "name": "python3",
      "display_name": "Python 3"
    },
    "language_info": {
      "name": "python"
    },
    "accelerator": "GPU"
  },
  "cells": [
    {
      "cell_type": "markdown",
      "metadata": {
        "id": "view-in-github",
        "colab_type": "text"
      },
      "source": [
        "<a href=\"https://colab.research.google.com/github/sateesh12/tf/blob/main/vgg16_transfer_learning.ipynb\" target=\"_parent\"><img src=\"https://colab.research.google.com/assets/colab-badge.svg\" alt=\"Open In Colab\"/></a>"
      ]
    },
    {
      "cell_type": "code",
      "execution_count": null,
      "metadata": {
        "id": "sFBtwW3WcE5s"
      },
      "outputs": [],
      "source": [
        "import tensorflow as tf\n",
        "from tensorflow import keras\n",
        "from tensorflow.keras import layers\n",
        "import random\n",
        "import numpy as np\n",
        "import os\n",
        "import matplotlib.pyplot as plt\n",
        "import cv2\n",
        "import zipfile\n",
        "import requests\n",
        "import glob as glob\n",
        "\n",
        "from tensorflow.keras.utils import image_dataset_from_directory\n",
        "from matplotlib.ticker import (MultipleLocator, FormatStrFormatter)\n",
        "from dataclasses import dataclass\n",
        "\n",
        "block_plot = False\n",
        "plt.rcParams['figure.figsize'] = (12,9)\n",
        "SEED_VALUE = 42"
      ]
    },
    {
      "cell_type": "code",
      "source": [
        "def download_and_unzip(url, save_name):\n",
        "    #url = url\n",
        "    file = requests.get(url)\n",
        "    open(save_name, 'wb').write(file.content)\n",
        "    try:\n",
        "        with zipfile.ZipFile(save_name) as z:\n",
        "            z.extractall(\"./\")\n",
        "            print('Extracted all')\n",
        "    except:\n",
        "        print('Invalid data')\n",
        "\n",
        "download_and_unzip('https://www.dropbox.com/s/6nrjxr2ycnpcy63/dataset_balls.zip?dl=1',\n",
        "    'dataset_balls.zip')"
      ],
      "metadata": {
        "id": "yETkC-uJfdpb"
      },
      "execution_count": null,
      "outputs": []
    },
    {
      "cell_type": "code",
      "source": [
        "from keras.api._v2.keras import datasets\n",
        "@dataclass (frozen=True)\n",
        "class DatasetConfig:\n",
        "    NUM_CLASSES:  int = 10\n",
        "    IMG_HEIGHT:    int = 224\n",
        "    IMG_WIDTH:     int  = 224\n",
        "    CHANNELS:        int  = 3\n",
        "    BATCH_SIZE:     int  = 32\n",
        "    DATA_ROOT_TRAIN: str='./dataset_balls/train'\n",
        "    DATA_ROOT_VALID: str='./dataset_balls/valid'\n",
        "\n",
        "@dataclass(frozen=True)\n",
        "class TrainingConfig:\n",
        "    BATCH_SIZE: int = 32\n",
        "    EPOCSHS:     int = 51\n",
        "    LEARNING_RATE: float = 0.0001\n",
        "    CHECKPOINT_DIR: str = './saved_models_balls'\n"
      ],
      "metadata": {
        "id": "eUm4a4fthFPD"
      },
      "execution_count": null,
      "outputs": []
    },
    {
      "cell_type": "code",
      "source": [
        "# Load an existing VGG16  model using Keras.\n",
        "input_shape = (DatasetConfig.IMG_HEIGHT, DatasetConfig.IMG_WIDTH, DatasetConfig.CHANNELS)\n",
        "'''\n",
        "print('Load the model with random weights')\n",
        "vgg16_conv_base = tf.keras.applications.vgg16.VGG16(input_shape=input_shape, include_top=False, weights=None)\n",
        "vgg16_conv_base.trainable = True\n",
        "print('All kernel weights are trainable')\n",
        "'''\n",
        "vgg16_conv_base = tf.keras.applications.vgg16.VGG16(input_shape=input_shape, include_top=False, weights='imagenet')\n",
        "vgg16_conv_base.trainable = False\n",
        "\n",
        "print(vgg16_conv_base.summary())"
      ],
      "metadata": {
        "id": "rvSjeMpMi_Ub",
        "colab": {
          "base_uri": "https://localhost:8080/"
        },
        "collapsed": true,
        "outputId": "1eecf6c2-d917-4ea2-88d7-5888eae06d55"
      },
      "execution_count": 17,
      "outputs": [
        {
          "output_type": "stream",
          "name": "stdout",
          "text": [
            "Downloading data from https://storage.googleapis.com/tensorflow/keras-applications/vgg16/vgg16_weights_tf_dim_ordering_tf_kernels_notop.h5\n",
            "58889256/58889256 [==============================] - 2s 0us/step\n",
            "Model: \"vgg16\"\n",
            "_________________________________________________________________\n",
            " Layer (type)                Output Shape              Param #   \n",
            "=================================================================\n",
            " input_3 (InputLayer)        [(None, 224, 224, 3)]     0         \n",
            "                                                                 \n",
            " block1_conv1 (Conv2D)       (None, 224, 224, 64)      1792      \n",
            "                                                                 \n",
            " block1_conv2 (Conv2D)       (None, 224, 224, 64)      36928     \n",
            "                                                                 \n",
            " block1_pool (MaxPooling2D)  (None, 112, 112, 64)      0         \n",
            "                                                                 \n",
            " block2_conv1 (Conv2D)       (None, 112, 112, 128)     73856     \n",
            "                                                                 \n",
            " block2_conv2 (Conv2D)       (None, 112, 112, 128)     147584    \n",
            "                                                                 \n",
            " block2_pool (MaxPooling2D)  (None, 56, 56, 128)       0         \n",
            "                                                                 \n",
            " block3_conv1 (Conv2D)       (None, 56, 56, 256)       295168    \n",
            "                                                                 \n",
            " block3_conv2 (Conv2D)       (None, 56, 56, 256)       590080    \n",
            "                                                                 \n",
            " block3_conv3 (Conv2D)       (None, 56, 56, 256)       590080    \n",
            "                                                                 \n",
            " block3_pool (MaxPooling2D)  (None, 28, 28, 256)       0         \n",
            "                                                                 \n",
            " block4_conv1 (Conv2D)       (None, 28, 28, 512)       1180160   \n",
            "                                                                 \n",
            " block4_conv2 (Conv2D)       (None, 28, 28, 512)       2359808   \n",
            "                                                                 \n",
            " block4_conv3 (Conv2D)       (None, 28, 28, 512)       2359808   \n",
            "                                                                 \n",
            " block4_pool (MaxPooling2D)  (None, 14, 14, 512)       0         \n",
            "                                                                 \n",
            " block5_conv1 (Conv2D)       (None, 14, 14, 512)       2359808   \n",
            "                                                                 \n",
            " block5_conv2 (Conv2D)       (None, 14, 14, 512)       2359808   \n",
            "                                                                 \n",
            " block5_conv3 (Conv2D)       (None, 14, 14, 512)       2359808   \n",
            "                                                                 \n",
            " block5_pool (MaxPooling2D)  (None, 7, 7, 512)         0         \n",
            "                                                                 \n",
            "=================================================================\n",
            "Total params: 14,714,688\n",
            "Trainable params: 0\n",
            "Non-trainable params: 14,714,688\n",
            "_________________________________________________________________\n",
            "None\n"
          ]
        }
      ]
    },
    {
      "cell_type": "code",
      "source": [
        "# Add classifictaion layer, the above CNN extracted the features.\n",
        "inputs = tf.keras.Input(shape=input_shape)\n",
        "\n",
        "x = tf.keras.applications.vgg16.preprocess_input(inputs)\n",
        "x = vgg16_conv_base(x)\n",
        "x = layers.Flatten()(x)\n",
        "x = layers.Dense(256, activation='relu')(x)\n",
        "outputs = layers.Dense(DatasetConfig.NUM_CLASSES, activation='softmax')(x)\n",
        "vgg16_model = keras.Model(inputs, outputs)\n",
        "print(vgg16_model.summary())"
      ],
      "metadata": {
        "id": "_FmH1M2Y84iZ",
        "colab": {
          "base_uri": "https://localhost:8080/"
        },
        "outputId": "30d6ae51-3a40-4097-c92e-ef326dd9ae43"
      },
      "execution_count": 18,
      "outputs": [
        {
          "output_type": "stream",
          "name": "stdout",
          "text": [
            "Model: \"model_1\"\n",
            "_________________________________________________________________\n",
            " Layer (type)                Output Shape              Param #   \n",
            "=================================================================\n",
            " input_4 (InputLayer)        [(None, 224, 224, 3)]     0         \n",
            "                                                                 \n",
            " tf.__operators__.getitem_1   (None, 224, 224, 3)      0         \n",
            " (SlicingOpLambda)                                               \n",
            "                                                                 \n",
            " tf.nn.bias_add_1 (TFOpLambd  (None, 224, 224, 3)      0         \n",
            " a)                                                              \n",
            "                                                                 \n",
            " vgg16 (Functional)          (None, 7, 7, 512)         14714688  \n",
            "                                                                 \n",
            " flatten_1 (Flatten)         (None, 25088)             0         \n",
            "                                                                 \n",
            " dense_2 (Dense)             (None, 256)               6422784   \n",
            "                                                                 \n",
            " dense_3 (Dense)             (None, 10)                2570      \n",
            "                                                                 \n",
            "=================================================================\n",
            "Total params: 21,140,042\n",
            "Trainable params: 6,425,354\n",
            "Non-trainable params: 14,714,688\n",
            "_________________________________________________________________\n",
            "None\n"
          ]
        }
      ]
    },
    {
      "cell_type": "code",
      "source": [
        "# Split into training and validation set\n",
        "train_dataset = image_dataset_from_directory(directory=DatasetConfig.DATA_ROOT_TRAIN,\n",
        "                                                                        batch_size=TrainingConfig.BATCH_SIZE,\n",
        "                                                                        seed = SEED_VALUE,\n",
        "                                                                        label_mode='categorical',\n",
        "                                                                        image_size = (DatasetConfig.IMG_WIDTH, DatasetConfig.IMG_HEIGHT))\n",
        "valid_dataset = image_dataset_from_directory(directory=DatasetConfig.DATA_ROOT_VALID,\n",
        "                                                                        batch_size=TrainingConfig.BATCH_SIZE,\n",
        "                                                                        seed = SEED_VALUE,\n",
        "                                                                        label_mode='categorical',\n",
        "                                                                        image_size = (DatasetConfig.IMG_WIDTH, DatasetConfig.IMG_HEIGHT))"
      ],
      "metadata": {
        "id": "3jNkgYaCAOVs"
      },
      "execution_count": null,
      "outputs": []
    },
    {
      "cell_type": "code",
      "source": [
        "from keras.engine.training import optimizer\n",
        "# Compile and train the model of vgg-16\n",
        "vgg16_model.compile(optimizer=tf.keras.optimizers.Adam(learning_rate=TrainingConfig.LEARNING_RATE),\n",
        "                                                       loss = tf.keras.losses.CategoricalCrossentropy(from_logits=False),\n",
        "                                                       metrics=['accuracy'])\n",
        "\n",
        "model_checkpoint_callback = tf.keras.callbacks.ModelCheckpoint(filepath=TrainingConfig.CHECKPOINT_DIR,\n",
        "                                                                                                save_weights_only=False,\n",
        "                                                                                                monitor='val_accuracy',\n",
        "                                                                                                mode='max',\n",
        "                                                                                                save_best_only=True)\n",
        "trainig_results = vgg16_model.fit(train_dataset,\n",
        "                                                validation_data=valid_dataset,\n",
        "                                                epochs=TrainingConfig.EPOCSHS,\n",
        "                                                workers=4,\n",
        "                                                use_multiprocessing=True,\n",
        "                                                callbacks=model_checkpoint_callback)"
      ],
      "metadata": {
        "id": "4h3iBEgxBszy",
        "colab": {
          "base_uri": "https://localhost:8080/"
        },
        "outputId": "72e51d4d-0847-4a2e-88ed-aa5e3d7fd110"
      },
      "execution_count": 19,
      "outputs": [
        {
          "output_type": "stream",
          "name": "stdout",
          "text": [
            "Epoch 1/51\n",
            "35/36 [============================>.] - ETA: 0s - loss: 3.0300 - accuracy: 0.7920"
          ]
        },
        {
          "output_type": "stream",
          "name": "stderr",
          "text": [
            "WARNING:absl:Found untraced functions such as _jit_compiled_convolution_op, _jit_compiled_convolution_op, _jit_compiled_convolution_op, _jit_compiled_convolution_op, _jit_compiled_convolution_op while saving (showing 5 of 13). These functions will not be directly callable after loading.\n"
          ]
        },
        {
          "output_type": "stream",
          "name": "stdout",
          "text": [
            "\b\b\b\b\b\b\b\b\b\b\b\b\b\b\b\b\b\b\b\b\b\b\b\b\b\b\b\b\b\b\b\b\b\b\b\b\b\b\b\b\b\b\b\b\b\b\b\b\b\b\b\b\b\b\b\b\b\b\b\b\b\b\b\b\b\b\b\b\b\b\b\b\b\b\b\b\b\b\b\b\b\b\r36/36 [==============================] - 10s 244ms/step - loss: 3.0165 - accuracy: 0.7929 - val_loss: 0.6073 - val_accuracy: 0.9450\n",
            "Epoch 2/51\n",
            "35/36 [============================>.] - ETA: 0s - loss: 0.0694 - accuracy: 0.9911"
          ]
        },
        {
          "output_type": "stream",
          "name": "stderr",
          "text": [
            "WARNING:absl:Found untraced functions such as _jit_compiled_convolution_op, _jit_compiled_convolution_op, _jit_compiled_convolution_op, _jit_compiled_convolution_op, _jit_compiled_convolution_op while saving (showing 5 of 13). These functions will not be directly callable after loading.\n"
          ]
        },
        {
          "output_type": "stream",
          "name": "stdout",
          "text": [
            "\b\b\b\b\b\b\b\b\b\b\b\b\b\b\b\b\b\b\b\b\b\b\b\b\b\b\b\b\b\b\b\b\b\b\b\b\b\b\b\b\b\b\b\b\b\b\b\b\b\b\b\b\b\b\b\b\b\b\b\b\b\b\b\b\b\b\b\b\b\b\b\b\b\b\b\b\b\b\b\b\b\b\r36/36 [==============================] - 8s 232ms/step - loss: 0.0690 - accuracy: 0.9911 - val_loss: 0.4711 - val_accuracy: 0.9500\n",
            "Epoch 3/51\n",
            "35/36 [============================>.] - ETA: 0s - loss: 0.0084 - accuracy: 0.9973"
          ]
        },
        {
          "output_type": "stream",
          "name": "stderr",
          "text": [
            "WARNING:absl:Found untraced functions such as _jit_compiled_convolution_op, _jit_compiled_convolution_op, _jit_compiled_convolution_op, _jit_compiled_convolution_op, _jit_compiled_convolution_op while saving (showing 5 of 13). These functions will not be directly callable after loading.\n"
          ]
        },
        {
          "output_type": "stream",
          "name": "stdout",
          "text": [
            "\b\b\b\b\b\b\b\b\b\b\b\b\b\b\b\b\b\b\b\b\b\b\b\b\b\b\b\b\b\b\b\b\b\b\b\b\b\b\b\b\b\b\b\b\b\b\b\b\b\b\b\b\b\b\b\b\b\b\b\b\b\b\b\b\b\b\b\b\b\b\b\b\b\b\b\b\b\b\b\b\b\b\r36/36 [==============================] - 9s 231ms/step - loss: 0.0084 - accuracy: 0.9973 - val_loss: 0.3141 - val_accuracy: 0.9600\n",
            "Epoch 4/51\n",
            "36/36 [==============================] - 5s 147ms/step - loss: 1.8289e-04 - accuracy: 1.0000 - val_loss: 0.3522 - val_accuracy: 0.9600\n",
            "Epoch 5/51\n",
            "36/36 [==============================] - 5s 147ms/step - loss: 1.9318e-05 - accuracy: 1.0000 - val_loss: 0.3521 - val_accuracy: 0.9600\n",
            "Epoch 6/51\n",
            "36/36 [==============================] - 5s 147ms/step - loss: 1.3943e-05 - accuracy: 1.0000 - val_loss: 0.3521 - val_accuracy: 0.9600\n",
            "Epoch 7/51\n",
            "36/36 [==============================] - 6s 158ms/step - loss: 1.0931e-05 - accuracy: 1.0000 - val_loss: 0.3523 - val_accuracy: 0.9600\n",
            "Epoch 8/51\n",
            "36/36 [==============================] - 6s 148ms/step - loss: 8.9293e-06 - accuracy: 1.0000 - val_loss: 0.3522 - val_accuracy: 0.9600\n",
            "Epoch 9/51\n",
            "36/36 [==============================] - 6s 148ms/step - loss: 7.4926e-06 - accuracy: 1.0000 - val_loss: 0.3523 - val_accuracy: 0.9600\n",
            "Epoch 10/51\n",
            "36/36 [==============================] - 6s 148ms/step - loss: 6.4102e-06 - accuracy: 1.0000 - val_loss: 0.3522 - val_accuracy: 0.9600\n",
            "Epoch 11/51\n",
            "36/36 [==============================] - 6s 154ms/step - loss: 5.5723e-06 - accuracy: 1.0000 - val_loss: 0.3522 - val_accuracy: 0.9600\n",
            "Epoch 12/51\n",
            "36/36 [==============================] - 5s 148ms/step - loss: 4.9009e-06 - accuracy: 1.0000 - val_loss: 0.3522 - val_accuracy: 0.9600\n",
            "Epoch 13/51\n",
            "36/36 [==============================] - 6s 149ms/step - loss: 4.3573e-06 - accuracy: 1.0000 - val_loss: 0.3521 - val_accuracy: 0.9600\n",
            "Epoch 14/51\n",
            "36/36 [==============================] - 6s 159ms/step - loss: 3.9167e-06 - accuracy: 1.0000 - val_loss: 0.3522 - val_accuracy: 0.9600\n",
            "Epoch 15/51\n",
            "36/36 [==============================] - 6s 150ms/step - loss: 3.5305e-06 - accuracy: 1.0000 - val_loss: 0.3521 - val_accuracy: 0.9600\n",
            "Epoch 16/51\n",
            "35/36 [============================>.] - ETA: 0s - loss: 3.2287e-06 - accuracy: 1.0000"
          ]
        },
        {
          "output_type": "stream",
          "name": "stderr",
          "text": [
            "WARNING:absl:Found untraced functions such as _jit_compiled_convolution_op, _jit_compiled_convolution_op, _jit_compiled_convolution_op, _jit_compiled_convolution_op, _jit_compiled_convolution_op while saving (showing 5 of 13). These functions will not be directly callable after loading.\n"
          ]
        },
        {
          "output_type": "stream",
          "name": "stdout",
          "text": [
            "\b\b\b\b\b\b\b\b\b\b\b\b\b\b\b\b\b\b\b\b\b\b\b\b\b\b\b\b\b\b\b\b\b\b\b\b\b\b\b\b\b\b\b\b\b\b\b\b\b\b\b\b\b\b\b\b\b\b\b\b\b\b\b\b\b\b\b\b\b\b\b\b\b\b\b\b\b\b\b\b\b\b\b\b\b\b\r36/36 [==============================] - 9s 243ms/step - loss: 3.2150e-06 - accuracy: 1.0000 - val_loss: 0.3521 - val_accuracy: 0.9650\n",
            "Epoch 17/51\n",
            "36/36 [==============================] - 6s 151ms/step - loss: 2.9398e-06 - accuracy: 1.0000 - val_loss: 0.3521 - val_accuracy: 0.9650\n",
            "Epoch 18/51\n",
            "36/36 [==============================] - 6s 155ms/step - loss: 2.6985e-06 - accuracy: 1.0000 - val_loss: 0.3520 - val_accuracy: 0.9650\n",
            "Epoch 19/51\n",
            "36/36 [==============================] - 6s 152ms/step - loss: 2.4954e-06 - accuracy: 1.0000 - val_loss: 0.3519 - val_accuracy: 0.9650\n",
            "Epoch 20/51\n",
            "36/36 [==============================] - 6s 155ms/step - loss: 2.3132e-06 - accuracy: 1.0000 - val_loss: 0.3520 - val_accuracy: 0.9650\n",
            "Epoch 21/51\n",
            "36/36 [==============================] - 6s 152ms/step - loss: 2.1497e-06 - accuracy: 1.0000 - val_loss: 0.3519 - val_accuracy: 0.9650\n",
            "Epoch 22/51\n",
            "36/36 [==============================] - 6s 153ms/step - loss: 2.0059e-06 - accuracy: 1.0000 - val_loss: 0.3519 - val_accuracy: 0.9650\n",
            "Epoch 23/51\n",
            "36/36 [==============================] - 6s 164ms/step - loss: 1.8757e-06 - accuracy: 1.0000 - val_loss: 0.3519 - val_accuracy: 0.9650\n",
            "Epoch 24/51\n",
            "36/36 [==============================] - 6s 161ms/step - loss: 1.7607e-06 - accuracy: 1.0000 - val_loss: 0.3518 - val_accuracy: 0.9650\n",
            "Epoch 25/51\n",
            "36/36 [==============================] - 6s 152ms/step - loss: 1.6544e-06 - accuracy: 1.0000 - val_loss: 0.3518 - val_accuracy: 0.9650\n",
            "Epoch 26/51\n",
            "36/36 [==============================] - 6s 154ms/step - loss: 1.5615e-06 - accuracy: 1.0000 - val_loss: 0.3517 - val_accuracy: 0.9650\n",
            "Epoch 27/51\n",
            "36/36 [==============================] - 6s 153ms/step - loss: 1.4729e-06 - accuracy: 1.0000 - val_loss: 0.3518 - val_accuracy: 0.9650\n",
            "Epoch 28/51\n",
            "36/36 [==============================] - 6s 155ms/step - loss: 1.3876e-06 - accuracy: 1.0000 - val_loss: 0.3517 - val_accuracy: 0.9650\n",
            "Epoch 29/51\n",
            "36/36 [==============================] - 6s 164ms/step - loss: 1.3162e-06 - accuracy: 1.0000 - val_loss: 0.3517 - val_accuracy: 0.9650\n",
            "Epoch 30/51\n",
            "36/36 [==============================] - 6s 157ms/step - loss: 1.2478e-06 - accuracy: 1.0000 - val_loss: 0.3517 - val_accuracy: 0.9650\n",
            "Epoch 31/51\n",
            "36/36 [==============================] - 6s 155ms/step - loss: 1.1869e-06 - accuracy: 1.0000 - val_loss: 0.3517 - val_accuracy: 0.9650\n",
            "Epoch 32/51\n",
            "36/36 [==============================] - 6s 161ms/step - loss: 1.1293e-06 - accuracy: 1.0000 - val_loss: 0.3516 - val_accuracy: 0.9650\n",
            "Epoch 33/51\n",
            "36/36 [==============================] - 6s 156ms/step - loss: 1.0776e-06 - accuracy: 1.0000 - val_loss: 0.3516 - val_accuracy: 0.9650\n",
            "Epoch 34/51\n",
            "36/36 [==============================] - 6s 159ms/step - loss: 1.0283e-06 - accuracy: 1.0000 - val_loss: 0.3516 - val_accuracy: 0.9650\n",
            "Epoch 35/51\n",
            "36/36 [==============================] - 6s 156ms/step - loss: 9.8197e-07 - accuracy: 1.0000 - val_loss: 0.3516 - val_accuracy: 0.9650\n",
            "Epoch 36/51\n",
            "36/36 [==============================] - 6s 166ms/step - loss: 9.3938e-07 - accuracy: 1.0000 - val_loss: 0.3515 - val_accuracy: 0.9650\n",
            "Epoch 37/51\n",
            "36/36 [==============================] - 6s 155ms/step - loss: 8.9838e-07 - accuracy: 1.0000 - val_loss: 0.3515 - val_accuracy: 0.9650\n",
            "Epoch 38/51\n",
            "36/36 [==============================] - 6s 157ms/step - loss: 8.6152e-07 - accuracy: 1.0000 - val_loss: 0.3515 - val_accuracy: 0.9650\n",
            "Epoch 39/51\n",
            "36/36 [==============================] - 6s 157ms/step - loss: 8.2698e-07 - accuracy: 1.0000 - val_loss: 0.3515 - val_accuracy: 0.9650\n",
            "Epoch 40/51\n",
            "36/36 [==============================] - 6s 158ms/step - loss: 7.9286e-07 - accuracy: 1.0000 - val_loss: 0.3515 - val_accuracy: 0.9650\n",
            "Epoch 41/51\n",
            "36/36 [==============================] - 6s 156ms/step - loss: 7.6193e-07 - accuracy: 1.0000 - val_loss: 0.3514 - val_accuracy: 0.9650\n",
            "Epoch 42/51\n",
            "36/36 [==============================] - 6s 157ms/step - loss: 7.3237e-07 - accuracy: 1.0000 - val_loss: 0.3514 - val_accuracy: 0.9650\n",
            "Epoch 43/51\n",
            "36/36 [==============================] - 6s 157ms/step - loss: 7.0535e-07 - accuracy: 1.0000 - val_loss: 0.3514 - val_accuracy: 0.9650\n",
            "Epoch 44/51\n",
            "36/36 [==============================] - 6s 161ms/step - loss: 6.7876e-07 - accuracy: 1.0000 - val_loss: 0.3514 - val_accuracy: 0.9650\n",
            "Epoch 45/51\n",
            "36/36 [==============================] - 6s 156ms/step - loss: 6.5418e-07 - accuracy: 1.0000 - val_loss: 0.3514 - val_accuracy: 0.9650\n",
            "Epoch 46/51\n",
            "36/36 [==============================] - 6s 162ms/step - loss: 6.3066e-07 - accuracy: 1.0000 - val_loss: 0.3513 - val_accuracy: 0.9650\n",
            "Epoch 47/51\n",
            "36/36 [==============================] - 6s 156ms/step - loss: 6.0862e-07 - accuracy: 1.0000 - val_loss: 0.3513 - val_accuracy: 0.9650\n",
            "Epoch 48/51\n",
            "36/36 [==============================] - 6s 161ms/step - loss: 5.8828e-07 - accuracy: 1.0000 - val_loss: 0.3513 - val_accuracy: 0.9650\n",
            "Epoch 49/51\n",
            "36/36 [==============================] - 6s 156ms/step - loss: 5.6656e-07 - accuracy: 1.0000 - val_loss: 0.3512 - val_accuracy: 0.9650\n",
            "Epoch 50/51\n",
            "36/36 [==============================] - 6s 158ms/step - loss: 5.4791e-07 - accuracy: 1.0000 - val_loss: 0.3512 - val_accuracy: 0.9650\n",
            "Epoch 51/51\n",
            "36/36 [==============================] - 6s 156ms/step - loss: 5.2926e-07 - accuracy: 1.0000 - val_loss: 0.3512 - val_accuracy: 0.9650\n"
          ]
        }
      ]
    },
    {
      "cell_type": "code",
      "source": [
        "# Standard plotting function, should start to make a module of this !\n",
        "def plot_results(metrics, ylabel=None, ylim=None, metric_name=None, color=None):\n",
        "\n",
        "    fig, ax = plt.subplots(figsize=(15, 4))\n",
        "\n",
        "    if not (isinstance(metric_name, list) or isinstance(metric_name, tuple)):\n",
        "        metrics = [metrics,]\n",
        "        metric_name = [metric_name,]\n",
        "\n",
        "    for idx, metric in enumerate(metrics):\n",
        "        ax.plot(metric, color=color[idx])\n",
        "\n",
        "    plt.xlabel(\"Epoch\")\n",
        "    plt.ylabel(ylabel)\n",
        "    plt.title(ylabel)\n",
        "    plt.xlim([0, TrainingConfig.EPOCSHS-1])\n",
        "    plt.ylim(ylim)\n",
        "    # Tailor x-axis tick marks\n",
        "    ax.xaxis.set_major_locator(MultipleLocator(5))\n",
        "    ax.xaxis.set_major_formatter(FormatStrFormatter('%d'))\n",
        "    ax.xaxis.set_minor_locator(MultipleLocator(1))\n",
        "    plt.grid(True)\n",
        "    plt.legend(metric_name)\n",
        "    plt.show(block=block_plot)\n",
        "    plt.close()"
      ],
      "metadata": {
        "id": "-1DeoJSXF7HR"
      },
      "execution_count": 20,
      "outputs": []
    },
    {
      "cell_type": "code",
      "source": [
        "train_loss = trainig_results.history['loss']\n",
        "train_acc  = trainig_results.history['accuracy']\n",
        "valid_loss = trainig_results.history['val_loss']\n",
        "valid_acc  = trainig_results.history['val_accuracy']\n",
        "\n",
        "max_loss = max(max(train_loss), max(valid_loss))\n",
        "plot_results([train_acc, valid_acc], ylabel = 'Accuracy',\n",
        "                ylim=[0.0, 1.0],\n",
        "                metric_name = [\"Training Accuracy\",\" Validation Accuracy\"],\n",
        "                color=[\"g\",\"b\"])\n",
        "\n",
        "plot_results([train_loss, valid_loss], ylabel = 'Loss',\n",
        "                ylim=[0.0, max_loss],\n",
        "                metric_name = [\"Training Loss\", \"Validation Loss\"],\n",
        "                color=[\"g\",\"b\"])\n",
        "\n"
      ],
      "metadata": {
        "id": "_xYI3sc_SyQk",
        "colab": {
          "base_uri": "https://localhost:8080/",
          "height": 803
        },
        "outputId": "611f3c55-9916-4903-9875-73f680034116"
      },
      "execution_count": 21,
      "outputs": [
        {
          "output_type": "display_data",
          "data": {
            "text/plain": [
              "<Figure size 1500x400 with 1 Axes>"
            ],
            "image/png": "[encoded data removed]"
          },
          "metadata": {}
        },
        {
          "output_type": "display_data",
          "data": {
            "text/plain": [
              "<Figure size 1500x400 with 1 Axes>"
            ],
            "image/png": "[encoded data removed]"
          },
          "metadata": {}
        }
      ]
    },
    {
      "cell_type": "code",
      "source": [
        "# Evalute with test data set and print accuracy\n",
        "model = tf.keras.models.load_model(TrainingConfig.CHECKPOINT_DIR)\n",
        "print(f\"Model evaluation accuracy: {model.evaluate(valid_dataset)[1]*100.:.3f}\")"
      ],
      "metadata": {
        "colab": {
          "base_uri": "https://localhost:8080/"
        },
        "id": "PK_cjRGVxjUc",
        "outputId": "eacb1ad4-c6da-4141-a445-5eec978b6bd9"
      },
      "execution_count": 22,
      "outputs": [
        {
          "output_type": "stream",
          "name": "stdout",
          "text": [
            "7/7 [==============================] - 1s 113ms/step - loss: 0.3521 - accuracy: 0.9650\n",
            "Model evaluation accuracy: 96.500\n"
          ]
        }
      ]
    }
  ]
}