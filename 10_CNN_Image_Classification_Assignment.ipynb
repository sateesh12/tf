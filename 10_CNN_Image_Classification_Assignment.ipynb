{
  "cells": [
    {
      "cell_type": "markdown",
      "metadata": {
        "id": "view-in-github",
        "colab_type": "text"
      },
      "source": [
        "<a href=\"https://colab.research.google.com/github/sateesh12/tf/blob/main/10_CNN_Image_Classification_Assignment.ipynb\" target=\"_parent\"><img src=\"https://colab.research.google.com/assets/colab-badge.svg\" alt=\"Open In Colab\"/></a>"
      ]
    },
    {
      "cell_type": "markdown",
      "metadata": {
        "id": "6b7f80f2",
        "nbgrader": {
          "grade": false,
          "locked": true,
          "solution": false
        },
        "editable": false,
        "deletable": false
      },
      "source": [
        "<h1 style=\"font-size:30px;\">Assignment: Implement a CNN for Image Classification</h1>"
      ]
    },
    {
      "cell_type": "markdown",
      "metadata": {
        "id": "d64b9592",
        "nbgrader": {
          "grade": false,
          "locked": true,
          "solution": false
        },
        "editable": false,
        "deletable": false
      },
      "source": [
        "In the previous notebooks we have seen how to implement the LeNet5 CNN model. We trained the LeNet5 model on the MNIST and Fashion MNIST dataset.\n",
        "\n",
        "In this assignment, you will implement a CNN Model for classifying objects either in the `CIFAR10` or the `CIFAR100` dataset. You can choose either of the two datasets. Although CIFAR10 is a relatively easy dataset to work with for image classification, if you are particularly looking for a challenge, then `CIFAR100` would be the right choice for you.\n",
        "\n",
        "The CIFAR10 dataset has the following properties\n",
        "1. It has `10` classes.  \n",
        "1. It has colored images, so it has `3-channels`.\n",
        "1. The image shape is `32 x 32`.\n",
        "\n",
        "The CIFAR100 dataset has the following properties\n",
        "1. It has `100` classes.  \n",
        "1. It has colored images, so it has `3-channels`.\n",
        "1. The image shape is `32 x 32`.\n",
        "\n",
        "<table>\n",
        "        <th><center><img src=\"https://www.learnopencv.com/wp-content/uploads/2020/01/c3_w3_cirar10.png\"/></center></th>\n",
        "        <th><center><img src=\"https://learnopencv.com/wp-content/uploads/2022/02/c4-03-19-cifar-100-plotting-01.png\"/></center></th>\n",
        "        <tr>\n",
        "            <th><center>CIFAR10</center></th>\n",
        "            <th><center>CIFAR100</center></th>\n",
        "        </tr>\n",
        "</table>"
      ]
    },
    {
      "cell_type": "markdown",
      "metadata": {
        "id": "7fc5ce48",
        "nbgrader": {
          "grade": false,
          "locked": true,
          "solution": false
        },
        "editable": false,
        "deletable": false
      },
      "source": [
        "## <font style=\"color:rgb(50,120,230)\">Marking scheme</font>\n",
        "\n",
        "### Maximum Points: 30\n",
        "\n",
        "<div>\n",
        "    <table>\n",
        "        <tr><td><h3>Section</h3></td> <td><h3>Problem</h3></td> <td><h3>Points</h3></td> </tr>\n",
        "        <tr><td><h3>3.1</h3></td> <td><h3>Find Mean and Std of Training Data</h3></td> <td><h3>5</h3></td> </tr>\n",
        "        <tr><td><h3>4</h3></td> <td><h3>Training Configuration to Achieve Accuracy</h3></td> <td><h3>15</h3></td> </tr>\n",
        "        <tr><td><h3>5</h3></td> <td><h3>Implement the CNN Model</h3></td> <td><h3>10</h3></td> </tr>\n",
        "    </table>\n",
        "</div>"
      ]
    },
    {
      "cell_type": "markdown",
      "metadata": {
        "id": "97f605dc",
        "nbgrader": {
          "grade": false,
          "locked": true,
          "solution": false
        },
        "editable": false,
        "deletable": false
      },
      "source": [
        "## Problem Description\n",
        "\n",
        "<hr style=\"border:none; height: 4px; background-color:#D3D3D3\" />\n",
        "\n",
        "### <font style=\"color:rgb(50,120,230)\">1. Implement the CNN Model</font>\n",
        "\n",
        "**For CIFAR10 dataset:**\n",
        "Since the task is to classify objects in a dataset of color images, you need to implement a CNN with 10 output classes. **Also, your model must use `Conv2D`, `BatchNormalization`, and `ReLU` activation.**\n",
        "\n",
        "**For CIFAR100 dataset:**\n",
        "For the CIFAR100 dataset, you need to implement a CNN with 100 output classes. **Also, your model must use `Conv2D`, `BatchNormalization`, and `ReLU` activation.**\n",
        "\n",
        "**You need to define the model architecture in the function: `MyModel`**\n",
        "\n",
        "Hint: For color images you need to use an input shape that has three channels, so that it accepts 3 channel inputs.\n",
        "\n",
        "### <font style=\"color:rgb(50,120,230)\">2. Find Mean and Std of Training Data</font>\n",
        "\n",
        "It is a good practice to normalize the training data. To normalize the data, we need to compute mean and std. As the dataset has colored images, it has `3-channel` (RGB or BGR). We have to find mean and std per channel using training data.\n",
        "\n",
        "**You need to compute the mean and standard deviation for the dataset in the function: `get_mean_std_train_data`**\n",
        "\n",
        "### <font style=\"color:rgb(50,120,230)\">3. Model Training and Accuracy</font>\n",
        "\n",
        "Once you have defined the model, you can train it. To get better accuracy, you need to experiment with the training configuration and even the model architecture. You can check the accuracy by running the training loop.\n",
        "\n",
        "Here are a few hints on how you can improve the accuracy:\n",
        "- Train for larger number of epochs\n",
        "- Try using different learning rates\n",
        "- Try to add more convolutional layers to the architecture\n",
        "- Try to add more nodes in the layers.\n",
        "\n",
        "**For the CIFAR10 dataset:**\n",
        "You need to achieve **75% accuracy** in order to get full marks for this part.\n",
        "\n",
        "**For the CIFAR100 dataset:**\n",
        "You need to achieve **50% accuracy** in order to get full marks for this part.\n",
        "\n",
        "<hr style=\"border:none; height: 4px; background-color:#D3D3D3\" />"
      ]
    },
    {
      "cell_type": "markdown",
      "metadata": {
        "id": "92dfa1df",
        "nbgrader": {
          "grade": false,
          "locked": true,
          "solution": false
        },
        "editable": false,
        "deletable": false
      },
      "source": [
        "Note that this notebook requires you to change a few things in the model to get the desired accuracy. Therefore you need train the model from scratch. This can be time consuming.\n",
        "\n",
        "**Especially, if you choose to use the CIFAR100 dataset, then you will need to build a relatively larger model with more parameters. For this part, a GPU machine will be very helpful for faster training.**\n",
        "\n",
        "You can execute this notebook in Google-Colab so that you have access to a GPU-machine and prototype faster. Once the desired results are acheived, you can copy-paste the changes made in the Colab-notebook to this notebook so that the grading occurs on the latest code.\n",
        "\n",
        "If you use Google Colab, kindly upload your model under a new folder named **`models`**.\n",
        "\n",
        "You can access the Colab-notebook from <a href=\"https://colab.research.google.com/drive/1BQak8DXnkJfWf-L8qokJvGOTarzz_q4E\" target=_blank>here</a>."
      ]
    },
    {
      "cell_type": "code",
      "execution_count": null,
      "metadata": {
        "collapsed": true,
        "execution": {
          "iopub.execute_input": "2021-10-03T04:04:45.94408Z",
          "iopub.status.busy": "2021-10-03T04:04:45.943443Z",
          "iopub.status.idle": "2021-10-03T04:04:50.683365Z",
          "shell.execute_reply": "2021-10-03T04:04:50.682603Z",
          "shell.execute_reply.started": "2021-10-03T04:04:45.943998Z"
        },
        "id": "de6c52ac",
        "nbgrader": {
          "grade": false,
          "locked": true,
          "solution": false
        },
        "editable": false,
        "deletable": false
      },
      "outputs": [],
      "source": [
        "import tensorflow as tf\n",
        "import numpy as np\n",
        "import os\n",
        "import matplotlib.pyplot as plt\n",
        "import random\n",
        "from dataclasses import dataclass\n",
        "\n",
        "from tensorflow.keras.utils import to_categorical\n",
        "\n",
        "block_plot = False\n",
        "\n",
        "import ssl"
      ]
    },
    {
      "cell_type": "markdown",
      "metadata": {
        "id": "a5653e34",
        "nbgrader": {
          "grade": false,
          "locked": true,
          "solution": false
        },
        "editable": false,
        "deletable": false
      },
      "source": [
        "## 1 System Configuration"
      ]
    },
    {
      "cell_type": "code",
      "execution_count": null,
      "metadata": {
        "id": "ucHTA1IhVajb",
        "nbgrader": {
          "grade": false,
          "locked": true,
          "solution": false
        },
        "editable": false,
        "deletable": false
      },
      "outputs": [],
      "source": [
        "def system_config():\n",
        "\n",
        "    # Get list of GPUs.\n",
        "    gpu_devices = tf.config.list_physical_devices('GPU')\n",
        "    print(gpu_devices)\n",
        "\n",
        "    if len(gpu_devices) > 0:\n",
        "        print('Using GPU')\n",
        "        os.environ[\"CUDA_VISIBLE_DEVICES\"] = '0'\n",
        "        os.environ['TF_CUDNN_DETERMINISTIC'] = '1'\n",
        "\n",
        "        # If there are any gpu devices, use first gpu.\n",
        "        tf.config.experimental.set_visible_devices(gpu_devices[0], 'GPU')\n",
        "\n",
        "        # Grow the memory usage as it is needed by the process.\n",
        "        tf.config.experimental.set_memory_growth(gpu_devices[0], True)\n",
        "\n",
        "        # Enable using cudNN.\n",
        "        os.environ['TF_USE_CUDNN'] = \"true\"\n",
        "    else:\n",
        "        print('Using CPU')\n",
        "\n",
        "    os.makedirs('models', exist_ok=True)\n",
        "\n",
        "system_config()"
      ]
    },
    {
      "cell_type": "markdown",
      "metadata": {
        "id": "bde76756",
        "nbgrader": {
          "grade": false,
          "locked": true,
          "solution": false
        },
        "editable": false,
        "deletable": false
      },
      "source": [
        "## 2 Dataset\n",
        "\n",
        "### 2.1 Select Dataset"
      ]
    },
    {
      "cell_type": "code",
      "execution_count": null,
      "metadata": {
        "collapsed": true,
        "execution": {
          "iopub.execute_input": "2021-10-03T04:04:50.691415Z",
          "iopub.status.busy": "2021-10-03T04:04:50.691034Z",
          "iopub.status.idle": "2021-10-03T04:04:50.695375Z",
          "shell.execute_reply": "2021-10-03T04:04:50.694758Z",
          "shell.execute_reply.started": "2021-10-03T04:04:50.69138Z"
        },
        "id": "be49a5cb",
        "nbgrader": {
          "grade": false,
          "locked": true,
          "solution": false
        },
        "editable": false,
        "deletable": false
      },
      "outputs": [],
      "source": [
        "dataset_choice = {\n",
        "    'cifar10': 1,\n",
        "    'cifar100': 2\n",
        "}"
      ]
    },
    {
      "cell_type": "markdown",
      "metadata": {
        "id": "2855164f",
        "nbgrader": {
          "grade": false,
          "locked": true,
          "solution": false
        },
        "editable": false,
        "deletable": false
      },
      "source": [
        "**In the next code block, you need to specify which dataset you would like to use.**\n",
        "\n",
        "To choose `cifar10`:\n",
        "```python\n",
        "dataset = dataset_choice['cifar10']\n",
        "```\n",
        "Or, to choose `cifar100`:\n",
        "```python\n",
        "dataset = dataset_choice['cifar100']\n",
        "```"
      ]
    },
    {
      "cell_type": "code",
      "execution_count": null,
      "metadata": {
        "execution": {
          "iopub.execute_input": "2021-10-03T04:04:50.698118Z",
          "iopub.status.busy": "2021-10-03T04:04:50.697204Z",
          "iopub.status.idle": "2021-10-03T04:04:50.710292Z",
          "shell.execute_reply": "2021-10-03T04:04:50.70949Z",
          "shell.execute_reply.started": "2021-10-03T04:04:50.69807Z"
        },
        "id": "99a9ea86",
        "scrolled": true
      },
      "outputs": [],
      "source": [
        "dataset = dataset_choice['cifar10']\n",
        "print(f\"Choosen dataset: {dataset}\")"
      ]
    },
    {
      "cell_type": "code",
      "execution_count": null,
      "metadata": {
        "collapsed": true,
        "id": "A23yqVkKVajd",
        "nbgrader": {
          "grade": false,
          "locked": true,
          "solution": false
        },
        "editable": false,
        "deletable": false
      },
      "outputs": [],
      "source": [
        "if dataset == 1:\n",
        "    class_names = ['airplane', 'automobile', 'bird', 'cat', 'deer',\n",
        "               'dog', 'frog', 'horse', 'ship', 'truck']\n",
        "else:\n",
        "    class_names = [\n",
        "    'apple', 'aquarium_fish', 'baby', 'bear', 'beaver', 'bed', 'bee', 'beetle',\n",
        "    'bicycle', 'bottle', 'bowl', 'boy', 'bridge', 'bus', 'butterfly', 'camel',\n",
        "    'can', 'castle', 'caterpillar', 'cattle', 'chair', 'chimpanzee', 'clock',\n",
        "    'cloud', 'cockroach', 'couch', 'crab', 'crocodile', 'cup', 'dinosaur',\n",
        "    'dolphin', 'elephant', 'flatfish', 'forest', 'fox', 'girl', 'hamster',\n",
        "    'house', 'kangaroo', 'keyboard', 'lamp', 'lawn_mower', 'leopard', 'lion',\n",
        "    'lizard', 'lobster', 'man', 'maple_tree', 'motorcycle', 'mountain', 'mouse',\n",
        "    'mushroom', 'oak_tree', 'orange', 'orchid', 'otter', 'palm_tree', 'pear',\n",
        "    'pickup_truck', 'pine_tree', 'plain', 'plate', 'poppy', 'porcupine',\n",
        "    'possum', 'rabbit', 'raccoon', 'ray', 'road', 'rocket', 'rose',\n",
        "    'sea', 'seal', 'shark', 'shrew', 'skunk', 'skyscraper', 'snail', 'snake',\n",
        "    'spider', 'squirrel', 'streetcar', 'sunflower', 'sweet_pepper', 'table',\n",
        "    'tank', 'telephone', 'television', 'tiger', 'tractor', 'train', 'trout',\n",
        "    'tulip', 'turtle', 'wardrobe', 'whale', 'willow_tree', 'wolf', 'woman',\n",
        "    'worm']"
      ]
    },
    {
      "cell_type": "markdown",
      "metadata": {
        "id": "c5b400c2",
        "nbgrader": {
          "grade": false,
          "locked": true,
          "solution": false
        },
        "editable": false,
        "deletable": false
      },
      "source": [
        "### 2.2 Load the Dataset"
      ]
    },
    {
      "cell_type": "code",
      "execution_count": null,
      "metadata": {
        "collapsed": true,
        "execution": {
          "iopub.execute_input": "2021-10-03T04:52:31.022738Z",
          "iopub.status.busy": "2021-10-03T04:52:31.022486Z",
          "iopub.status.idle": "2021-10-03T04:52:31.029935Z",
          "shell.execute_reply": "2021-10-03T04:52:31.029203Z",
          "shell.execute_reply.started": "2021-10-03T04:52:31.02271Z"
        },
        "id": "f2e3a223",
        "nbgrader": {
          "grade": false,
          "locked": true,
          "solution": false
        },
        "editable": false,
        "deletable": false
      },
      "outputs": [],
      "source": [
        "def get_data(dataset=1):\n",
        "\n",
        "    if dataset == 1:\n",
        "        cifar10 = tf.keras.datasets.cifar10\n",
        "        (train_images, train_labels), (valid_images, valid_labels) = cifar10.load_data()\n",
        "        train_labels = train_labels.reshape(50000)\n",
        "        valid_labels = valid_labels.reshape(10000)\n",
        "    else:\n",
        "        cifar100 = tf.keras.datasets.cifar100\n",
        "        (train_images, train_labels), (valid_images, valid_labels) = cifar100.load_data()\n",
        "        train_labels = train_labels.reshape(50000)\n",
        "        valid_labels = valid_labels.reshape(10000)\n",
        "\n",
        "    return (train_images, train_labels), (valid_images, valid_labels)"
      ]
    },
    {
      "cell_type": "code",
      "execution_count": null,
      "metadata": {
        "collapsed": true,
        "id": "-ZFWXsCLVaje",
        "nbgrader": {
          "grade": false,
          "locked": true,
          "solution": false
        },
        "editable": false,
        "deletable": false
      },
      "outputs": [],
      "source": [
        "# Get the dataset.\n",
        "(X_train_0, y_train_0), (X_valid_0, y_valid_0) = get_data(dataset)"
      ]
    },
    {
      "cell_type": "markdown",
      "metadata": {
        "id": "f32447a2",
        "nbgrader": {
          "grade": false,
          "locked": true,
          "solution": false
        },
        "editable": false,
        "deletable": false
      },
      "source": [
        "### 2.3 Display Sample Images"
      ]
    },
    {
      "cell_type": "code",
      "execution_count": null,
      "metadata": {
        "collapsed": true,
        "execution": {
          "iopub.execute_input": "2021-10-03T04:52:47.12626Z",
          "iopub.status.busy": "2021-10-03T04:52:47.1256Z",
          "iopub.status.idle": "2021-10-03T04:52:47.136679Z",
          "shell.execute_reply": "2021-10-03T04:52:47.135923Z",
          "shell.execute_reply.started": "2021-10-03T04:52:47.126224Z"
        },
        "id": "bf3c6e10",
        "nbgrader": {
          "grade": false,
          "locked": true,
          "solution": false
        },
        "editable": false,
        "deletable": false
      },
      "outputs": [],
      "source": [
        "def display_sample_images(X):\n",
        "    plt.figure(figsize=(20, 15))\n",
        "\n",
        "    num_rows = 5\n",
        "    num_cols = 6\n",
        "    for idx in range(num_rows*num_cols):\n",
        "        plt.subplot(num_rows, num_cols, idx+1)\n",
        "        plt.xticks([])\n",
        "        plt.yticks([])\n",
        "        plt.grid(False)\n",
        "        plt.imshow(X[idx])\n",
        "\n",
        "    plt.show(block=block_plot)"
      ]
    },
    {
      "cell_type": "code",
      "execution_count": null,
      "metadata": {
        "id": "_TYbVfMdVaje",
        "nbgrader": {
          "grade": false,
          "locked": true,
          "solution": false
        },
        "editable": false,
        "deletable": false
      },
      "outputs": [],
      "source": [
        "display_sample_images(X_train_0)"
      ]
    },
    {
      "cell_type": "markdown",
      "metadata": {
        "id": "e3948e2e",
        "nbgrader": {
          "grade": false,
          "locked": true,
          "solution": false
        },
        "editable": false,
        "deletable": false
      },
      "source": [
        "## 3 Dataset Preprocessing"
      ]
    },
    {
      "cell_type": "markdown",
      "metadata": {
        "id": "8fad002c",
        "nbgrader": {
          "grade": false,
          "locked": true,
          "solution": false
        },
        "editable": false,
        "deletable": false
      },
      "source": [
        "### 3.1 Function to Get Mean and Standard Deviation [5 points]\n",
        "This function should return the mean and standard deviation of the training data. This wil be used further below in the dataset preprocessing function to normalize the data."
      ]
    },
    {
      "cell_type": "code",
      "execution_count": null,
      "metadata": {
        "collapsed": true,
        "execution": {
          "iopub.execute_input": "2021-10-03T04:52:31.858845Z",
          "iopub.status.busy": "2021-10-03T04:52:31.858337Z",
          "iopub.status.idle": "2021-10-03T04:52:31.864351Z",
          "shell.execute_reply": "2021-10-03T04:52:31.863523Z",
          "shell.execute_reply.started": "2021-10-03T04:52:31.858808Z"
        },
        "id": "52d60dbb"
      },
      "outputs": [],
      "source": [
        "def get_mean_std_train_data(train_data):\n",
        "\n",
        "    mean = np.array([0.5, 0.5, 0.5])\n",
        "    std = np.array([0.5, 0.5, 0.5])\n",
        "\n",
        "    ###\n",
        "    ### YOUR CODE HERE\n",
        "    ###\n",
        "\n",
        "    return mean, std"
      ]
    },
    {
      "cell_type": "code",
      "execution_count": null,
      "metadata": {
        "collapsed": true,
        "execution": {
          "iopub.execute_input": "2021-10-03T04:52:32.432236Z",
          "iopub.status.busy": "2021-10-03T04:52:32.431979Z",
          "iopub.status.idle": "2021-10-03T04:52:47.11156Z",
          "shell.execute_reply": "2021-10-03T04:52:47.11079Z",
          "shell.execute_reply.started": "2021-10-03T04:52:32.432208Z"
        },
        "id": "9c15711c",
        "nbgrader": {
          "grade": true,
          "grade_id": "mean_std",
          "locked": true,
          "points": "5",
          "solution": false
        },
        "editable": false,
        "deletable": false
      },
      "outputs": [],
      "source": [
        "###\n",
        "### AUTOGRADER TEST - DO NOT REMOVE\n",
        "###\n"
      ]
    },
    {
      "cell_type": "markdown",
      "metadata": {
        "id": "5485b8de",
        "nbgrader": {
          "grade": false,
          "locked": true,
          "solution": false
        },
        "editable": false,
        "deletable": false
      },
      "source": [
        "### 3.2 Dataset Preprocessing\n",
        "Let's preprocess the data. This includes:\n",
        "* Changing the labels to categorical type.\n",
        "* And normalizing the pixels by dividing by 255.0."
      ]
    },
    {
      "cell_type": "code",
      "execution_count": null,
      "metadata": {
        "collapsed": true,
        "execution": {
          "iopub.execute_input": "2021-10-03T04:52:47.113454Z",
          "iopub.status.busy": "2021-10-03T04:52:47.113197Z",
          "iopub.status.idle": "2021-10-03T04:52:47.124496Z",
          "shell.execute_reply": "2021-10-03T04:52:47.123844Z",
          "shell.execute_reply.started": "2021-10-03T04:52:47.113416Z"
        },
        "id": "a9893539",
        "nbgrader": {
          "grade": false,
          "locked": true,
          "solution": false
        },
        "editable": false,
        "deletable": false
      },
      "outputs": [],
      "source": [
        "def preprocess_dataset(train_set, valid_set, num_classes=3, seed=3):\n",
        "\n",
        "    (X_train, y_train) = train_set\n",
        "    (X_valid, y_valid) = valid_set\n",
        "\n",
        "    X_train = X_train.astype(np.float32)\n",
        "    X_valid = X_valid.astype(np.float32)\n",
        "\n",
        "    mean, std = get_mean_std_train_data(X_train)\n",
        "\n",
        "    # Changing range of pixel values from [0 - 255] to [0. - 1.0].\n",
        "    X_train = X_train / 255.0\n",
        "    X_valid = X_valid / 255.0\n",
        "\n",
        "    X_train = (X_train - mean) / std\n",
        "    X_valid = (X_valid - mean) / std\n",
        "\n",
        "    if len(X_train.shape) != 4:\n",
        "        X_train = tf.expand_dims(X_train, axis=3)\n",
        "        X_valid = tf.expand_dims(X_valid, axis=3)\n",
        "\n",
        "\n",
        "    n_train = X_train.shape[0]\n",
        "    n_valid = X_valid.shape[0]\n",
        "\n",
        "    n_classes = len(np.unique(y_train))\n",
        "\n",
        "    image_shape = X_train[0].shape\n",
        "\n",
        "    print(\"There are {} training examples \".format(n_train))\n",
        "    print(\"There are {} validation examples\".format(n_valid))\n",
        "    print(\"Image data shape is {}\".format(image_shape))\n",
        "    print(\"There are {} classes\".format(n_classes))\n",
        "\n",
        "     # Confirm number of classes present in the dataset matches the specified number of classes.\n",
        "    assert num_classes == len(\n",
        "        np.unique(y_train)\n",
        "    ), \"Number of classes present in the dataset does not match specified nuber of classes.\"\n",
        "\n",
        "    print('There are {} classes'.format(num_classes))\n",
        "\n",
        "    if len(y_train.shape) != 2:\n",
        "        y_train = to_categorical(y_train, num_classes)\n",
        "        y_valid = to_categorical(y_valid, num_classes)\n",
        "    print(f\"\\n\\nX_train: {X_train.shape}, Y_train: {y_train.shape}\")\n",
        "    print(f\"X_validation: {X_valid.shape}, Y_valid: {y_valid.shape}\")\n",
        "\n",
        "\n",
        "    return (X_train, y_train), (X_valid, y_valid)"
      ]
    },
    {
      "cell_type": "code",
      "execution_count": null,
      "metadata": {
        "collapsed": true,
        "id": "QywfT2BfVajg",
        "nbgrader": {
          "grade": false,
          "locked": true,
          "solution": false
        },
        "editable": false,
        "deletable": false
      },
      "outputs": [],
      "source": [
        "@dataclass(frozen=True)\n",
        "class DatasetConfig:\n",
        "    CHANNELS:   int = 3\n",
        "    if dataset == 1:\n",
        "        NUM_CLASSES: int = 10\n",
        "    else:\n",
        "        NUM_CLASSES: int = 100\n",
        "\n",
        "dataset_config = DatasetConfig()"
      ]
    },
    {
      "cell_type": "code",
      "execution_count": null,
      "metadata": {
        "id": "XCmoJPy0Vajg",
        "nbgrader": {
          "grade": false,
          "locked": true,
          "solution": false
        },
        "editable": false,
        "deletable": false
      },
      "outputs": [],
      "source": [
        "# Preprocess dataset.\n",
        "((X_train, y_train),\n",
        " (X_valid, y_valid)) = preprocess_dataset((X_train_0, y_train_0),\n",
        "                                          (X_valid_0, y_valid_0),\n",
        "                                          num_classes=dataset_config.NUM_CLASSES,\n",
        "                                          )"
      ]
    },
    {
      "cell_type": "markdown",
      "metadata": {
        "id": "5e979e0a",
        "nbgrader": {
          "grade": false,
          "locked": true,
          "solution": false
        },
        "editable": false,
        "deletable": false
      },
      "source": [
        "## 4 Training Configuration Setup [15 Points]\n",
        "All training parameters are defined here. So,\n",
        "this is where you can improve your accuracy, apart from improving the architecture.\n",
        "\n",
        "Here are a few hints on how you can improve the accuracy:\n",
        "- Train for a larger number of epochs\n",
        "- Try different learning rates\n",
        "\n",
        "**You need to achieve 75% accuracy for CIFAR10 or 50% accuracy for CIFAR100 in order to get full marks for this portion of the assignment.**\n",
        "\n",
        "**You will see the effect of these changes when you run Step 7**"
      ]
    },
    {
      "cell_type": "code",
      "execution_count": null,
      "metadata": {
        "collapsed": true,
        "execution": {
          "iopub.execute_input": "2021-10-03T04:04:50.857926Z",
          "iopub.status.busy": "2021-10-03T04:04:50.857471Z",
          "iopub.status.idle": "2021-10-03T04:04:50.866601Z",
          "shell.execute_reply": "2021-10-03T04:04:50.865704Z",
          "shell.execute_reply.started": "2021-10-03T04:04:50.857865Z"
        },
        "id": "ge83_yO3LyPI",
        "nbgrader": {
          "grade": false,
          "locked": true,
          "solution": false
        },
        "editable": false,
        "deletable": false
      },
      "outputs": [],
      "source": [
        "is_training = True"
      ]
    },
    {
      "cell_type": "code",
      "execution_count": null,
      "metadata": {
        "collapsed": true,
        "execution": {
          "iopub.execute_input": "2021-10-03T04:52:22.593083Z",
          "iopub.status.busy": "2021-10-03T04:52:22.592799Z",
          "iopub.status.idle": "2021-10-03T04:52:22.600302Z",
          "shell.execute_reply": "2021-10-03T04:52:22.599336Z",
          "shell.execute_reply.started": "2021-10-03T04:52:22.593053Z"
        },
        "id": "c27d8525"
      },
      "outputs": [],
      "source": [
        "@dataclass(frozen=True)\n",
        "class TrainingConfig:\n",
        "    ### DO NOT EDIT THESE\n",
        "    BATCH_SIZE:       int = 32   # Amount of data to pass through the network at each forward-backward iteration.\n",
        "    EPOCHS:           int = 1    # Number of times the whole dataset will be passed through the network.\n",
        "    LEARNING_RATE:  float = 0.1  # The learning rate that is applied to the gradient during back-propagation.\n",
        "\n",
        "    # Change the batch size, epochs, and learning rate here if you intend to do so.\n",
        "    ###\n",
        "    ### YOUR CODE HERE\n",
        "    ###\n",
        "\n",
        "training_config = TrainingConfig()"
      ]
    },
    {
      "cell_type": "markdown",
      "metadata": {
        "id": "55979159",
        "nbgrader": {
          "grade": false,
          "locked": true,
          "solution": false
        },
        "editable": false,
        "deletable": false
      },
      "source": [
        "## 5 CNN Model Architecture [10 Points]\n",
        "You have to write the model code here. You can take reference from LeNet code.\n",
        "\n",
        "If you do not get higher accuracy, here are a few hints:\n",
        "\n",
        "* Try to add more convolutional layers to the architecture\n",
        "* Try to add more nodes in the layers."
      ]
    },
    {
      "cell_type": "code",
      "execution_count": null,
      "metadata": {
        "collapsed": true,
        "execution": {
          "iopub.execute_input": "2021-10-03T04:52:24.984179Z",
          "iopub.status.busy": "2021-10-03T04:52:24.983896Z",
          "iopub.status.idle": "2021-10-03T04:52:25.002325Z",
          "shell.execute_reply": "2021-10-03T04:52:25.00159Z",
          "shell.execute_reply.started": "2021-10-03T04:52:24.984151Z"
        },
        "id": "8f17bd02"
      },
      "outputs": [],
      "source": [
        "def MyModel(input_shape=(32, 32, 3), num_classes=10, print_summary=True):\n",
        "\n",
        "    ###\n",
        "    ### YOUR CODE HERE\n",
        "    ###\n",
        "\n",
        "    if print_summary:\n",
        "        print(model.summary())\n",
        "    return model"
      ]
    },
    {
      "cell_type": "code",
      "execution_count": null,
      "metadata": {
        "collapsed": true,
        "execution": {
          "iopub.execute_input": "2021-10-03T04:52:25.749852Z",
          "iopub.status.busy": "2021-10-03T04:52:25.749603Z",
          "iopub.status.idle": "2021-10-03T04:52:25.89006Z",
          "shell.execute_reply": "2021-10-03T04:52:25.889363Z",
          "shell.execute_reply.started": "2021-10-03T04:52:25.749826Z"
        },
        "id": "3155110a",
        "nbgrader": {
          "grade": false,
          "locked": true,
          "solution": false
        },
        "editable": false,
        "deletable": false
      },
      "outputs": [],
      "source": [
        "# Initialize the CNN Model.\n",
        "my_model = MyModel(num_classes=dataset_config.NUM_CLASSES,\n",
        "                   print_summary=False,\n",
        "                   )"
      ]
    },
    {
      "cell_type": "code",
      "execution_count": null,
      "metadata": {
        "execution": {
          "iopub.execute_input": "2021-10-03T04:52:26.154153Z",
          "iopub.status.busy": "2021-10-03T04:52:26.153892Z",
          "iopub.status.idle": "2021-10-03T04:52:26.173946Z",
          "shell.execute_reply": "2021-10-03T04:52:26.172248Z",
          "shell.execute_reply.started": "2021-10-03T04:52:26.154126Z"
        },
        "id": "5d4bde66",
        "nbgrader": {
          "grade": false,
          "locked": true,
          "solution": false
        },
        "editable": false,
        "deletable": false
      },
      "outputs": [],
      "source": [
        "model_summary = my_model.summary()\n",
        "print(model_summary)"
      ]
    },
    {
      "cell_type": "code",
      "execution_count": null,
      "metadata": {
        "collapsed": true,
        "execution": {
          "iopub.execute_input": "2021-10-03T04:52:26.659062Z",
          "iopub.status.busy": "2021-10-03T04:52:26.658786Z",
          "iopub.status.idle": "2021-10-03T04:52:26.823641Z",
          "shell.execute_reply": "2021-10-03T04:52:26.822113Z",
          "shell.execute_reply.started": "2021-10-03T04:52:26.659034Z"
        },
        "id": "d934c03f",
        "nbgrader": {
          "grade": true,
          "grade_id": "Conv2d",
          "locked": true,
          "points": "4",
          "solution": false
        },
        "editable": false,
        "deletable": false
      },
      "outputs": [],
      "source": [
        "###\n",
        "### AUTOGRADER TEST - DO NOT REMOVE\n",
        "###\n"
      ]
    },
    {
      "cell_type": "code",
      "execution_count": null,
      "metadata": {
        "collapsed": true,
        "execution": {
          "iopub.execute_input": "2021-10-03T04:52:29.022671Z",
          "iopub.status.busy": "2021-10-03T04:52:29.022034Z",
          "iopub.status.idle": "2021-10-03T04:52:29.179504Z",
          "shell.execute_reply": "2021-10-03T04:52:29.178448Z",
          "shell.execute_reply.started": "2021-10-03T04:52:29.022634Z"
        },
        "id": "f3e5c7e1",
        "nbgrader": {
          "grade": true,
          "grade_id": "BatchNorm2d",
          "locked": true,
          "points": "3",
          "solution": false
        },
        "editable": false,
        "deletable": false
      },
      "outputs": [],
      "source": [
        "###\n",
        "### AUTOGRADER TEST - DO NOT REMOVE\n",
        "###\n"
      ]
    },
    {
      "cell_type": "code",
      "execution_count": null,
      "metadata": {
        "collapsed": true,
        "execution": {
          "iopub.execute_input": "2021-10-03T04:52:29.323083Z",
          "iopub.status.busy": "2021-10-03T04:52:29.322856Z",
          "iopub.status.idle": "2021-10-03T04:52:29.474001Z",
          "shell.execute_reply": "2021-10-03T04:52:29.472989Z",
          "shell.execute_reply.started": "2021-10-03T04:52:29.323059Z"
        },
        "id": "37c41bc0",
        "nbgrader": {
          "grade": true,
          "grade_id": "input-output",
          "locked": true,
          "points": "3",
          "solution": false
        },
        "editable": false,
        "deletable": false
      },
      "outputs": [],
      "source": [
        "###\n",
        "### AUTOGRADER TEST - DO NOT REMOVE\n",
        "###\n"
      ]
    },
    {
      "cell_type": "markdown",
      "metadata": {
        "id": "bad22156",
        "nbgrader": {
          "grade": false,
          "locked": true,
          "solution": false
        },
        "editable": false,
        "deletable": false
      },
      "source": [
        "## 6 Model Training"
      ]
    },
    {
      "cell_type": "code",
      "execution_count": null,
      "metadata": {
        "collapsed": true,
        "execution": {
          "iopub.execute_input": "2021-10-03T04:36:23.913193Z",
          "iopub.status.busy": "2021-10-03T04:36:23.912845Z",
          "iopub.status.idle": "2021-10-03T04:36:23.947451Z",
          "shell.execute_reply": "2021-10-03T04:36:23.9463Z",
          "shell.execute_reply.started": "2021-10-03T04:36:23.91316Z"
        },
        "id": "95c94be6",
        "nbgrader": {
          "grade": true,
          "grade_id": "Accuracy",
          "locked": true,
          "points": "15",
          "solution": false
        },
        "editable": false,
        "deletable": false
      },
      "outputs": [],
      "source": [
        "###\n",
        "### AUTOGRADER TEST - DO NOT REMOVE\n",
        "###\n"
      ]
    },
    {
      "cell_type": "code",
      "execution_count": null,
      "metadata": {
        "collapsed": true,
        "id": "_imp9lJ2Vaji",
        "nbgrader": {
          "grade": false,
          "locked": true,
          "solution": false
        },
        "editable": false,
        "deletable": false
      },
      "outputs": [],
      "source": [
        "if is_training:\n",
        "\n",
        "    if dataset == 1:\n",
        "        checkpoint_callback = tf.keras.callbacks.ModelCheckpoint(\"models/cifar10_cnn_model.h5\", monitor= \"val_accuracy\",\n",
        "                                                       save_best_only=True, mode= \"max\")\n",
        "    else:\n",
        "        checkpoint_callback = tf.keras.callbacks.ModelCheckpoint(\"models/cifar100_cnn_model.h5\", monitor= \"val_accuracy\",\n",
        "                                                       save_best_only=True, mode= \"max\")\n",
        "    # Compile the model.\n",
        "    my_model.compile(tf.keras.optimizers.SGD(learning_rate=training_config.LEARNING_RATE, momentum=0.9),\n",
        "                 loss=tf.keras.losses.CategoricalCrossentropy(from_logits=True),\n",
        "                 metrics=[\"accuracy\"],\n",
        "                )\n",
        "\n",
        "    # Train the model.\n",
        "    training_results = my_model.fit(X_train,\n",
        "                                    y_train,\n",
        "                                    epochs=training_config.EPOCHS,\n",
        "                                    batch_size=training_config.BATCH_SIZE,\n",
        "                                    validation_data=(X_valid, y_valid),\n",
        "                                    callbacks=[checkpoint_callback,]\n",
        "                                    )\n"
      ]
    },
    {
      "cell_type": "markdown",
      "metadata": {
        "id": "6a73ea4a",
        "nbgrader": {
          "grade": false,
          "locked": true,
          "solution": false
        },
        "editable": false,
        "deletable": false
      },
      "source": [
        "## 7 Plot Training Loss and Accuracy"
      ]
    },
    {
      "cell_type": "code",
      "execution_count": null,
      "metadata": {
        "collapsed": true,
        "execution": {
          "iopub.execute_input": "2021-10-03T05:05:45.204674Z",
          "iopub.status.busy": "2021-10-03T05:05:45.203996Z",
          "iopub.status.idle": "2021-10-03T05:05:45.805409Z",
          "shell.execute_reply": "2021-10-03T05:05:45.804718Z",
          "shell.execute_reply.started": "2021-10-03T05:05:45.204638Z"
        },
        "id": "851f14b5",
        "nbgrader": {
          "grade": false,
          "locked": true,
          "solution": false
        },
        "editable": false,
        "deletable": false
      },
      "outputs": [],
      "source": [
        "# Plot loss.\n",
        "if is_training:\n",
        "\n",
        "    plt.figure(figsize=[15,5])\n",
        "\n",
        "    # Loss plots.\n",
        "    plt.plot(training_results.history['loss'], 'g')\n",
        "    plt.plot(training_results.history['val_loss'], 'b')\n",
        "\n",
        "    plt.xlim([0.0, training_config.EPOCHS-1])\n",
        "    plt.xlabel('Epochs')\n",
        "    plt.ylabel('Loss')\n",
        "\n",
        "    plt.legend(['Training', 'Validation'], loc='upper right');\n",
        "    plt.grid(True)\n",
        "    plt.show(block=block_plot)"
      ]
    },
    {
      "cell_type": "code",
      "execution_count": null,
      "metadata": {
        "collapsed": true,
        "execution": {
          "iopub.execute_input": "2021-10-03T05:05:48.954102Z",
          "iopub.status.busy": "2021-10-03T05:05:48.953388Z",
          "iopub.status.idle": "2021-10-03T05:05:49.170323Z",
          "shell.execute_reply": "2021-10-03T05:05:49.169658Z",
          "shell.execute_reply.started": "2021-10-03T05:05:48.954065Z"
        },
        "id": "f898bf3f",
        "nbgrader": {
          "grade": false,
          "locked": true,
          "solution": false
        },
        "editable": false,
        "deletable": false
      },
      "outputs": [],
      "source": [
        "# Plot accuracy.\n",
        "if is_training:\n",
        "\n",
        "    plt.figure(figsize=[15,5])\n",
        "\n",
        "    # Loss plots.\n",
        "    plt.plot(training_results.history['accuracy'], 'g')\n",
        "    plt.plot(training_results.history['val_accuracy'], 'b')\n",
        "\n",
        "    plt.xlim([0.0, training_config.EPOCHS-1])\n",
        "    plt.ylim([0.0, 1])\n",
        "    plt.xlabel('Epochs')\n",
        "    plt.ylabel('Accuracy')\n",
        "\n",
        "    plt.legend(['Training', 'Validation'], loc='upper right');\n",
        "    plt.grid(True)\n",
        "    plt.show(block=block_plot)"
      ]
    },
    {
      "cell_type": "markdown",
      "metadata": {
        "id": "d81b1b4f",
        "nbgrader": {
          "grade": false,
          "locked": true,
          "solution": false
        },
        "editable": false,
        "deletable": false
      },
      "source": [
        "## 8 Prediction"
      ]
    },
    {
      "cell_type": "code",
      "execution_count": null,
      "metadata": {
        "collapsed": true,
        "execution": {
          "iopub.execute_input": "2021-10-03T05:05:55.154396Z",
          "iopub.status.busy": "2021-10-03T05:05:55.154143Z",
          "iopub.status.idle": "2021-10-03T05:05:55.383099Z",
          "shell.execute_reply": "2021-10-03T05:05:55.382419Z",
          "shell.execute_reply.started": "2021-10-03T05:05:55.154368Z"
        },
        "id": "e52f4f66",
        "nbgrader": {
          "grade": false,
          "locked": true,
          "solution": false
        },
        "editable": false,
        "deletable": false
      },
      "outputs": [],
      "source": [
        "# Load the saved model.\n",
        "if dataset == 1:\n",
        "    cnn_model = tf.keras.models.load_model('models/cifar10_cnn_model.h5')\n",
        "else:\n",
        "    cnn_model = tf.keras.models.load_model('models/cifar100_cnn_model.h5')"
      ]
    },
    {
      "cell_type": "code",
      "execution_count": null,
      "metadata": {
        "execution": {
          "iopub.execute_input": "2021-10-03T02:53:59.957327Z",
          "iopub.status.busy": "2021-10-03T02:53:59.956727Z",
          "iopub.status.idle": "2021-10-03T02:53:59.980183Z",
          "shell.execute_reply": "2021-10-03T02:53:59.979508Z",
          "shell.execute_reply.started": "2021-10-03T02:53:59.957289Z"
        },
        "id": "922a2460",
        "nbgrader": {
          "grade": false,
          "locked": true,
          "solution": false
        },
        "editable": false,
        "deletable": false
      },
      "outputs": [],
      "source": [
        "cnn_model.summary()"
      ]
    },
    {
      "cell_type": "code",
      "execution_count": null,
      "metadata": {
        "id": "F2aN3JyTVajk",
        "nbgrader": {
          "grade": false,
          "locked": true,
          "solution": false
        },
        "editable": false,
        "deletable": false
      },
      "outputs": [],
      "source": [
        "# Preprocess dataset.\n",
        "((_, _),(X_valid, y_valid),) = preprocess_dataset((X_train_0, y_train_0),\n",
        "                                                (X_valid_0, y_valid_0),\n",
        "\n",
        "                                                num_classes=dataset_config.NUM_CLASSES,\n",
        "                                               )\n",
        "\n",
        "predictions = cnn_model.evaluate(X_valid, y_valid)\n",
        "print(f\"Validation accuracy: {predictions[1]*100:.3f}%\")"
      ]
    },
    {
      "cell_type": "markdown",
      "metadata": {
        "id": "d940afd9",
        "nbgrader": {
          "grade": false,
          "locked": true,
          "solution": false
        },
        "editable": false,
        "deletable": false
      },
      "source": [
        "## 9 Inference"
      ]
    },
    {
      "cell_type": "code",
      "execution_count": null,
      "metadata": {
        "execution": {
          "iopub.execute_input": "2021-10-03T02:54:16.136495Z",
          "iopub.status.busy": "2021-10-03T02:54:16.136107Z",
          "iopub.status.idle": "2021-10-03T02:54:19.566142Z",
          "shell.execute_reply": "2021-10-03T02:54:19.56548Z",
          "shell.execute_reply.started": "2021-10-03T02:54:16.136456Z"
        },
        "id": "c993d5a3",
        "nbgrader": {
          "grade": false,
          "locked": true,
          "solution": false
        },
        "scrolled": false,
        "editable": false,
        "deletable": false
      },
      "outputs": [],
      "source": [
        "y_pred = cnn_model.predict(X_valid)\n",
        "\n",
        "plt.figure(figsize=(20, 18))\n",
        "num_rows = 5\n",
        "num_cols = 4\n",
        "\n",
        "for idx in range(num_rows*num_cols):\n",
        "\n",
        "    random_sample = np.random.randint(0, 10000, 1)[0]\n",
        "    plt.subplot(num_rows, num_cols, idx + 1)\n",
        "    plt.axis('off')\n",
        "    plt.imshow(X_valid_0[random_sample])\n",
        "    gt_class = class_names[int(y_valid_0[random_sample])]\n",
        "    pred_class = class_names[np.argmax(y_pred[random_sample])]\n",
        "\n",
        "    title = 'True: ' + str(gt_class) + '; Pred: ' + str(pred_class)\n",
        "    title_obj = plt.title(title, fontdict={'fontsize':16})\n",
        "\n",
        "    if gt_class == pred_class:\n",
        "        plt.setp(title_obj, color='g')\n",
        "    else:\n",
        "        plt.setp(title_obj, color='r')\n",
        "\n",
        "    plt.tight_layout()\n",
        "    plt.subplots_adjust(left=0.2, right=1.0, wspace=0.1, hspace=0.2)\n",
        "\n",
        "plt.show(block=block_plot)"
      ]
    },
    {
      "cell_type": "markdown",
      "metadata": {
        "id": "65713d51"
      },
      "source": [
        "## 10 Report Your Findings\n",
        "* ...\n",
        "* ..."
      ]
    }
  ],
  "metadata": {
    "accelerator": "GPU",
    "colab": {
      "provenance": [],
      "include_colab_link": true
    },
    "kernelspec": {
      "display_name": "Python 3.8",
      "language": "python",
      "name": "python38"
    },
    "language_info": {
      "codemirror_mode": {
        "name": "ipython",
        "version": 3
      },
      "file_extension": ".py",
      "mimetype": "text/x-python",
      "name": "python",
      "nbconvert_exporter": "python",
      "pygments_lexer": "ipython3",
      "version": "3.8.7"
    }
  },
  "nbformat": 4,
  "nbformat_minor": 0
}