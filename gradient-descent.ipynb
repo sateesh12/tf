{
 "cells": [
  {
   "cell_type": "code",
   "execution_count": null,
   "id": "5f532ecb",
   "metadata": {},
   "outputs": [],
   "source": [
    "!pip install matplotlib"
   ]
  },
  {
   "cell_type": "code",
   "execution_count": null,
   "id": "dbf3b1ac",
   "metadata": {},
   "outputs": [],
   "source": [
    "\n",
    "import numpy as np\n",
    "import tensorflow as tf\n",
    "import matplotlib.pyplot as plt\n",
    "plt.style.use('ggplot')\n",
    "plt.rcParams[\"figure.figsize\"] = (15, 6)\n",
    "plt.rcParams['axes.titlesize'] = 16\n",
    "plt.rcParams['axes.labelsize'] = 14\n",
    "block_plot = False\n",
    "\n",
    "print(tf.__version__)\n",
    "\n",
    "def create_data():\n",
    "    \"\"\"Creating a row of data for x and y\"\"\"\n",
    "    \"\"\"input = None\"\"\"\n",
    "    \"\"\"output = a tensor of x and y values\"\"\"\n",
    "    tf.random.set_seed(42)\n",
    "    num_data_points = 30\n",
    "    x = 10 * tf.random.uniform(shape=[num_data_points])\n",
    "    y = x + tf.random.uniform(minval=0,shape=[num_data_points])\n",
    "    return x,y\n",
    "    "
   ]
  },
  {
   "cell_type": "code",
   "execution_count": null,
   "id": "ad96021a",
   "metadata": {},
   "outputs": [],
   "source": [
    "# Create the data and look at it.\n",
    "x,y = create_data()\n",
    "print(x,y)\n"
   ]
  },
  {
   "cell_type": "code",
   "execution_count": null,
   "id": "ef5e25ca",
   "metadata": {},
   "outputs": [],
   "source": [
    "# Look at max and min values on the X tensor\n",
    "xmin = tf.reduce_min(x)\n",
    "xmax = tf.reduce_max(x)\n",
    "print(\"xmin:\",xmin,'\\n',\"xmax:\",xmax)"
   ]
  },
  {
   "cell_type": "code",
   "execution_count": null,
   "id": "71c6482c",
   "metadata": {},
   "outputs": [],
   "source": [
    "# Prep to plot\n",
    "xplot = np.linspace(xmin,xmax,2)\n",
    "m0 = 2\n",
    "yplot = m0 * xplot \n",
    "print(xplot,yplot)"
   ]
  },
  {
   "cell_type": "code",
   "execution_count": null,
   "id": "0c2b8e4d",
   "metadata": {},
   "outputs": [],
   "source": [
    "# Now plotting \n",
    "plt.figure\n",
    "plt.scatter(x,y,color='blue',s=20)\n",
    "plt.xlabel('x')\n",
    "plt.ylabel('y')\n",
    "plt.plot(xplot,yplot,'c--')\n",
    "plt.title('Initial line')\n",
    "plt.xlim(0,10)\n",
    "plt.ylim(0,10)\n",
    "plt.show(block=block_plot)"
   ]
  },
  {
   "cell_type": "code",
   "execution_count": null,
   "id": "97b1cb73",
   "metadata": {},
   "outputs": [],
   "source": [
    "# The main aim is we have two large set of points, X being the independent varaible and Y=f(x), \n",
    "# The assumption is f(x) is y = mx\n",
    "# Below are the brute force values for slope m\n",
    "min_value = 0.0\n",
    "max_value = 2.0\n",
    "num_steps = 50\n",
    "step_size = (max_value - min_value)/(num_steps - 1)\n",
    "\n",
    "# Tensor to store all trial values of m and loss values\n",
    "m = tf.Variable(tf.zeros(shape=[num_steps]))\n",
    "loss = tf.Variable(tf.zeros(shape=[num_steps]))\n",
    "print(m,loss)\n",
    "\n",
    "# Iterate with different values of m\n",
    "for i in range(0,num_steps):\n",
    "    m[i].assign(min_value + i * step_size)\n",
    "    error = y - m[i] * x  # The tensors are operated with a single expression, no iteration nothing.\n",
    "    loss[i].assign(tf.reduce_sum(tf.multiply(error, error)) / len(x))\n",
    "\n",
    "# Find min loss value\n",
    "i = tf.argmin(loss)\n",
    "\n",
    "# Find the correspnding slope value\n",
    "m_best = m[i].numpy()\n",
    "\n",
    "# Find the error at that point\n",
    "error_best = loss[i].numpy()\n",
    "\n",
    "# Print\n",
    "print(\"Best value of slope based on brute force:\", m_best)"
   ]
  },
  {
   "cell_type": "code",
   "execution_count": null,
   "id": "932fc742",
   "metadata": {},
   "outputs": [],
   "source": [
    "plt.figure\n",
    "plt.xlabel('slope')\n",
    "plt.ylabel('error')\n",
    "plt.plot(m.numpy(),loss.numpy(),'c--')\n",
    "plt.title('Slope vs loss line')\n",
    "plt.show(block=block_plot)"
   ]
  },
  {
   "cell_type": "code",
   "execution_count": null,
   "id": "7e8c95b8",
   "metadata": {},
   "outputs": [],
   "source": [
    "# Simple gradient descent\n",
    "num_iter0 = 150\n",
    "lr0 = 0.005\n",
    "\n",
    "# Guess for slope\n",
    "m0 = 2\n",
    "max_loss = 30\n",
    "\n",
    "# Data structures needed for computations\n",
    "loss_gd = tf.Variable(tf.zeros(shape=[num_iter0]))\n",
    "\n",
    "# Initialize the control system\n",
    "num_iter = num_iter0\n",
    "m = m0\n",
    "lr = lr0\n",
    "                      \n",
    "# Start computing loss\n",
    "for i in range(0, num_iter):\n",
    "    g = -2 * tf.reduce_sum(x * (y - m * x))/len(x)\n",
    "    m = m - lr * g\n",
    "    e = y - m * x\n",
    "    loss_gd[i].assign(tf.reduce_sum(tf.multiply(e,e))/len(x))\n",
    "\n",
    "m_best = m.numpy()\n",
    "\n",
    "                      \n",
    "print('Minimum loss:', loss_gd[-1].numpy())\n",
    "print('Best slope:',m_best)\n"
   ]
  },
  {
   "cell_type": "code",
   "execution_count": null,
   "id": "998d99a5",
   "metadata": {},
   "outputs": [],
   "source": [
    "plt.figure\n",
    "plt.xlabel('iteration')\n",
    "plt.ylabel('loss')\n",
    "plt.plot(loss_gd.numpy(),'c--')\n",
    "plt.title('iterations vs loss line')\n",
    "plt.show(block=block_plot)"
   ]
  },
  {
   "cell_type": "code",
   "execution_count": 61,
   "id": "32b6e2b7",
   "metadata": {},
   "outputs": [
    {
     "name": "stdout",
     "output_type": "stream",
     "text": [
      "dy_dx 8.0\n"
     ]
    }
   ],
   "source": [
    "# Gradient tape\n",
    "x = tf.Variable(4.0)\n",
    "with tf.GradientTape() as tape:\n",
    "    y = x * x\n",
    "\n",
    "dy_dx = tape.gradient(y,x)\n",
    "print('dy_dx',dy_dx.numpy())"
   ]
  },
  {
   "cell_type": "code",
   "execution_count": null,
   "id": "4730728f",
   "metadata": {},
   "outputs": [],
   "source": []
  }
 ],
 "metadata": {
  "kernelspec": {
   "display_name": "Python 3 (ipykernel)",
   "language": "python",
   "name": "python3"
  },
  "language_info": {
   "codemirror_mode": {
    "name": "ipython",
    "version": 3
   },
   "file_extension": ".py",
   "mimetype": "text/x-python",
   "name": "python",
   "nbconvert_exporter": "python",
   "pygments_lexer": "ipython3",
   "version": "3.11.4"
  }
 },
 "nbformat": 4,
 "nbformat_minor": 5
}
