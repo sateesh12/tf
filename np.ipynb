{
 "cells": [
  {
   "cell_type": "code",
   "execution_count": null,
   "id": "47a1ed67",
   "metadata": {},
   "outputs": [],
   "source": [
    "import numpy as np"
   ]
  },
  {
   "cell_type": "code",
   "execution_count": null,
   "id": "c64a54d7",
   "metadata": {},
   "outputs": [],
   "source": [
    "single_row = np.array([0,1,2,3])\n",
    "print(single_row.shape)\n",
    "new = np.expand_dims(single_row,axis=0)\n",
    "print(\"expansion on axis 0\",new.shape)\n",
    "new = np.expand_dims(single_row,axis=1)\n",
    "print(\"expansion on axis 1\",new.shape)\n",
    "#new = np.expand_dims(single_row,axis=2)\n",
    "#print(\"expansion on axis 2\",new.shape)"
   ]
  },
  {
   "cell_type": "code",
   "execution_count": null,
   "id": "4a41a71d",
   "metadata": {},
   "outputs": [],
   "source": [
    "two_rows_two_columns_matrix = np.array([[0,1],[2,3]])\n",
    "#two_rows_two_columns_matrix.shape\n",
    "np.expand_dims(two_rows_two_columns_matrix,axis=2)\n",
    "print(\"un-changed\",two_rows_two_columns_matrix.shape)\n",
    "new = np.expand_dims(two_rows_two_columns_matrix,axis=0)\n",
    "print(\"expansion on axis 0\",new.shape)\n",
    "new = np.expand_dims(two_rows_two_columns_matrix,axis=1)\n",
    "print(\"expansion on axis 1\",new.shape)\n",
    "new = np.expand_dims(two_rows_two_columns_matrix,axis=2)\n",
    "print(\"expansion on axis 2\",new.shape)"
   ]
  },
  {
   "cell_type": "code",
   "execution_count": null,
   "id": "a464ccc0",
   "metadata": {},
   "outputs": [],
   "source": [
    "three_cross_tree_2d_matrix = np.array([[0,1,2],[3,4,5],[6,7,8]])\n",
    "three_cross_tree_2d_matrix.shape"
   ]
  },
  {
   "cell_type": "code",
   "execution_count": null,
   "id": "40ab2fc9",
   "metadata": {},
   "outputs": [],
   "source": [
    "two_cross_two_3d_matrix = np.array([[[0,1],[2,3]],\n",
    "                                    [[5,6],[7,8]],\n",
    "                                    [[9,10],[11,12]]])\n",
    "two_cross_two_3d_matrix.shape"
   ]
  },
  {
   "cell_type": "code",
   "execution_count": null,
   "id": "42183632",
   "metadata": {},
   "outputs": [],
   "source": []
  }
 ],
 "metadata": {
  "kernelspec": {
   "display_name": "Python 3 (ipykernel)",
   "language": "python",
   "name": "python3"
  },
  "language_info": {
   "codemirror_mode": {
    "name": "ipython",
    "version": 3
   },
   "file_extension": ".py",
   "mimetype": "text/x-python",
   "name": "python",
   "nbconvert_exporter": "python",
   "pygments_lexer": "ipython3",
   "version": "3.11.4"
  }
 },
 "nbformat": 4,
 "nbformat_minor": 5
}
