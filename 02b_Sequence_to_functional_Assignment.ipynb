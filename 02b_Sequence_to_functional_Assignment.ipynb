{
  "cells": [
    {
      "cell_type": "markdown",
      "metadata": {
        "id": "view-in-github",
        "colab_type": "text"
      },
      "source": [
        "<a href=\"https://colab.research.google.com/github/sateesh12/tf/blob/main/02b_Sequence_to_functional_Assignment.ipynb\" target=\"_parent\"><img src=\"https://colab.research.google.com/assets/colab-badge.svg\" alt=\"Open In Colab\"/></a>"
      ]
    },
    {
      "cell_type": "markdown",
      "metadata": {
        "id": "9NBZv2urgQJW",
        "nbgrader": {
          "grade": false,
          "locked": true,
          "solution": false
        },
        "editable": false,
        "deletable": false
      },
      "source": [
        "# Sequential to Functional Assignment\n",
        "\n",
        "The Keras sequential model is one of the easiest ways to create a model. However, by using it, one can not create all kinds of models. For example, a model that has two output heads (such models is very common in object detection).\n",
        "\n",
        "\n",
        "In this assignment, you have to implement a function that takes and sequential model and converts it to a functional model."
      ]
    },
    {
      "cell_type": "markdown",
      "metadata": {
        "id": "QRgZHb3GgdhF",
        "nbgrader": {
          "grade": false,
          "locked": true,
          "solution": false
        },
        "editable": false,
        "deletable": false
      },
      "source": [
        "### Maximum Points: 30\n",
        "\n",
        "| Section | Problem | Points |\n",
        "|:------:|:--------|:------:|\n",
        "|   1   | Sequential to Functional Model | 30 |"
      ]
    },
    {
      "cell_type": "markdown",
      "metadata": {
        "id": "OfyP8KiriMSQ",
        "nbgrader": {
          "grade": false,
          "locked": true,
          "solution": false
        },
        "editable": false,
        "deletable": false
      },
      "source": [
        "## Sequential to Functional Model [30 points]\n",
        "\n",
        "You must complete the function `sequential_to_functional_model` that takes a sequential model and input shape and returns a functional model with the same layers and weights."
      ]
    },
    {
      "cell_type": "code",
      "execution_count": 3,
      "metadata": {
        "collapsed": true,
        "id": "o9Kspcjy1Rz6",
        "nbgrader": {
          "grade": false,
          "locked": true,
          "solution": false
        },
        "editable": false,
        "deletable": false
      },
      "outputs": [],
      "source": [
        "import tensorflow as tf\n",
        "from keras import layers, models"
      ]
    },
    {
      "cell_type": "code",
      "execution_count": 4,
      "metadata": {
        "collapsed": true,
        "id": "mbrn5gwfVpn2"
      },
      "outputs": [],
      "source": [
        "def sequential_to_functional_model(sequential_model, input_shape):\n",
        "    \"\"\"\n",
        "    This function will take Keras's sequential model and input shape and\n",
        "    returns the functional model, which has the same layers and the same\n",
        "    number of weights.\n",
        "\n",
        "    sequential_model (keras.engine.sequential.Sequential): Keras sequential model\n",
        "\n",
        "    input_shape (tuple): Input shape of the model without batch dimension.\n",
        "    For example, if the first layer is a dense layer and the number of input\n",
        "    features is four, then the input shape is (4,)\n",
        "\n",
        "    return (keras.engine.functional.Functional): returns a functional model\n",
        "\n",
        "    \"\"\"\n",
        "\n",
        "    functional_model = None\n",
        "    input_layer = layers.Input(batch_shape=sequential_model.layers[0].input_shape)\n",
        "    prev_layer = input_layer\n",
        "    for layer in sequential_model.layers:\n",
        "        prev_layer = layer(prev_layer)\n",
        "\n",
        "    functional_model = models.Model([input_layer], [prev_layer])\n",
        "\n",
        "    ###\n",
        "    ### YOUR CODE HERE\n",
        "    ###\n",
        "    return functional_model"
      ]
    },
    {
      "cell_type": "markdown",
      "metadata": {
        "id": "lMFCsVA6xPVU",
        "nbgrader": {
          "grade": false,
          "locked": true,
          "solution": false
        },
        "editable": false,
        "deletable": false
      },
      "source": [
        "**Test your code before submitting it using the code cell below.**\n",
        "\n",
        "**For the given input:**\n",
        "\n",
        "```python\n",
        "sequential_model = model = tf.keras.Sequential(\n",
        "    [   \n",
        "        tf.keras.layers.Conv2D(filters=5,kernel_size=3,padding=\"valid\",activation='relu',name=\"conv_3x3\"),\n",
        "        tf.keras.layers.MaxPool2D(),\n",
        "        tf.keras.layers.Flatten(),\n",
        "        tf.keras.layers.Dense(2, activation=\"relu\", name='Dense_1'),\n",
        "        tf.keras.layers.Dense(4, name=\"Dense_3\"),\n",
        "    ],\n",
        "    name = \"sequential_model\"\n",
        ")  \n",
        "\n",
        "input_shape = (10,10,1)\n",
        "\n",
        "functional_model = sequential_to_functional_model(sequential_model,\n",
        "                                                  input_shape)\n",
        "functional_model.summary()\n",
        "print(\"Model Type: {}, number_params: {}\".format(type(functional_model),\n",
        "                                                functional_model.count_params()))\n",
        "```\n",
        "\n",
        "**Output:**\n",
        "```\n",
        "Model: \"functional_model\"\n",
        "_________________________________________________________________\n",
        " Layer (type)                Output Shape              Param #   \n",
        "=================================================================\n",
        " input (InputLayer)          [(None, 10, 10, 1)]       0         \n",
        "                                                                 \n",
        " conv_3x3 (Conv2D)           (None, 8, 8, 5)           50        \n",
        "                                                                 \n",
        " max_pooling2d_1 (MaxPooling  (None, 4, 4, 5)          0         \n",
        " 2D)                                                             \n",
        "                                                                 \n",
        " flatten_1 (Flatten)         (None, 80)                0         \n",
        "                                                                 \n",
        " Dense_1 (Dense)             (None, 2)                 162       \n",
        "                                                                 \n",
        " Dense_3 (Dense)             (None, 4)                 12        \n",
        "                                                                 \n",
        "=================================================================\n",
        "Total params: 224\n",
        "Trainable params: 224\n",
        "Non-trainable params: 0\n",
        "_________________________________________________________________\n",
        "Model Type: <class 'keras.engine.functional.Functional'>, number_params: 224\n",
        "```\n",
        "\n",
        "**Note that for the given arguments, the outout model type must be `<class 'keras.engine.functional.Functional'>`, and the number of params must be `224`.**"
      ]
    },
    {
      "cell_type": "code",
      "execution_count": 5,
      "metadata": {
        "colab": {
          "base_uri": "https://localhost:8080/",
          "height": 423
        },
        "id": "OR3ik16i6AAL",
        "nbgrader": {
          "grade": false,
          "locked": true,
          "solution": false
        },
        "outputId": "bd1149ba-34d7-457c-ec5a-daa928ccf43d",
        "editable": false,
        "deletable": false
      },
      "outputs": [
        {
          "output_type": "error",
          "ename": "AttributeError",
          "evalue": "ignored",
          "traceback": [
            "\u001b[0;31m---------------------------------------------------------------------------\u001b[0m",
            "\u001b[0;31mAttributeError\u001b[0m                            Traceback (most recent call last)",
            "\u001b[0;32m<ipython-input-5-e4e2710fa5c5>\u001b[0m in \u001b[0;36m<cell line: 14>\u001b[0;34m()\u001b[0m\n\u001b[1;32m     12\u001b[0m \u001b[0minput_shape\u001b[0m \u001b[0;34m=\u001b[0m \u001b[0;34m(\u001b[0m\u001b[0;36m10\u001b[0m\u001b[0;34m,\u001b[0m\u001b[0;36m10\u001b[0m\u001b[0;34m,\u001b[0m\u001b[0;36m1\u001b[0m\u001b[0;34m)\u001b[0m\u001b[0;34m\u001b[0m\u001b[0;34m\u001b[0m\u001b[0m\n\u001b[1;32m     13\u001b[0m \u001b[0;34m\u001b[0m\u001b[0m\n\u001b[0;32m---> 14\u001b[0;31m functional_model = sequential_to_functional_model(sequential_model, \n\u001b[0m\u001b[1;32m     15\u001b[0m                                                   input_shape)\n\u001b[1;32m     16\u001b[0m \u001b[0mfunctional_model\u001b[0m\u001b[0;34m.\u001b[0m\u001b[0msummary\u001b[0m\u001b[0;34m(\u001b[0m\u001b[0;34m)\u001b[0m\u001b[0;34m\u001b[0m\u001b[0;34m\u001b[0m\u001b[0m\n",
            "\u001b[0;32m<ipython-input-4-1a80345172e4>\u001b[0m in \u001b[0;36msequential_to_functional_model\u001b[0;34m(sequential_model, input_shape)\u001b[0m\n\u001b[1;32m     16\u001b[0m \u001b[0;34m\u001b[0m\u001b[0m\n\u001b[1;32m     17\u001b[0m     \u001b[0mfunctional_model\u001b[0m \u001b[0;34m=\u001b[0m \u001b[0;32mNone\u001b[0m\u001b[0;34m\u001b[0m\u001b[0;34m\u001b[0m\u001b[0m\n\u001b[0;32m---> 18\u001b[0;31m     \u001b[0minput_layer\u001b[0m \u001b[0;34m=\u001b[0m \u001b[0mlayers\u001b[0m\u001b[0;34m.\u001b[0m\u001b[0mInput\u001b[0m\u001b[0;34m(\u001b[0m\u001b[0mbatch_shape\u001b[0m\u001b[0;34m=\u001b[0m\u001b[0msequential_model\u001b[0m\u001b[0;34m.\u001b[0m\u001b[0mlayers\u001b[0m\u001b[0;34m[\u001b[0m\u001b[0;36m0\u001b[0m\u001b[0;34m]\u001b[0m\u001b[0;34m.\u001b[0m\u001b[0minput_shape\u001b[0m\u001b[0;34m)\u001b[0m\u001b[0;34m\u001b[0m\u001b[0;34m\u001b[0m\u001b[0m\n\u001b[0m\u001b[1;32m     19\u001b[0m     \u001b[0mprev_layer\u001b[0m \u001b[0;34m=\u001b[0m \u001b[0minput_layer\u001b[0m\u001b[0;34m\u001b[0m\u001b[0;34m\u001b[0m\u001b[0m\n\u001b[1;32m     20\u001b[0m     \u001b[0;32mfor\u001b[0m \u001b[0mlayer\u001b[0m \u001b[0;32min\u001b[0m \u001b[0msequential_model\u001b[0m\u001b[0;34m.\u001b[0m\u001b[0mlayers\u001b[0m\u001b[0;34m:\u001b[0m\u001b[0;34m\u001b[0m\u001b[0;34m\u001b[0m\u001b[0m\n",
            "\u001b[0;32m/usr/local/lib/python3.10/dist-packages/keras/engine/base_layer.py\u001b[0m in \u001b[0;36minput_shape\u001b[0;34m(self)\u001b[0m\n\u001b[1;32m   2121\u001b[0m         \"\"\"\n\u001b[1;32m   2122\u001b[0m         \u001b[0;32mif\u001b[0m \u001b[0;32mnot\u001b[0m \u001b[0mself\u001b[0m\u001b[0;34m.\u001b[0m\u001b[0m_inbound_nodes\u001b[0m\u001b[0;34m:\u001b[0m\u001b[0;34m\u001b[0m\u001b[0;34m\u001b[0m\u001b[0m\n\u001b[0;32m-> 2123\u001b[0;31m             raise AttributeError(\n\u001b[0m\u001b[1;32m   2124\u001b[0m                 \u001b[0;34mf'The layer \"{self.name}\" has never been called '\u001b[0m\u001b[0;34m\u001b[0m\u001b[0;34m\u001b[0m\u001b[0m\n\u001b[1;32m   2125\u001b[0m                 \u001b[0;34m\"and thus has no defined input shape. Note that the \"\u001b[0m\u001b[0;34m\u001b[0m\u001b[0;34m\u001b[0m\u001b[0m\n",
            "\u001b[0;31mAttributeError\u001b[0m: The layer \"conv_3x3\" has never been called and thus has no defined input shape. Note that the `input_shape` property is only available for Functional and Sequential models."
          ]
        }
      ],
      "source": [
        "sequential_model = model = tf.keras.Sequential(\n",
        "    [\n",
        "        tf.keras.layers.Conv2D(filters=5, kernel_size=3, padding=\"valid\", activation='relu', name=\"conv_3x3\"),\n",
        "        tf.keras.layers.MaxPool2D(),\n",
        "        tf.keras.layers.Flatten(),\n",
        "        tf.keras.layers.Dense(2, activation=\"relu\", name='Dense_1'),\n",
        "        tf.keras.layers.Dense(4, name=\"Dense_3\"),\n",
        "    ],\n",
        "    name = \"sequential_model\"\n",
        ")\n",
        "\n",
        "input_shape = (10,10,1)\n",
        "\n",
        "functional_model = sequential_to_functional_model(sequential_model,\n",
        "                                                  input_shape)\n",
        "functional_model.summary()\n",
        "print(\"Model Type: {}, number_params: {}\".format(type(functional_model),\n",
        "                                                functional_model.count_params()))"
      ]
    },
    {
      "cell_type": "code",
      "execution_count": 7,
      "metadata": {
        "collapsed": true,
        "id": "HcJHQB_kMG5y",
        "nbgrader": {
          "grade": true,
          "grade_id": "Functional API",
          "locked": true,
          "points": "30",
          "solution": false
        },
        "editable": false,
        "deletable": false
      },
      "outputs": [],
      "source": [
        "###\n",
        "### AUTOGRADER TEST - DO NOT REMOVE\n",
        "###\n"
      ]
    }
  ],
  "metadata": {
    "colab": {
      "provenance": [],
      "include_colab_link": true
    },
    "kernelspec": {
      "display_name": "Python 3.8",
      "language": "python",
      "name": "python38"
    },
    "language_info": {
      "codemirror_mode": {
        "name": "ipython",
        "version": 3
      },
      "file_extension": ".py",
      "mimetype": "text/x-python",
      "name": "python",
      "nbconvert_exporter": "python",
      "pygments_lexer": "ipython3",
      "version": "3.8.7"
    }
  },
  "nbformat": 4,
  "nbformat_minor": 0
}